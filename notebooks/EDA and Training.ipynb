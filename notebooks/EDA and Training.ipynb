{
 "cells": [
  {
   "cell_type": "markdown",
   "id": "4d75fcf7",
   "metadata": {},
   "source": [
    "### Thyroid Disease Detection"
   ]
  },
  {
   "cell_type": "markdown",
   "id": "b0e4ffef",
   "metadata": {},
   "source": [
    "**Problem Statement:** Thyroid disease is a common cause of medical diagnosis and prediction, with an onset that is difficult to forecast in medical research. The thyroid gland is one of our body's most vital organs. Thyroid hormone releases are responsible for metabolic regulation.\n",
    "Hyperthyroidism and hypothyroidism are one of the two common diseases of the thyroid that releases thyroid hormones in regulating the rate of body's metabolism. The main goal is to predict the estimated risk on a patient's chance of obtaining thyroid disease or not."
   ]
  },
  {
   "cell_type": "code",
   "execution_count": 1,
   "id": "afeaa2c8",
   "metadata": {},
   "outputs": [],
   "source": [
    "import pandas as pd"
   ]
  },
  {
   "cell_type": "code",
   "execution_count": 2,
   "id": "fd408deb",
   "metadata": {},
   "outputs": [],
   "source": [
    "import numpy as np\n",
    "import pandas as pd\n",
    "import matplotlib.pyplot as plt\n",
    "import statsmodels.api as sm\n",
    "import seaborn as sns\n",
    "\n",
    "%matplotlib inline\n",
    "import warnings\n",
    "warnings.filterwarnings('ignore')"
   ]
  },
  {
   "cell_type": "markdown",
   "id": "02f55d3b",
   "metadata": {},
   "source": [
    "For classification problems\n",
    "\n",
    "    Check Null Values\n",
    "    Check Balance Data\n"
   ]
  },
  {
   "cell_type": "code",
   "execution_count": 3,
   "id": "6e01be6e",
   "metadata": {},
   "outputs": [
    {
     "data": {
      "text/html": [
       "<div>\n",
       "<style scoped>\n",
       "    .dataframe tbody tr th:only-of-type {\n",
       "        vertical-align: middle;\n",
       "    }\n",
       "\n",
       "    .dataframe tbody tr th {\n",
       "        vertical-align: top;\n",
       "    }\n",
       "\n",
       "    .dataframe thead th {\n",
       "        text-align: right;\n",
       "    }\n",
       "</style>\n",
       "<table border=\"1\" class=\"dataframe\">\n",
       "  <thead>\n",
       "    <tr style=\"text-align: right;\">\n",
       "      <th></th>\n",
       "      <th>age</th>\n",
       "      <th>sex</th>\n",
       "      <th>on thyroxine</th>\n",
       "      <th>query on thyroxine</th>\n",
       "      <th>on antithyroid medication</th>\n",
       "      <th>sick</th>\n",
       "      <th>pregnant</th>\n",
       "      <th>thyroid surgery</th>\n",
       "      <th>I131 treatment</th>\n",
       "      <th>query hypothyroid</th>\n",
       "      <th>...</th>\n",
       "      <th>TT4 measured</th>\n",
       "      <th>TT4</th>\n",
       "      <th>T4U measured</th>\n",
       "      <th>T4U</th>\n",
       "      <th>FTI measured</th>\n",
       "      <th>FTI</th>\n",
       "      <th>TBG measured</th>\n",
       "      <th>TBG</th>\n",
       "      <th>referral source</th>\n",
       "      <th>binaryClass</th>\n",
       "    </tr>\n",
       "  </thead>\n",
       "  <tbody>\n",
       "    <tr>\n",
       "      <th>0</th>\n",
       "      <td>41</td>\n",
       "      <td>F</td>\n",
       "      <td>f</td>\n",
       "      <td>f</td>\n",
       "      <td>f</td>\n",
       "      <td>f</td>\n",
       "      <td>f</td>\n",
       "      <td>f</td>\n",
       "      <td>f</td>\n",
       "      <td>f</td>\n",
       "      <td>...</td>\n",
       "      <td>t</td>\n",
       "      <td>125</td>\n",
       "      <td>t</td>\n",
       "      <td>1.14</td>\n",
       "      <td>t</td>\n",
       "      <td>109</td>\n",
       "      <td>f</td>\n",
       "      <td>?</td>\n",
       "      <td>SVHC</td>\n",
       "      <td>P</td>\n",
       "    </tr>\n",
       "    <tr>\n",
       "      <th>1</th>\n",
       "      <td>23</td>\n",
       "      <td>F</td>\n",
       "      <td>f</td>\n",
       "      <td>f</td>\n",
       "      <td>f</td>\n",
       "      <td>f</td>\n",
       "      <td>f</td>\n",
       "      <td>f</td>\n",
       "      <td>f</td>\n",
       "      <td>f</td>\n",
       "      <td>...</td>\n",
       "      <td>t</td>\n",
       "      <td>102</td>\n",
       "      <td>f</td>\n",
       "      <td>?</td>\n",
       "      <td>f</td>\n",
       "      <td>?</td>\n",
       "      <td>f</td>\n",
       "      <td>?</td>\n",
       "      <td>other</td>\n",
       "      <td>P</td>\n",
       "    </tr>\n",
       "    <tr>\n",
       "      <th>2</th>\n",
       "      <td>46</td>\n",
       "      <td>M</td>\n",
       "      <td>f</td>\n",
       "      <td>f</td>\n",
       "      <td>f</td>\n",
       "      <td>f</td>\n",
       "      <td>f</td>\n",
       "      <td>f</td>\n",
       "      <td>f</td>\n",
       "      <td>f</td>\n",
       "      <td>...</td>\n",
       "      <td>t</td>\n",
       "      <td>109</td>\n",
       "      <td>t</td>\n",
       "      <td>0.91</td>\n",
       "      <td>t</td>\n",
       "      <td>120</td>\n",
       "      <td>f</td>\n",
       "      <td>?</td>\n",
       "      <td>other</td>\n",
       "      <td>P</td>\n",
       "    </tr>\n",
       "    <tr>\n",
       "      <th>3</th>\n",
       "      <td>70</td>\n",
       "      <td>F</td>\n",
       "      <td>t</td>\n",
       "      <td>f</td>\n",
       "      <td>f</td>\n",
       "      <td>f</td>\n",
       "      <td>f</td>\n",
       "      <td>f</td>\n",
       "      <td>f</td>\n",
       "      <td>f</td>\n",
       "      <td>...</td>\n",
       "      <td>t</td>\n",
       "      <td>175</td>\n",
       "      <td>f</td>\n",
       "      <td>?</td>\n",
       "      <td>f</td>\n",
       "      <td>?</td>\n",
       "      <td>f</td>\n",
       "      <td>?</td>\n",
       "      <td>other</td>\n",
       "      <td>P</td>\n",
       "    </tr>\n",
       "    <tr>\n",
       "      <th>4</th>\n",
       "      <td>70</td>\n",
       "      <td>F</td>\n",
       "      <td>f</td>\n",
       "      <td>f</td>\n",
       "      <td>f</td>\n",
       "      <td>f</td>\n",
       "      <td>f</td>\n",
       "      <td>f</td>\n",
       "      <td>f</td>\n",
       "      <td>f</td>\n",
       "      <td>...</td>\n",
       "      <td>t</td>\n",
       "      <td>61</td>\n",
       "      <td>t</td>\n",
       "      <td>0.87</td>\n",
       "      <td>t</td>\n",
       "      <td>70</td>\n",
       "      <td>f</td>\n",
       "      <td>?</td>\n",
       "      <td>SVI</td>\n",
       "      <td>P</td>\n",
       "    </tr>\n",
       "  </tbody>\n",
       "</table>\n",
       "<p>5 rows × 30 columns</p>\n",
       "</div>"
      ],
      "text/plain": [
       "  age sex on thyroxine query on thyroxine on antithyroid medication sick   \n",
       "0  41   F            f                  f                         f    f  \\\n",
       "1  23   F            f                  f                         f    f   \n",
       "2  46   M            f                  f                         f    f   \n",
       "3  70   F            t                  f                         f    f   \n",
       "4  70   F            f                  f                         f    f   \n",
       "\n",
       "  pregnant thyroid surgery I131 treatment query hypothyroid  ... TT4 measured   \n",
       "0        f               f              f                 f  ...            t  \\\n",
       "1        f               f              f                 f  ...            t   \n",
       "2        f               f              f                 f  ...            t   \n",
       "3        f               f              f                 f  ...            t   \n",
       "4        f               f              f                 f  ...            t   \n",
       "\n",
       "   TT4 T4U measured   T4U FTI measured  FTI TBG measured TBG referral source   \n",
       "0  125            t  1.14            t  109            f   ?            SVHC  \\\n",
       "1  102            f     ?            f    ?            f   ?           other   \n",
       "2  109            t  0.91            t  120            f   ?           other   \n",
       "3  175            f     ?            f    ?            f   ?           other   \n",
       "4   61            t  0.87            t   70            f   ?             SVI   \n",
       "\n",
       "  binaryClass  \n",
       "0           P  \n",
       "1           P  \n",
       "2           P  \n",
       "3           P  \n",
       "4           P  \n",
       "\n",
       "[5 rows x 30 columns]"
      ]
     },
     "execution_count": 3,
     "metadata": {},
     "output_type": "execute_result"
    }
   ],
   "source": [
    "df = pd.read_csv('datafiles/hypothyroid.csv')\n",
    "df.head()"
   ]
  },
  {
   "cell_type": "code",
   "execution_count": 4,
   "id": "312e24bc",
   "metadata": {},
   "outputs": [
    {
     "data": {
      "text/plain": [
       "(3772, 30)"
      ]
     },
     "execution_count": 4,
     "metadata": {},
     "output_type": "execute_result"
    }
   ],
   "source": [
    "df.shape"
   ]
  },
  {
   "cell_type": "code",
   "execution_count": 5,
   "id": "69c324d0",
   "metadata": {},
   "outputs": [
    {
     "data": {
      "text/html": [
       "<div>\n",
       "<style scoped>\n",
       "    .dataframe tbody tr th:only-of-type {\n",
       "        vertical-align: middle;\n",
       "    }\n",
       "\n",
       "    .dataframe tbody tr th {\n",
       "        vertical-align: top;\n",
       "    }\n",
       "\n",
       "    .dataframe thead th {\n",
       "        text-align: right;\n",
       "    }\n",
       "</style>\n",
       "<table border=\"1\" class=\"dataframe\">\n",
       "  <thead>\n",
       "    <tr style=\"text-align: right;\">\n",
       "      <th></th>\n",
       "      <th>count</th>\n",
       "      <th>unique</th>\n",
       "      <th>top</th>\n",
       "      <th>freq</th>\n",
       "    </tr>\n",
       "  </thead>\n",
       "  <tbody>\n",
       "    <tr>\n",
       "      <th>age</th>\n",
       "      <td>3772</td>\n",
       "      <td>94</td>\n",
       "      <td>59</td>\n",
       "      <td>95</td>\n",
       "    </tr>\n",
       "    <tr>\n",
       "      <th>sex</th>\n",
       "      <td>3772</td>\n",
       "      <td>3</td>\n",
       "      <td>F</td>\n",
       "      <td>2480</td>\n",
       "    </tr>\n",
       "    <tr>\n",
       "      <th>on thyroxine</th>\n",
       "      <td>3772</td>\n",
       "      <td>2</td>\n",
       "      <td>f</td>\n",
       "      <td>3308</td>\n",
       "    </tr>\n",
       "    <tr>\n",
       "      <th>query on thyroxine</th>\n",
       "      <td>3772</td>\n",
       "      <td>2</td>\n",
       "      <td>f</td>\n",
       "      <td>3722</td>\n",
       "    </tr>\n",
       "    <tr>\n",
       "      <th>on antithyroid medication</th>\n",
       "      <td>3772</td>\n",
       "      <td>2</td>\n",
       "      <td>f</td>\n",
       "      <td>3729</td>\n",
       "    </tr>\n",
       "    <tr>\n",
       "      <th>sick</th>\n",
       "      <td>3772</td>\n",
       "      <td>2</td>\n",
       "      <td>f</td>\n",
       "      <td>3625</td>\n",
       "    </tr>\n",
       "    <tr>\n",
       "      <th>pregnant</th>\n",
       "      <td>3772</td>\n",
       "      <td>2</td>\n",
       "      <td>f</td>\n",
       "      <td>3719</td>\n",
       "    </tr>\n",
       "    <tr>\n",
       "      <th>thyroid surgery</th>\n",
       "      <td>3772</td>\n",
       "      <td>2</td>\n",
       "      <td>f</td>\n",
       "      <td>3719</td>\n",
       "    </tr>\n",
       "    <tr>\n",
       "      <th>I131 treatment</th>\n",
       "      <td>3772</td>\n",
       "      <td>2</td>\n",
       "      <td>f</td>\n",
       "      <td>3713</td>\n",
       "    </tr>\n",
       "    <tr>\n",
       "      <th>query hypothyroid</th>\n",
       "      <td>3772</td>\n",
       "      <td>2</td>\n",
       "      <td>f</td>\n",
       "      <td>3538</td>\n",
       "    </tr>\n",
       "    <tr>\n",
       "      <th>query hyperthyroid</th>\n",
       "      <td>3772</td>\n",
       "      <td>2</td>\n",
       "      <td>f</td>\n",
       "      <td>3535</td>\n",
       "    </tr>\n",
       "    <tr>\n",
       "      <th>lithium</th>\n",
       "      <td>3772</td>\n",
       "      <td>2</td>\n",
       "      <td>f</td>\n",
       "      <td>3754</td>\n",
       "    </tr>\n",
       "    <tr>\n",
       "      <th>goitre</th>\n",
       "      <td>3772</td>\n",
       "      <td>2</td>\n",
       "      <td>f</td>\n",
       "      <td>3738</td>\n",
       "    </tr>\n",
       "    <tr>\n",
       "      <th>tumor</th>\n",
       "      <td>3772</td>\n",
       "      <td>2</td>\n",
       "      <td>f</td>\n",
       "      <td>3676</td>\n",
       "    </tr>\n",
       "    <tr>\n",
       "      <th>hypopituitary</th>\n",
       "      <td>3772</td>\n",
       "      <td>2</td>\n",
       "      <td>f</td>\n",
       "      <td>3771</td>\n",
       "    </tr>\n",
       "    <tr>\n",
       "      <th>psych</th>\n",
       "      <td>3772</td>\n",
       "      <td>2</td>\n",
       "      <td>f</td>\n",
       "      <td>3588</td>\n",
       "    </tr>\n",
       "    <tr>\n",
       "      <th>TSH measured</th>\n",
       "      <td>3772</td>\n",
       "      <td>2</td>\n",
       "      <td>t</td>\n",
       "      <td>3403</td>\n",
       "    </tr>\n",
       "    <tr>\n",
       "      <th>TSH</th>\n",
       "      <td>3772</td>\n",
       "      <td>288</td>\n",
       "      <td>?</td>\n",
       "      <td>369</td>\n",
       "    </tr>\n",
       "    <tr>\n",
       "      <th>T3 measured</th>\n",
       "      <td>3772</td>\n",
       "      <td>2</td>\n",
       "      <td>t</td>\n",
       "      <td>3003</td>\n",
       "    </tr>\n",
       "    <tr>\n",
       "      <th>T3</th>\n",
       "      <td>3772</td>\n",
       "      <td>70</td>\n",
       "      <td>?</td>\n",
       "      <td>769</td>\n",
       "    </tr>\n",
       "    <tr>\n",
       "      <th>TT4 measured</th>\n",
       "      <td>3772</td>\n",
       "      <td>2</td>\n",
       "      <td>t</td>\n",
       "      <td>3541</td>\n",
       "    </tr>\n",
       "    <tr>\n",
       "      <th>TT4</th>\n",
       "      <td>3772</td>\n",
       "      <td>242</td>\n",
       "      <td>?</td>\n",
       "      <td>231</td>\n",
       "    </tr>\n",
       "    <tr>\n",
       "      <th>T4U measured</th>\n",
       "      <td>3772</td>\n",
       "      <td>2</td>\n",
       "      <td>t</td>\n",
       "      <td>3385</td>\n",
       "    </tr>\n",
       "    <tr>\n",
       "      <th>T4U</th>\n",
       "      <td>3772</td>\n",
       "      <td>147</td>\n",
       "      <td>?</td>\n",
       "      <td>387</td>\n",
       "    </tr>\n",
       "    <tr>\n",
       "      <th>FTI measured</th>\n",
       "      <td>3772</td>\n",
       "      <td>2</td>\n",
       "      <td>t</td>\n",
       "      <td>3387</td>\n",
       "    </tr>\n",
       "    <tr>\n",
       "      <th>FTI</th>\n",
       "      <td>3772</td>\n",
       "      <td>235</td>\n",
       "      <td>?</td>\n",
       "      <td>385</td>\n",
       "    </tr>\n",
       "    <tr>\n",
       "      <th>TBG measured</th>\n",
       "      <td>3772</td>\n",
       "      <td>1</td>\n",
       "      <td>f</td>\n",
       "      <td>3772</td>\n",
       "    </tr>\n",
       "    <tr>\n",
       "      <th>TBG</th>\n",
       "      <td>3772</td>\n",
       "      <td>1</td>\n",
       "      <td>?</td>\n",
       "      <td>3772</td>\n",
       "    </tr>\n",
       "    <tr>\n",
       "      <th>referral source</th>\n",
       "      <td>3772</td>\n",
       "      <td>5</td>\n",
       "      <td>other</td>\n",
       "      <td>2201</td>\n",
       "    </tr>\n",
       "    <tr>\n",
       "      <th>binaryClass</th>\n",
       "      <td>3772</td>\n",
       "      <td>2</td>\n",
       "      <td>P</td>\n",
       "      <td>3481</td>\n",
       "    </tr>\n",
       "  </tbody>\n",
       "</table>\n",
       "</div>"
      ],
      "text/plain": [
       "                          count unique    top  freq\n",
       "age                        3772     94     59    95\n",
       "sex                        3772      3      F  2480\n",
       "on thyroxine               3772      2      f  3308\n",
       "query on thyroxine         3772      2      f  3722\n",
       "on antithyroid medication  3772      2      f  3729\n",
       "sick                       3772      2      f  3625\n",
       "pregnant                   3772      2      f  3719\n",
       "thyroid surgery            3772      2      f  3719\n",
       "I131 treatment             3772      2      f  3713\n",
       "query hypothyroid          3772      2      f  3538\n",
       "query hyperthyroid         3772      2      f  3535\n",
       "lithium                    3772      2      f  3754\n",
       "goitre                     3772      2      f  3738\n",
       "tumor                      3772      2      f  3676\n",
       "hypopituitary              3772      2      f  3771\n",
       "psych                      3772      2      f  3588\n",
       "TSH measured               3772      2      t  3403\n",
       "TSH                        3772    288      ?   369\n",
       "T3 measured                3772      2      t  3003\n",
       "T3                         3772     70      ?   769\n",
       "TT4 measured               3772      2      t  3541\n",
       "TT4                        3772    242      ?   231\n",
       "T4U measured               3772      2      t  3385\n",
       "T4U                        3772    147      ?   387\n",
       "FTI measured               3772      2      t  3387\n",
       "FTI                        3772    235      ?   385\n",
       "TBG measured               3772      1      f  3772\n",
       "TBG                        3772      1      ?  3772\n",
       "referral source            3772      5  other  2201\n",
       "binaryClass                3772      2      P  3481"
      ]
     },
     "execution_count": 5,
     "metadata": {},
     "output_type": "execute_result"
    }
   ],
   "source": [
    "df.describe().T"
   ]
  },
  {
   "cell_type": "markdown",
   "id": "a0e7f6b6",
   "metadata": {},
   "source": [
    "**Need to remove ? from the data**"
   ]
  },
  {
   "cell_type": "code",
   "execution_count": 6,
   "id": "4c0fce4c",
   "metadata": {},
   "outputs": [
    {
     "name": "stdout",
     "output_type": "stream",
     "text": [
      "<class 'pandas.core.frame.DataFrame'>\n",
      "RangeIndex: 3772 entries, 0 to 3771\n",
      "Data columns (total 30 columns):\n",
      " #   Column                     Non-Null Count  Dtype \n",
      "---  ------                     --------------  ----- \n",
      " 0   age                        3772 non-null   object\n",
      " 1   sex                        3772 non-null   object\n",
      " 2   on thyroxine               3772 non-null   object\n",
      " 3   query on thyroxine         3772 non-null   object\n",
      " 4   on antithyroid medication  3772 non-null   object\n",
      " 5   sick                       3772 non-null   object\n",
      " 6   pregnant                   3772 non-null   object\n",
      " 7   thyroid surgery            3772 non-null   object\n",
      " 8   I131 treatment             3772 non-null   object\n",
      " 9   query hypothyroid          3772 non-null   object\n",
      " 10  query hyperthyroid         3772 non-null   object\n",
      " 11  lithium                    3772 non-null   object\n",
      " 12  goitre                     3772 non-null   object\n",
      " 13  tumor                      3772 non-null   object\n",
      " 14  hypopituitary              3772 non-null   object\n",
      " 15  psych                      3772 non-null   object\n",
      " 16  TSH measured               3772 non-null   object\n",
      " 17  TSH                        3772 non-null   object\n",
      " 18  T3 measured                3772 non-null   object\n",
      " 19  T3                         3772 non-null   object\n",
      " 20  TT4 measured               3772 non-null   object\n",
      " 21  TT4                        3772 non-null   object\n",
      " 22  T4U measured               3772 non-null   object\n",
      " 23  T4U                        3772 non-null   object\n",
      " 24  FTI measured               3772 non-null   object\n",
      " 25  FTI                        3772 non-null   object\n",
      " 26  TBG measured               3772 non-null   object\n",
      " 27  TBG                        3772 non-null   object\n",
      " 28  referral source            3772 non-null   object\n",
      " 29  binaryClass                3772 non-null   object\n",
      "dtypes: object(30)\n",
      "memory usage: 884.2+ KB\n"
     ]
    }
   ],
   "source": [
    "df.info()"
   ]
  },
  {
   "cell_type": "code",
   "execution_count": 7,
   "id": "d25519e3",
   "metadata": {},
   "outputs": [
    {
     "data": {
      "text/plain": [
       "binaryClass\n",
       "P    3481\n",
       "N     291\n",
       "Name: count, dtype: int64"
      ]
     },
     "execution_count": 7,
     "metadata": {},
     "output_type": "execute_result"
    }
   ],
   "source": [
    "df[\"binaryClass\"].value_counts()"
   ]
  },
  {
   "cell_type": "markdown",
   "id": "93580650",
   "metadata": {},
   "source": [
    "**Need to generate some N values to balance the dataset**"
   ]
  },
  {
   "cell_type": "code",
   "execution_count": 8,
   "id": "c9322c92",
   "metadata": {},
   "outputs": [],
   "source": [
    "df[\"binaryClass\"]=df[\"binaryClass\"].map({\"P\":0,\"N\":1})"
   ]
  },
  {
   "cell_type": "markdown",
   "id": "56ac021d",
   "metadata": {},
   "source": [
    "**replace t and f values with 1 and 0 respectively**"
   ]
  },
  {
   "cell_type": "code",
   "execution_count": 9,
   "id": "b1b0253c",
   "metadata": {},
   "outputs": [],
   "source": [
    "df=df.replace({\"t\":1,\"f\":0})"
   ]
  },
  {
   "cell_type": "markdown",
   "id": "322255f3",
   "metadata": {},
   "source": [
    "**replace ? with np.NAN in the dataset**"
   ]
  },
  {
   "cell_type": "code",
   "execution_count": 10,
   "id": "927c16c7",
   "metadata": {},
   "outputs": [],
   "source": [
    "df=df.replace({\"?\":np.NAN})"
   ]
  },
  {
   "cell_type": "code",
   "execution_count": 11,
   "id": "50d7dd9a",
   "metadata": {},
   "outputs": [
    {
     "data": {
      "text/html": [
       "<div>\n",
       "<style scoped>\n",
       "    .dataframe tbody tr th:only-of-type {\n",
       "        vertical-align: middle;\n",
       "    }\n",
       "\n",
       "    .dataframe tbody tr th {\n",
       "        vertical-align: top;\n",
       "    }\n",
       "\n",
       "    .dataframe thead th {\n",
       "        text-align: right;\n",
       "    }\n",
       "</style>\n",
       "<table border=\"1\" class=\"dataframe\">\n",
       "  <thead>\n",
       "    <tr style=\"text-align: right;\">\n",
       "      <th></th>\n",
       "      <th>age</th>\n",
       "      <th>sex</th>\n",
       "      <th>on thyroxine</th>\n",
       "      <th>query on thyroxine</th>\n",
       "      <th>on antithyroid medication</th>\n",
       "      <th>sick</th>\n",
       "      <th>pregnant</th>\n",
       "      <th>thyroid surgery</th>\n",
       "      <th>I131 treatment</th>\n",
       "      <th>query hypothyroid</th>\n",
       "      <th>...</th>\n",
       "      <th>TT4 measured</th>\n",
       "      <th>TT4</th>\n",
       "      <th>T4U measured</th>\n",
       "      <th>T4U</th>\n",
       "      <th>FTI measured</th>\n",
       "      <th>FTI</th>\n",
       "      <th>TBG measured</th>\n",
       "      <th>TBG</th>\n",
       "      <th>referral source</th>\n",
       "      <th>binaryClass</th>\n",
       "    </tr>\n",
       "  </thead>\n",
       "  <tbody>\n",
       "    <tr>\n",
       "      <th>0</th>\n",
       "      <td>41</td>\n",
       "      <td>F</td>\n",
       "      <td>0</td>\n",
       "      <td>0</td>\n",
       "      <td>0</td>\n",
       "      <td>0</td>\n",
       "      <td>0</td>\n",
       "      <td>0</td>\n",
       "      <td>0</td>\n",
       "      <td>0</td>\n",
       "      <td>...</td>\n",
       "      <td>1</td>\n",
       "      <td>125</td>\n",
       "      <td>1</td>\n",
       "      <td>1.14</td>\n",
       "      <td>1</td>\n",
       "      <td>109</td>\n",
       "      <td>0</td>\n",
       "      <td>NaN</td>\n",
       "      <td>SVHC</td>\n",
       "      <td>0</td>\n",
       "    </tr>\n",
       "    <tr>\n",
       "      <th>1</th>\n",
       "      <td>23</td>\n",
       "      <td>F</td>\n",
       "      <td>0</td>\n",
       "      <td>0</td>\n",
       "      <td>0</td>\n",
       "      <td>0</td>\n",
       "      <td>0</td>\n",
       "      <td>0</td>\n",
       "      <td>0</td>\n",
       "      <td>0</td>\n",
       "      <td>...</td>\n",
       "      <td>1</td>\n",
       "      <td>102</td>\n",
       "      <td>0</td>\n",
       "      <td>NaN</td>\n",
       "      <td>0</td>\n",
       "      <td>NaN</td>\n",
       "      <td>0</td>\n",
       "      <td>NaN</td>\n",
       "      <td>other</td>\n",
       "      <td>0</td>\n",
       "    </tr>\n",
       "    <tr>\n",
       "      <th>2</th>\n",
       "      <td>46</td>\n",
       "      <td>M</td>\n",
       "      <td>0</td>\n",
       "      <td>0</td>\n",
       "      <td>0</td>\n",
       "      <td>0</td>\n",
       "      <td>0</td>\n",
       "      <td>0</td>\n",
       "      <td>0</td>\n",
       "      <td>0</td>\n",
       "      <td>...</td>\n",
       "      <td>1</td>\n",
       "      <td>109</td>\n",
       "      <td>1</td>\n",
       "      <td>0.91</td>\n",
       "      <td>1</td>\n",
       "      <td>120</td>\n",
       "      <td>0</td>\n",
       "      <td>NaN</td>\n",
       "      <td>other</td>\n",
       "      <td>0</td>\n",
       "    </tr>\n",
       "    <tr>\n",
       "      <th>3</th>\n",
       "      <td>70</td>\n",
       "      <td>F</td>\n",
       "      <td>1</td>\n",
       "      <td>0</td>\n",
       "      <td>0</td>\n",
       "      <td>0</td>\n",
       "      <td>0</td>\n",
       "      <td>0</td>\n",
       "      <td>0</td>\n",
       "      <td>0</td>\n",
       "      <td>...</td>\n",
       "      <td>1</td>\n",
       "      <td>175</td>\n",
       "      <td>0</td>\n",
       "      <td>NaN</td>\n",
       "      <td>0</td>\n",
       "      <td>NaN</td>\n",
       "      <td>0</td>\n",
       "      <td>NaN</td>\n",
       "      <td>other</td>\n",
       "      <td>0</td>\n",
       "    </tr>\n",
       "    <tr>\n",
       "      <th>4</th>\n",
       "      <td>70</td>\n",
       "      <td>F</td>\n",
       "      <td>0</td>\n",
       "      <td>0</td>\n",
       "      <td>0</td>\n",
       "      <td>0</td>\n",
       "      <td>0</td>\n",
       "      <td>0</td>\n",
       "      <td>0</td>\n",
       "      <td>0</td>\n",
       "      <td>...</td>\n",
       "      <td>1</td>\n",
       "      <td>61</td>\n",
       "      <td>1</td>\n",
       "      <td>0.87</td>\n",
       "      <td>1</td>\n",
       "      <td>70</td>\n",
       "      <td>0</td>\n",
       "      <td>NaN</td>\n",
       "      <td>SVI</td>\n",
       "      <td>0</td>\n",
       "    </tr>\n",
       "  </tbody>\n",
       "</table>\n",
       "<p>5 rows × 30 columns</p>\n",
       "</div>"
      ],
      "text/plain": [
       "  age sex  on thyroxine  query on thyroxine  on antithyroid medication  sick   \n",
       "0  41   F             0                   0                          0     0  \\\n",
       "1  23   F             0                   0                          0     0   \n",
       "2  46   M             0                   0                          0     0   \n",
       "3  70   F             1                   0                          0     0   \n",
       "4  70   F             0                   0                          0     0   \n",
       "\n",
       "   pregnant  thyroid surgery  I131 treatment  query hypothyroid  ...   \n",
       "0         0                0               0                  0  ...  \\\n",
       "1         0                0               0                  0  ...   \n",
       "2         0                0               0                  0  ...   \n",
       "3         0                0               0                  0  ...   \n",
       "4         0                0               0                  0  ...   \n",
       "\n",
       "   TT4 measured  TT4  T4U measured   T4U  FTI measured  FTI  TBG measured TBG   \n",
       "0             1  125             1  1.14             1  109             0 NaN  \\\n",
       "1             1  102             0   NaN             0  NaN             0 NaN   \n",
       "2             1  109             1  0.91             1  120             0 NaN   \n",
       "3             1  175             0   NaN             0  NaN             0 NaN   \n",
       "4             1   61             1  0.87             1   70             0 NaN   \n",
       "\n",
       "   referral source binaryClass  \n",
       "0             SVHC           0  \n",
       "1            other           0  \n",
       "2            other           0  \n",
       "3            other           0  \n",
       "4              SVI           0  \n",
       "\n",
       "[5 rows x 30 columns]"
      ]
     },
     "execution_count": 11,
     "metadata": {},
     "output_type": "execute_result"
    }
   ],
   "source": [
    "df.head()"
   ]
  },
  {
   "cell_type": "code",
   "execution_count": 12,
   "id": "73b1f90f",
   "metadata": {},
   "outputs": [
    {
     "data": {
      "text/plain": [
       "(30,\n",
       " Index(['age', 'sex', 'on thyroxine', 'query on thyroxine',\n",
       "        'on antithyroid medication', 'sick', 'pregnant', 'thyroid surgery',\n",
       "        'I131 treatment', 'query hypothyroid', 'query hyperthyroid', 'lithium',\n",
       "        'goitre', 'tumor', 'hypopituitary', 'psych', 'TSH measured', 'TSH',\n",
       "        'T3 measured', 'T3', 'TT4 measured', 'TT4', 'T4U measured', 'T4U',\n",
       "        'FTI measured', 'FTI', 'TBG measured', 'TBG', 'referral source',\n",
       "        'binaryClass'],\n",
       "       dtype='object'))"
      ]
     },
     "execution_count": 12,
     "metadata": {},
     "output_type": "execute_result"
    }
   ],
   "source": [
    "len(df.columns),df.columns"
   ]
  },
  {
   "cell_type": "code",
   "execution_count": 13,
   "id": "3606264c",
   "metadata": {},
   "outputs": [],
   "source": [
    "numerical_cols = df.select_dtypes(exclude='object').columns\n",
    "categorical_cols = df.select_dtypes(include='object').columns"
   ]
  },
  {
   "cell_type": "code",
   "execution_count": 14,
   "id": "e9de3e52",
   "metadata": {},
   "outputs": [
    {
     "data": {
      "text/plain": [
       "(22,\n",
       " Index(['on thyroxine', 'query on thyroxine', 'on antithyroid medication',\n",
       "        'sick', 'pregnant', 'thyroid surgery', 'I131 treatment',\n",
       "        'query hypothyroid', 'query hyperthyroid', 'lithium', 'goitre', 'tumor',\n",
       "        'hypopituitary', 'psych', 'TSH measured', 'T3 measured', 'TT4 measured',\n",
       "        'T4U measured', 'FTI measured', 'TBG measured', 'TBG', 'binaryClass'],\n",
       "       dtype='object'))"
      ]
     },
     "execution_count": 14,
     "metadata": {},
     "output_type": "execute_result"
    }
   ],
   "source": [
    "len(numerical_cols), numerical_cols"
   ]
  },
  {
   "cell_type": "code",
   "execution_count": 15,
   "id": "fd2847d0",
   "metadata": {},
   "outputs": [
    {
     "data": {
      "text/plain": [
       "(8,\n",
       " Index(['age', 'sex', 'TSH', 'T3', 'TT4', 'T4U', 'FTI', 'referral source'], dtype='object'))"
      ]
     },
     "execution_count": 15,
     "metadata": {},
     "output_type": "execute_result"
    }
   ],
   "source": [
    "len(categorical_cols), categorical_cols"
   ]
  },
  {
   "cell_type": "code",
   "execution_count": 16,
   "id": "b01efac7",
   "metadata": {},
   "outputs": [
    {
     "data": {
      "text/plain": [
       "age                             1\n",
       "sex                           150\n",
       "on thyroxine                    0\n",
       "query on thyroxine              0\n",
       "on antithyroid medication       0\n",
       "sick                            0\n",
       "pregnant                        0\n",
       "thyroid surgery                 0\n",
       "I131 treatment                  0\n",
       "query hypothyroid               0\n",
       "query hyperthyroid              0\n",
       "lithium                         0\n",
       "goitre                          0\n",
       "tumor                           0\n",
       "hypopituitary                   0\n",
       "psych                           0\n",
       "TSH measured                    0\n",
       "TSH                           369\n",
       "T3 measured                     0\n",
       "T3                            769\n",
       "TT4 measured                    0\n",
       "TT4                           231\n",
       "T4U measured                    0\n",
       "T4U                           387\n",
       "FTI measured                    0\n",
       "FTI                           385\n",
       "TBG measured                    0\n",
       "TBG                          3772\n",
       "referral source                 0\n",
       "binaryClass                     0\n",
       "dtype: int64"
      ]
     },
     "execution_count": 16,
     "metadata": {},
     "output_type": "execute_result"
    }
   ],
   "source": [
    "df.isnull().sum()"
   ]
  },
  {
   "cell_type": "code",
   "execution_count": 17,
   "id": "9d5ec1bf",
   "metadata": {},
   "outputs": [],
   "source": [
    "def printvalues(col):\n",
    "    print(f\"{col}\")\n",
    "    print(f\"{df[col].value_counts()}\")\n",
    "    print(f\"Total Null Values: {df[col].isnull().sum()}\")\n",
    "    print(\"*\"*15)"
   ]
  },
  {
   "cell_type": "code",
   "execution_count": 18,
   "id": "274af4a6",
   "metadata": {},
   "outputs": [
    {
     "name": "stdout",
     "output_type": "stream",
     "text": [
      "age\n",
      "age\n",
      "59     95\n",
      "60     91\n",
      "70     90\n",
      "73     81\n",
      "55     81\n",
      "       ..\n",
      "10      1\n",
      "4       1\n",
      "5       1\n",
      "455     1\n",
      "6       1\n",
      "Name: count, Length: 93, dtype: int64\n",
      "Total Null Values: 1\n",
      "***************\n",
      "sex\n",
      "sex\n",
      "F    2480\n",
      "M    1142\n",
      "Name: count, dtype: int64\n",
      "Total Null Values: 150\n",
      "***************\n",
      "TSH\n",
      "TSH\n",
      "0.2     116\n",
      "1.3     105\n",
      "1.1      97\n",
      "1.4      91\n",
      "1.5      80\n",
      "       ... \n",
      "86        1\n",
      "18.4      1\n",
      "89        1\n",
      "29        1\n",
      "40        1\n",
      "Name: count, Length: 287, dtype: int64\n",
      "Total Null Values: 369\n",
      "***************\n",
      "T3\n",
      "T3\n",
      "2      238\n",
      "1.8    207\n",
      "2.2    201\n",
      "1.9    189\n",
      "2.1    184\n",
      "      ... \n",
      "6.7      1\n",
      "7.3      1\n",
      "4.6      1\n",
      "5.2      1\n",
      "6.6      1\n",
      "Name: count, Length: 69, dtype: int64\n",
      "Total Null Values: 769\n",
      "***************\n",
      "TT4\n",
      "TT4\n",
      "101    71\n",
      "93     67\n",
      "98     63\n",
      "103    63\n",
      "102    59\n",
      "       ..\n",
      "289     1\n",
      "240     1\n",
      "43      1\n",
      "34      1\n",
      "258     1\n",
      "Name: count, Length: 241, dtype: int64\n",
      "Total Null Values: 231\n",
      "***************\n",
      "T4U\n",
      "T4U\n",
      "0.99    95\n",
      "0.9     93\n",
      "1.01    91\n",
      "1       90\n",
      "0.92    89\n",
      "        ..\n",
      "1.84     1\n",
      "0.57     1\n",
      "2.03     1\n",
      "1.97     1\n",
      "0.25     1\n",
      "Name: count, Length: 146, dtype: int64\n",
      "Total Null Values: 387\n",
      "***************\n",
      "FTI\n",
      "FTI\n",
      "100    73\n",
      "93     70\n",
      "114    65\n",
      "98     64\n",
      "107    64\n",
      "       ..\n",
      "349     1\n",
      "221     1\n",
      "187     1\n",
      "39      1\n",
      "227     1\n",
      "Name: count, Length: 234, dtype: int64\n",
      "Total Null Values: 385\n",
      "***************\n",
      "referral source\n",
      "referral source\n",
      "other    2201\n",
      "SVI      1034\n",
      "SVHC      386\n",
      "STMW      112\n",
      "SVHD       39\n",
      "Name: count, dtype: int64\n",
      "Total Null Values: 0\n",
      "***************\n"
     ]
    }
   ],
   "source": [
    "for cat in categorical_cols:\n",
    "    printvalues(cat)"
   ]
  },
  {
   "cell_type": "code",
   "execution_count": 19,
   "id": "e5f945ca",
   "metadata": {},
   "outputs": [],
   "source": [
    "df=df.replace({\"F\":1,\"M\":0})"
   ]
  },
  {
   "cell_type": "code",
   "execution_count": 20,
   "id": "ec9e28c3",
   "metadata": {},
   "outputs": [
    {
     "data": {
      "text/plain": [
       "referral source\n",
       "other    2201\n",
       "SVI      1034\n",
       "SVHC      386\n",
       "STMW      112\n",
       "SVHD       39\n",
       "Name: count, dtype: int64"
      ]
     },
     "execution_count": 20,
     "metadata": {},
     "output_type": "execute_result"
    }
   ],
   "source": [
    "df[\"referral source\"].value_counts()"
   ]
  },
  {
   "cell_type": "code",
   "execution_count": 21,
   "id": "b04f4964",
   "metadata": {},
   "outputs": [],
   "source": [
    "del df[\"referral source\"]"
   ]
  },
  {
   "cell_type": "code",
   "execution_count": 22,
   "id": "d7260af5",
   "metadata": {},
   "outputs": [
    {
     "data": {
      "text/plain": [
       "TBG measured\n",
       "0    3772\n",
       "Name: count, dtype: int64"
      ]
     },
     "execution_count": 22,
     "metadata": {},
     "output_type": "execute_result"
    }
   ],
   "source": [
    "df[\"TBG measured\"].value_counts()"
   ]
  },
  {
   "cell_type": "code",
   "execution_count": 23,
   "id": "278f01f3",
   "metadata": {},
   "outputs": [
    {
     "data": {
      "text/plain": [
       "age                           object\n",
       "sex                          float64\n",
       "on thyroxine                   int64\n",
       "query on thyroxine             int64\n",
       "on antithyroid medication      int64\n",
       "sick                           int64\n",
       "pregnant                       int64\n",
       "thyroid surgery                int64\n",
       "I131 treatment                 int64\n",
       "query hypothyroid              int64\n",
       "query hyperthyroid             int64\n",
       "lithium                        int64\n",
       "goitre                         int64\n",
       "tumor                          int64\n",
       "hypopituitary                  int64\n",
       "psych                          int64\n",
       "TSH measured                   int64\n",
       "TSH                           object\n",
       "T3 measured                    int64\n",
       "T3                            object\n",
       "TT4 measured                   int64\n",
       "TT4                           object\n",
       "T4U measured                   int64\n",
       "T4U                           object\n",
       "FTI measured                   int64\n",
       "FTI                           object\n",
       "TBG measured                   int64\n",
       "TBG                          float64\n",
       "binaryClass                    int64\n",
       "dtype: object"
      ]
     },
     "execution_count": 23,
     "metadata": {},
     "output_type": "execute_result"
    }
   ],
   "source": [
    "df.dtypes"
   ]
  },
  {
   "cell_type": "code",
   "execution_count": 24,
   "id": "d2605fcc",
   "metadata": {},
   "outputs": [
    {
     "data": {
      "text/plain": [
       "age                          float64\n",
       "sex                          float64\n",
       "on thyroxine                   int64\n",
       "query on thyroxine             int64\n",
       "on antithyroid medication      int64\n",
       "sick                           int64\n",
       "pregnant                       int64\n",
       "thyroid surgery                int64\n",
       "I131 treatment                 int64\n",
       "query hypothyroid              int64\n",
       "query hyperthyroid             int64\n",
       "lithium                        int64\n",
       "goitre                         int64\n",
       "tumor                          int64\n",
       "hypopituitary                  int64\n",
       "psych                          int64\n",
       "TSH measured                   int64\n",
       "TSH                          float64\n",
       "T3 measured                    int64\n",
       "T3                           float64\n",
       "TT4 measured                   int64\n",
       "TT4                          float64\n",
       "T4U measured                   int64\n",
       "T4U                          float64\n",
       "FTI measured                   int64\n",
       "FTI                          float64\n",
       "TBG measured                   int64\n",
       "TBG                          float64\n",
       "binaryClass                    int64\n",
       "dtype: object"
      ]
     },
     "execution_count": 24,
     "metadata": {},
     "output_type": "execute_result"
    }
   ],
   "source": [
    "cols = df.columns[df.dtypes.eq('object')]\n",
    "df[cols] = df[cols].apply(pd.to_numeric, errors='coerce')\n",
    "df.dtypes"
   ]
  },
  {
   "cell_type": "code",
   "execution_count": 25,
   "id": "5fa6761b",
   "metadata": {},
   "outputs": [
    {
     "data": {
      "text/plain": [
       "age                             1\n",
       "sex                           150\n",
       "on thyroxine                    0\n",
       "query on thyroxine              0\n",
       "on antithyroid medication       0\n",
       "sick                            0\n",
       "pregnant                        0\n",
       "thyroid surgery                 0\n",
       "I131 treatment                  0\n",
       "query hypothyroid               0\n",
       "query hyperthyroid              0\n",
       "lithium                         0\n",
       "goitre                          0\n",
       "tumor                           0\n",
       "hypopituitary                   0\n",
       "psych                           0\n",
       "TSH measured                    0\n",
       "TSH                           369\n",
       "T3 measured                     0\n",
       "T3                            769\n",
       "TT4 measured                    0\n",
       "TT4                           231\n",
       "T4U measured                    0\n",
       "T4U                           387\n",
       "FTI measured                    0\n",
       "FTI                           385\n",
       "TBG measured                    0\n",
       "TBG                          3772\n",
       "binaryClass                     0\n",
       "dtype: int64"
      ]
     },
     "execution_count": 25,
     "metadata": {},
     "output_type": "execute_result"
    }
   ],
   "source": [
    "df.isnull().sum()"
   ]
  },
  {
   "cell_type": "code",
   "execution_count": 26,
   "id": "c265cf19",
   "metadata": {},
   "outputs": [
    {
     "data": {
      "text/plain": [
       "Series([], Name: count, dtype: int64)"
      ]
     },
     "execution_count": 26,
     "metadata": {},
     "output_type": "execute_result"
    }
   ],
   "source": [
    "df[\"TBG\"].value_counts()"
   ]
  },
  {
   "cell_type": "code",
   "execution_count": 27,
   "id": "50268241",
   "metadata": {},
   "outputs": [],
   "source": [
    "del df[\"TBG\"]"
   ]
  },
  {
   "cell_type": "code",
   "execution_count": 28,
   "id": "4302364e",
   "metadata": {},
   "outputs": [
    {
     "data": {
      "text/plain": [
       "Index(['age', 'TSH', 'T3', 'TT4', 'T4U', 'FTI'], dtype='object')"
      ]
     },
     "execution_count": 28,
     "metadata": {},
     "output_type": "execute_result"
    }
   ],
   "source": [
    "cols"
   ]
  },
  {
   "cell_type": "code",
   "execution_count": 29,
   "id": "196e8da0",
   "metadata": {},
   "outputs": [],
   "source": [
    "from sklearn.impute import SimpleImputer\n",
    "\n",
    "imputer = SimpleImputer(strategy='mean')"
   ]
  },
  {
   "cell_type": "code",
   "execution_count": 30,
   "id": "1b5f71fb",
   "metadata": {},
   "outputs": [],
   "source": [
    "df['age'] = imputer.fit_transform(df[['age']])\n",
    "#\n",
    "df['T4U measured'] = imputer.fit_transform(df[['T4U measured']])\n",
    "\n",
    "df['TSH'] = imputer.fit_transform(df[['TSH']])\n",
    "df['T3'] = imputer.fit_transform(df[['T3']])\n",
    "df['TT4'] = imputer.fit_transform(df[['TT4']])\n",
    "df['T4U'] = imputer.fit_transform(df[['T4U']])\n",
    "df['FTI'] = imputer.fit_transform(df[['FTI']])\n"
   ]
  },
  {
   "cell_type": "code",
   "execution_count": 31,
   "id": "370d516a",
   "metadata": {},
   "outputs": [],
   "source": [
    "df['sex'].fillna(df['sex'].mode()[0], inplace=True)"
   ]
  },
  {
   "cell_type": "code",
   "execution_count": 32,
   "id": "71ba2203",
   "metadata": {},
   "outputs": [
    {
     "data": {
      "text/plain": [
       "0"
      ]
     },
     "execution_count": 32,
     "metadata": {},
     "output_type": "execute_result"
    }
   ],
   "source": [
    "df.isnull().sum().sum()"
   ]
  },
  {
   "cell_type": "code",
   "execution_count": 33,
   "id": "b2a398e6",
   "metadata": {},
   "outputs": [],
   "source": [
    "df.to_csv('datafiles/hypothyroid_train.csv',index=False)"
   ]
  },
  {
   "cell_type": "code",
   "execution_count": 34,
   "id": "ee0a265f",
   "metadata": {},
   "outputs": [
    {
     "data": {
      "text/html": [
       "<div>\n",
       "<style scoped>\n",
       "    .dataframe tbody tr th:only-of-type {\n",
       "        vertical-align: middle;\n",
       "    }\n",
       "\n",
       "    .dataframe tbody tr th {\n",
       "        vertical-align: top;\n",
       "    }\n",
       "\n",
       "    .dataframe thead th {\n",
       "        text-align: right;\n",
       "    }\n",
       "</style>\n",
       "<table border=\"1\" class=\"dataframe\">\n",
       "  <thead>\n",
       "    <tr style=\"text-align: right;\">\n",
       "      <th></th>\n",
       "      <th>age</th>\n",
       "      <th>sex</th>\n",
       "      <th>on thyroxine</th>\n",
       "      <th>query on thyroxine</th>\n",
       "      <th>on antithyroid medication</th>\n",
       "      <th>sick</th>\n",
       "      <th>pregnant</th>\n",
       "      <th>thyroid surgery</th>\n",
       "      <th>I131 treatment</th>\n",
       "      <th>query hypothyroid</th>\n",
       "      <th>...</th>\n",
       "      <th>T3 measured</th>\n",
       "      <th>T3</th>\n",
       "      <th>TT4 measured</th>\n",
       "      <th>TT4</th>\n",
       "      <th>T4U measured</th>\n",
       "      <th>T4U</th>\n",
       "      <th>FTI measured</th>\n",
       "      <th>FTI</th>\n",
       "      <th>TBG measured</th>\n",
       "      <th>binaryClass</th>\n",
       "    </tr>\n",
       "  </thead>\n",
       "  <tbody>\n",
       "    <tr>\n",
       "      <th>0</th>\n",
       "      <td>41.0</td>\n",
       "      <td>1.0</td>\n",
       "      <td>0</td>\n",
       "      <td>0</td>\n",
       "      <td>0</td>\n",
       "      <td>0</td>\n",
       "      <td>0</td>\n",
       "      <td>0</td>\n",
       "      <td>0</td>\n",
       "      <td>0</td>\n",
       "      <td>...</td>\n",
       "      <td>1</td>\n",
       "      <td>2.5000</td>\n",
       "      <td>1</td>\n",
       "      <td>125.0</td>\n",
       "      <td>1.0</td>\n",
       "      <td>1.140</td>\n",
       "      <td>1</td>\n",
       "      <td>109.000000</td>\n",
       "      <td>0</td>\n",
       "      <td>0</td>\n",
       "    </tr>\n",
       "    <tr>\n",
       "      <th>1</th>\n",
       "      <td>23.0</td>\n",
       "      <td>1.0</td>\n",
       "      <td>0</td>\n",
       "      <td>0</td>\n",
       "      <td>0</td>\n",
       "      <td>0</td>\n",
       "      <td>0</td>\n",
       "      <td>0</td>\n",
       "      <td>0</td>\n",
       "      <td>0</td>\n",
       "      <td>...</td>\n",
       "      <td>1</td>\n",
       "      <td>2.0000</td>\n",
       "      <td>1</td>\n",
       "      <td>102.0</td>\n",
       "      <td>0.0</td>\n",
       "      <td>0.995</td>\n",
       "      <td>0</td>\n",
       "      <td>110.469649</td>\n",
       "      <td>0</td>\n",
       "      <td>0</td>\n",
       "    </tr>\n",
       "    <tr>\n",
       "      <th>2</th>\n",
       "      <td>46.0</td>\n",
       "      <td>0.0</td>\n",
       "      <td>0</td>\n",
       "      <td>0</td>\n",
       "      <td>0</td>\n",
       "      <td>0</td>\n",
       "      <td>0</td>\n",
       "      <td>0</td>\n",
       "      <td>0</td>\n",
       "      <td>0</td>\n",
       "      <td>...</td>\n",
       "      <td>0</td>\n",
       "      <td>2.0135</td>\n",
       "      <td>1</td>\n",
       "      <td>109.0</td>\n",
       "      <td>1.0</td>\n",
       "      <td>0.910</td>\n",
       "      <td>1</td>\n",
       "      <td>120.000000</td>\n",
       "      <td>0</td>\n",
       "      <td>0</td>\n",
       "    </tr>\n",
       "    <tr>\n",
       "      <th>3</th>\n",
       "      <td>70.0</td>\n",
       "      <td>1.0</td>\n",
       "      <td>1</td>\n",
       "      <td>0</td>\n",
       "      <td>0</td>\n",
       "      <td>0</td>\n",
       "      <td>0</td>\n",
       "      <td>0</td>\n",
       "      <td>0</td>\n",
       "      <td>0</td>\n",
       "      <td>...</td>\n",
       "      <td>1</td>\n",
       "      <td>1.9000</td>\n",
       "      <td>1</td>\n",
       "      <td>175.0</td>\n",
       "      <td>0.0</td>\n",
       "      <td>0.995</td>\n",
       "      <td>0</td>\n",
       "      <td>110.469649</td>\n",
       "      <td>0</td>\n",
       "      <td>0</td>\n",
       "    </tr>\n",
       "    <tr>\n",
       "      <th>4</th>\n",
       "      <td>70.0</td>\n",
       "      <td>1.0</td>\n",
       "      <td>0</td>\n",
       "      <td>0</td>\n",
       "      <td>0</td>\n",
       "      <td>0</td>\n",
       "      <td>0</td>\n",
       "      <td>0</td>\n",
       "      <td>0</td>\n",
       "      <td>0</td>\n",
       "      <td>...</td>\n",
       "      <td>1</td>\n",
       "      <td>1.2000</td>\n",
       "      <td>1</td>\n",
       "      <td>61.0</td>\n",
       "      <td>1.0</td>\n",
       "      <td>0.870</td>\n",
       "      <td>1</td>\n",
       "      <td>70.000000</td>\n",
       "      <td>0</td>\n",
       "      <td>0</td>\n",
       "    </tr>\n",
       "  </tbody>\n",
       "</table>\n",
       "<p>5 rows × 28 columns</p>\n",
       "</div>"
      ],
      "text/plain": [
       "    age  sex  on thyroxine  query on thyroxine  on antithyroid medication   \n",
       "0  41.0  1.0             0                   0                          0  \\\n",
       "1  23.0  1.0             0                   0                          0   \n",
       "2  46.0  0.0             0                   0                          0   \n",
       "3  70.0  1.0             1                   0                          0   \n",
       "4  70.0  1.0             0                   0                          0   \n",
       "\n",
       "   sick  pregnant  thyroid surgery  I131 treatment  query hypothyroid  ...   \n",
       "0     0         0                0               0                  0  ...  \\\n",
       "1     0         0                0               0                  0  ...   \n",
       "2     0         0                0               0                  0  ...   \n",
       "3     0         0                0               0                  0  ...   \n",
       "4     0         0                0               0                  0  ...   \n",
       "\n",
       "   T3 measured      T3  TT4 measured    TT4  T4U measured    T4U   \n",
       "0            1  2.5000             1  125.0           1.0  1.140  \\\n",
       "1            1  2.0000             1  102.0           0.0  0.995   \n",
       "2            0  2.0135             1  109.0           1.0  0.910   \n",
       "3            1  1.9000             1  175.0           0.0  0.995   \n",
       "4            1  1.2000             1   61.0           1.0  0.870   \n",
       "\n",
       "   FTI measured         FTI  TBG measured  binaryClass  \n",
       "0             1  109.000000             0            0  \n",
       "1             0  110.469649             0            0  \n",
       "2             1  120.000000             0            0  \n",
       "3             0  110.469649             0            0  \n",
       "4             1   70.000000             0            0  \n",
       "\n",
       "[5 rows x 28 columns]"
      ]
     },
     "execution_count": 34,
     "metadata": {},
     "output_type": "execute_result"
    }
   ],
   "source": [
    "df = pd.read_csv('datafiles/hypothyroid_train.csv')\n",
    "df.head()"
   ]
  },
  {
   "cell_type": "code",
   "execution_count": 35,
   "id": "262e8483",
   "metadata": {},
   "outputs": [
    {
     "data": {
      "text/plain": [
       "0"
      ]
     },
     "execution_count": 35,
     "metadata": {},
     "output_type": "execute_result"
    }
   ],
   "source": [
    "df.isnull().sum().sum()"
   ]
  },
  {
   "cell_type": "code",
   "execution_count": 36,
   "id": "029fcf0e",
   "metadata": {},
   "outputs": [
    {
     "data": {
      "text/plain": [
       "Index(['age', 'sex', 'on thyroxine', 'query on thyroxine',\n",
       "       'on antithyroid medication', 'sick', 'pregnant', 'thyroid surgery',\n",
       "       'I131 treatment', 'query hypothyroid', 'query hyperthyroid', 'lithium',\n",
       "       'goitre', 'tumor', 'hypopituitary', 'psych', 'TSH measured', 'TSH',\n",
       "       'T3 measured', 'T3', 'TT4 measured', 'TT4', 'T4U measured', 'T4U',\n",
       "       'FTI measured', 'FTI', 'TBG measured', 'binaryClass'],\n",
       "      dtype='object')"
      ]
     },
     "execution_count": 36,
     "metadata": {},
     "output_type": "execute_result"
    }
   ],
   "source": [
    "df.columns"
   ]
  },
  {
   "cell_type": "code",
   "execution_count": 37,
   "id": "3bd0afd0",
   "metadata": {},
   "outputs": [
    {
     "data": {
      "text/plain": [
       "<Axes: xlabel='age', ylabel='Density'>"
      ]
     },
     "execution_count": 37,
     "metadata": {},
     "output_type": "execute_result"
    },
    {
     "data": {
      "image/png": "[encoded data removed]",
      "text/plain": [
       "<Figure size 640x480 with 1 Axes>"
      ]
     },
     "metadata": {},
     "output_type": "display_data"
    }
   ],
   "source": [
    "sns.distplot(df['age'])"
   ]
  },
  {
   "cell_type": "code",
   "execution_count": 38,
   "id": "86a00e37",
   "metadata": {},
   "outputs": [
    {
     "data": {
      "text/plain": [
       "<Axes: xlabel='sex', ylabel='Density'>"
      ]
     },
     "execution_count": 38,
     "metadata": {},
     "output_type": "execute_result"
    },
    {
     "data": {
      "image/png": "[encoded data removed]",
      "text/plain": [
       "<Figure size 640x480 with 1 Axes>"
      ]
     },
     "metadata": {},
     "output_type": "display_data"
    }
   ],
   "source": [
    "sns.distplot(df['sex'])"
   ]
  },
  {
   "cell_type": "code",
   "execution_count": 39,
   "id": "e2e19fe6",
   "metadata": {},
   "outputs": [
    {
     "data": {
      "text/plain": [
       "<Axes: xlabel='T3', ylabel='Density'>"
      ]
     },
     "execution_count": 39,
     "metadata": {},
     "output_type": "execute_result"
    },
    {
     "data": {
      "image/png": "[encoded data removed]",
      "text/plain": [
       "<Figure size 640x480 with 1 Axes>"
      ]
     },
     "metadata": {},
     "output_type": "display_data"
    }
   ],
   "source": [
    "sns.distplot(df['T3'])"
   ]
  },
  {
   "cell_type": "code",
   "execution_count": 40,
   "id": "872e3324",
   "metadata": {},
   "outputs": [
    {
     "data": {
      "text/plain": [
       "<Axes: xlabel='TT4', ylabel='Density'>"
      ]
     },
     "execution_count": 40,
     "metadata": {},
     "output_type": "execute_result"
    },
    {
     "data": {
      "image/png": "[encoded data removed]",
      "text/plain": [
       "<Figure size 640x480 with 1 Axes>"
      ]
     },
     "metadata": {},
     "output_type": "display_data"
    }
   ],
   "source": [
    "sns.distplot(df['TT4'])"
   ]
  },
  {
   "cell_type": "code",
   "execution_count": 41,
   "id": "c707c273",
   "metadata": {},
   "outputs": [
    {
     "data": {
      "text/plain": [
       "<Axes: xlabel='T4U', ylabel='Density'>"
      ]
     },
     "execution_count": 41,
     "metadata": {},
     "output_type": "execute_result"
    },
    {
     "data": {
      "image/png": "[encoded data removed]",
      "text/plain": [
       "<Figure size 640x480 with 1 Axes>"
      ]
     },
     "metadata": {},
     "output_type": "display_data"
    }
   ],
   "source": [
    "sns.distplot(df['T4U'])"
   ]
  },
  {
   "cell_type": "code",
   "execution_count": 42,
   "id": "36170f27",
   "metadata": {},
   "outputs": [
    {
     "data": {
      "text/plain": [
       "<Axes: xlabel='FTI', ylabel='Density'>"
      ]
     },
     "execution_count": 42,
     "metadata": {},
     "output_type": "execute_result"
    },
    {
     "data": {
      "image/png": "[encoded data removed]",
      "text/plain": [
       "<Figure size 640x480 with 1 Axes>"
      ]
     },
     "metadata": {},
     "output_type": "display_data"
    }
   ],
   "source": [
    "sns.distplot(df['FTI'])"
   ]
  },
  {
   "cell_type": "code",
   "execution_count": 43,
   "id": "04b6f519",
   "metadata": {},
   "outputs": [
    {
     "data": {
      "text/plain": [
       "<Axes: xlabel='TBG measured', ylabel='Density'>"
      ]
     },
     "execution_count": 43,
     "metadata": {},
     "output_type": "execute_result"
    },
    {
     "data": {
      "image/png": "[encoded data removed]",
      "text/plain": [
       "<Figure size 640x480 with 1 Axes>"
      ]
     },
     "metadata": {},
     "output_type": "display_data"
    }
   ],
   "source": [
    "sns.distplot(df['TBG measured'])"
   ]
  },
  {
   "cell_type": "code",
   "execution_count": 44,
   "id": "d10584af",
   "metadata": {},
   "outputs": [
    {
     "data": {
      "text/plain": [
       "<Axes: xlabel='age'>"
      ]
     },
     "execution_count": 44,
     "metadata": {},
     "output_type": "execute_result"
    },
    {
     "data": {
      "image/png": "[encoded data removed]",
      "text/plain": [
       "<Figure size 640x480 with 1 Axes>"
      ]
     },
     "metadata": {},
     "output_type": "display_data"
    }
   ],
   "source": [
    "sns.distplot(df['age'], kde=False, bins=30, color='m')"
   ]
  },
  {
   "cell_type": "code",
   "execution_count": 45,
   "id": "b21bb35c",
   "metadata": {},
   "outputs": [
    {
     "data": {
      "text/plain": [
       "<Axes: xlabel='binaryClass', ylabel='count'>"
      ]
     },
     "execution_count": 45,
     "metadata": {},
     "output_type": "execute_result"
    },
    {
     "data": {
      "image/png": "[encoded data removed]",
      "text/plain": [
       "<Figure size 640x480 with 1 Axes>"
      ]
     },
     "metadata": {},
     "output_type": "display_data"
    }
   ],
   "source": [
    "sns.countplot(x='binaryClass', data=df, palette='rocket')"
   ]
  },
  {
   "cell_type": "code",
   "execution_count": 46,
   "id": "ebf87eea",
   "metadata": {},
   "outputs": [
    {
     "data": {
      "text/plain": [
       "<Axes: xlabel='binaryClass', ylabel='count'>"
      ]
     },
     "execution_count": 46,
     "metadata": {},
     "output_type": "execute_result"
    },
    {
     "data": {
      "image/png": "[encoded data removed]",
      "text/plain": [
       "<Figure size 640x480 with 1 Axes>"
      ]
     },
     "metadata": {},
     "output_type": "display_data"
    }
   ],
   "source": [
    "sns.countplot(x='binaryClass', data=df, hue='sex', palette='BuPu')"
   ]
  },
  {
   "cell_type": "code",
   "execution_count": 47,
   "id": "95e58611",
   "metadata": {},
   "outputs": [
    {
     "data": {
      "text/plain": [
       "<Axes: xlabel='binaryClass', ylabel='age'>"
      ]
     },
     "execution_count": 47,
     "metadata": {},
     "output_type": "execute_result"
    },
    {
     "data": {
      "image/png": "[encoded data removed]",
      "text/plain": [
       "<Figure size 640x480 with 1 Axes>"
      ]
     },
     "metadata": {},
     "output_type": "display_data"
    }
   ],
   "source": [
    "sns.stripplot(x=\"binaryClass\", y=\"age\", data=df, palette=\"viridis\")"
   ]
  },
  {
   "cell_type": "code",
   "execution_count": 48,
   "id": "beeda486",
   "metadata": {},
   "outputs": [
    {
     "data": {
      "text/plain": [
       "<Axes: xlabel='binaryClass', ylabel='age'>"
      ]
     },
     "execution_count": 48,
     "metadata": {},
     "output_type": "execute_result"
    },
    {
     "data": {
      "image/png": "[encoded data removed]",
      "text/plain": [
       "<Figure size 640x480 with 1 Axes>"
      ]
     },
     "metadata": {},
     "output_type": "display_data"
    }
   ],
   "source": [
    "sns.boxplot(x='binaryClass', y='age', data=df)"
   ]
  },
  {
   "cell_type": "code",
   "execution_count": 49,
   "id": "da4b4d0f",
   "metadata": {},
   "outputs": [
    {
     "data": {
      "text/html": [
       "<div>\n",
       "<style scoped>\n",
       "    .dataframe tbody tr th:only-of-type {\n",
       "        vertical-align: middle;\n",
       "    }\n",
       "\n",
       "    .dataframe tbody tr th {\n",
       "        vertical-align: top;\n",
       "    }\n",
       "\n",
       "    .dataframe thead th {\n",
       "        text-align: right;\n",
       "    }\n",
       "</style>\n",
       "<table border=\"1\" class=\"dataframe\">\n",
       "  <thead>\n",
       "    <tr style=\"text-align: right;\">\n",
       "      <th></th>\n",
       "      <th>age</th>\n",
       "      <th>sex</th>\n",
       "      <th>on thyroxine</th>\n",
       "      <th>query on thyroxine</th>\n",
       "      <th>on antithyroid medication</th>\n",
       "      <th>sick</th>\n",
       "      <th>pregnant</th>\n",
       "      <th>thyroid surgery</th>\n",
       "      <th>I131 treatment</th>\n",
       "      <th>query hypothyroid</th>\n",
       "      <th>...</th>\n",
       "      <th>T3 measured</th>\n",
       "      <th>T3</th>\n",
       "      <th>TT4 measured</th>\n",
       "      <th>TT4</th>\n",
       "      <th>T4U measured</th>\n",
       "      <th>T4U</th>\n",
       "      <th>FTI measured</th>\n",
       "      <th>FTI</th>\n",
       "      <th>TBG measured</th>\n",
       "      <th>binaryClass</th>\n",
       "    </tr>\n",
       "  </thead>\n",
       "  <tbody>\n",
       "    <tr>\n",
       "      <th>age</th>\n",
       "      <td>1.000000</td>\n",
       "      <td>0.000154</td>\n",
       "      <td>0.014563</td>\n",
       "      <td>-0.017870</td>\n",
       "      <td>-0.063881</td>\n",
       "      <td>0.079468</td>\n",
       "      <td>-0.113521</td>\n",
       "      <td>-0.029502</td>\n",
       "      <td>0.052704</td>\n",
       "      <td>0.039562</td>\n",
       "      <td>...</td>\n",
       "      <td>7.311084e-02</td>\n",
       "      <td>-2.149247e-01</td>\n",
       "      <td>6.750898e-02</td>\n",
       "      <td>-3.760948e-02</td>\n",
       "      <td>8.536127e-02</td>\n",
       "      <td>-1.575229e-01</td>\n",
       "      <td>8.453378e-02</td>\n",
       "      <td>5.001749e-02</td>\n",
       "      <td>NaN</td>\n",
       "      <td>-0.003174</td>\n",
       "    </tr>\n",
       "    <tr>\n",
       "      <th>sex</th>\n",
       "      <td>0.000154</td>\n",
       "      <td>1.000000</td>\n",
       "      <td>0.095709</td>\n",
       "      <td>-0.044712</td>\n",
       "      <td>0.027278</td>\n",
       "      <td>-0.007438</td>\n",
       "      <td>0.078665</td>\n",
       "      <td>0.034543</td>\n",
       "      <td>0.022612</td>\n",
       "      <td>0.042687</td>\n",
       "      <td>...</td>\n",
       "      <td>-7.135524e-02</td>\n",
       "      <td>6.421320e-02</td>\n",
       "      <td>-7.685721e-02</td>\n",
       "      <td>1.675458e-01</td>\n",
       "      <td>-5.166161e-02</td>\n",
       "      <td>2.218835e-01</td>\n",
       "      <td>-5.253222e-02</td>\n",
       "      <td>4.189999e-02</td>\n",
       "      <td>NaN</td>\n",
       "      <td>0.049960</td>\n",
       "    </tr>\n",
       "    <tr>\n",
       "      <th>on thyroxine</th>\n",
       "      <td>0.014563</td>\n",
       "      <td>0.095709</td>\n",
       "      <td>1.000000</td>\n",
       "      <td>0.005995</td>\n",
       "      <td>-0.002201</td>\n",
       "      <td>-0.042053</td>\n",
       "      <td>0.010152</td>\n",
       "      <td>0.037583</td>\n",
       "      <td>0.063373</td>\n",
       "      <td>0.094412</td>\n",
       "      <td>...</td>\n",
       "      <td>-1.450614e-01</td>\n",
       "      <td>6.484854e-03</td>\n",
       "      <td>2.496392e-02</td>\n",
       "      <td>2.128008e-01</td>\n",
       "      <td>3.885187e-02</td>\n",
       "      <td>4.636815e-02</td>\n",
       "      <td>3.828521e-02</td>\n",
       "      <td>1.857484e-01</td>\n",
       "      <td>NaN</td>\n",
       "      <td>-0.081060</td>\n",
       "    </tr>\n",
       "    <tr>\n",
       "      <th>query on thyroxine</th>\n",
       "      <td>-0.017870</td>\n",
       "      <td>-0.044712</td>\n",
       "      <td>0.005995</td>\n",
       "      <td>1.000000</td>\n",
       "      <td>-0.012446</td>\n",
       "      <td>0.012594</td>\n",
       "      <td>0.045247</td>\n",
       "      <td>0.005858</td>\n",
       "      <td>-0.014610</td>\n",
       "      <td>-0.029808</td>\n",
       "      <td>...</td>\n",
       "      <td>-3.340948e-02</td>\n",
       "      <td>-6.465900e-03</td>\n",
       "      <td>2.960328e-02</td>\n",
       "      <td>-4.702231e-03</td>\n",
       "      <td>3.155031e-02</td>\n",
       "      <td>4.384229e-04</td>\n",
       "      <td>3.141982e-02</td>\n",
       "      <td>-3.550040e-03</td>\n",
       "      <td>NaN</td>\n",
       "      <td>-0.007448</td>\n",
       "    </tr>\n",
       "    <tr>\n",
       "      <th>on antithyroid medication</th>\n",
       "      <td>-0.063881</td>\n",
       "      <td>0.027278</td>\n",
       "      <td>-0.002201</td>\n",
       "      <td>-0.012446</td>\n",
       "      <td>1.000000</td>\n",
       "      <td>-0.021624</td>\n",
       "      <td>0.072050</td>\n",
       "      <td>-0.012819</td>\n",
       "      <td>0.006589</td>\n",
       "      <td>-0.017264</td>\n",
       "      <td>...</td>\n",
       "      <td>1.094961e-02</td>\n",
       "      <td>7.921225e-02</td>\n",
       "      <td>-2.464939e-02</td>\n",
       "      <td>2.381055e-02</td>\n",
       "      <td>-2.953201e-02</td>\n",
       "      <td>6.036462e-02</td>\n",
       "      <td>-2.978795e-02</td>\n",
       "      <td>-1.660334e-02</td>\n",
       "      <td>NaN</td>\n",
       "      <td>-0.021689</td>\n",
       "    </tr>\n",
       "    <tr>\n",
       "      <th>sick</th>\n",
       "      <td>0.079468</td>\n",
       "      <td>-0.007438</td>\n",
       "      <td>-0.042053</td>\n",
       "      <td>0.012594</td>\n",
       "      <td>-0.021624</td>\n",
       "      <td>1.000000</td>\n",
       "      <td>-0.024040</td>\n",
       "      <td>-0.000762</td>\n",
       "      <td>-0.025384</td>\n",
       "      <td>0.027718</td>\n",
       "      <td>...</td>\n",
       "      <td>6.695144e-03</td>\n",
       "      <td>-7.647155e-02</td>\n",
       "      <td>-5.699708e-03</td>\n",
       "      <td>-3.700575e-02</td>\n",
       "      <td>9.399140e-03</td>\n",
       "      <td>-3.906941e-02</td>\n",
       "      <td>9.068046e-03</td>\n",
       "      <td>-2.118940e-02</td>\n",
       "      <td>NaN</td>\n",
       "      <td>-0.001749</td>\n",
       "    </tr>\n",
       "    <tr>\n",
       "      <th>pregnant</th>\n",
       "      <td>-0.113521</td>\n",
       "      <td>0.078665</td>\n",
       "      <td>0.010152</td>\n",
       "      <td>0.045247</td>\n",
       "      <td>0.072050</td>\n",
       "      <td>-0.024040</td>\n",
       "      <td>1.000000</td>\n",
       "      <td>-0.014251</td>\n",
       "      <td>-0.015048</td>\n",
       "      <td>-0.021364</td>\n",
       "      <td>...</td>\n",
       "      <td>2.686496e-02</td>\n",
       "      <td>1.811466e-01</td>\n",
       "      <td>2.109671e-02</td>\n",
       "      <td>1.724903e-01</td>\n",
       "      <td>3.294152e-02</td>\n",
       "      <td>3.347023e-01</td>\n",
       "      <td>3.280814e-02</td>\n",
       "      <td>-1.669842e-02</td>\n",
       "      <td>NaN</td>\n",
       "      <td>-0.034516</td>\n",
       "    </tr>\n",
       "    <tr>\n",
       "      <th>thyroid surgery</th>\n",
       "      <td>-0.029502</td>\n",
       "      <td>0.034543</td>\n",
       "      <td>0.037583</td>\n",
       "      <td>0.005858</td>\n",
       "      <td>-0.012819</td>\n",
       "      <td>-0.000762</td>\n",
       "      <td>-0.014251</td>\n",
       "      <td>1.000000</td>\n",
       "      <td>0.003104</td>\n",
       "      <td>-0.012026</td>\n",
       "      <td>...</td>\n",
       "      <td>-2.345292e-02</td>\n",
       "      <td>-2.414553e-02</td>\n",
       "      <td>3.049073e-02</td>\n",
       "      <td>-2.180623e-02</td>\n",
       "      <td>1.067220e-02</td>\n",
       "      <td>2.792243e-02</td>\n",
       "      <td>1.048764e-02</td>\n",
       "      <td>-3.182840e-02</td>\n",
       "      <td>NaN</td>\n",
       "      <td>-0.017633</td>\n",
       "    </tr>\n",
       "    <tr>\n",
       "      <th>I131 treatment</th>\n",
       "      <td>0.052704</td>\n",
       "      <td>0.022612</td>\n",
       "      <td>0.063373</td>\n",
       "      <td>-0.014610</td>\n",
       "      <td>0.006589</td>\n",
       "      <td>-0.025384</td>\n",
       "      <td>-0.015048</td>\n",
       "      <td>0.003104</td>\n",
       "      <td>1.000000</td>\n",
       "      <td>0.047296</td>\n",
       "      <td>...</td>\n",
       "      <td>1.504369e-04</td>\n",
       "      <td>1.205665e-02</td>\n",
       "      <td>3.219634e-02</td>\n",
       "      <td>-8.848056e-03</td>\n",
       "      <td>2.854012e-02</td>\n",
       "      <td>9.405826e-03</td>\n",
       "      <td>2.838493e-02</td>\n",
       "      <td>-1.681719e-02</td>\n",
       "      <td>NaN</td>\n",
       "      <td>0.003590</td>\n",
       "    </tr>\n",
       "    <tr>\n",
       "      <th>query hypothyroid</th>\n",
       "      <td>0.039562</td>\n",
       "      <td>0.042687</td>\n",
       "      <td>0.094412</td>\n",
       "      <td>-0.029808</td>\n",
       "      <td>-0.017264</td>\n",
       "      <td>0.027718</td>\n",
       "      <td>-0.021364</td>\n",
       "      <td>-0.012026</td>\n",
       "      <td>0.047296</td>\n",
       "      <td>1.000000</td>\n",
       "      <td>...</td>\n",
       "      <td>-6.354673e-02</td>\n",
       "      <td>-4.749603e-02</td>\n",
       "      <td>2.443261e-02</td>\n",
       "      <td>-9.012716e-03</td>\n",
       "      <td>1.451686e-02</td>\n",
       "      <td>1.383247e-02</td>\n",
       "      <td>1.409980e-02</td>\n",
       "      <td>-1.971919e-02</td>\n",
       "      <td>NaN</td>\n",
       "      <td>0.086282</td>\n",
       "    </tr>\n",
       "    <tr>\n",
       "      <th>query hyperthyroid</th>\n",
       "      <td>-0.038054</td>\n",
       "      <td>0.063617</td>\n",
       "      <td>-0.023796</td>\n",
       "      <td>-0.010905</td>\n",
       "      <td>0.126566</td>\n",
       "      <td>-0.035206</td>\n",
       "      <td>0.117605</td>\n",
       "      <td>0.015501</td>\n",
       "      <td>0.064212</td>\n",
       "      <td>0.019464</td>\n",
       "      <td>...</td>\n",
       "      <td>2.797884e-02</td>\n",
       "      <td>1.662303e-01</td>\n",
       "      <td>-4.777950e-02</td>\n",
       "      <td>1.278489e-01</td>\n",
       "      <td>-2.046639e-02</td>\n",
       "      <td>7.426861e-02</td>\n",
       "      <td>-2.096692e-02</td>\n",
       "      <td>1.022023e-01</td>\n",
       "      <td>NaN</td>\n",
       "      <td>-0.013446</td>\n",
       "    </tr>\n",
       "    <tr>\n",
       "      <th>lithium</th>\n",
       "      <td>-0.030126</td>\n",
       "      <td>0.012138</td>\n",
       "      <td>-0.002509</td>\n",
       "      <td>-0.008026</td>\n",
       "      <td>-0.007436</td>\n",
       "      <td>-0.013944</td>\n",
       "      <td>-0.008266</td>\n",
       "      <td>-0.008266</td>\n",
       "      <td>-0.008729</td>\n",
       "      <td>-0.001860</td>\n",
       "      <td>...</td>\n",
       "      <td>-3.154233e-03</td>\n",
       "      <td>7.874605e-03</td>\n",
       "      <td>1.768610e-02</td>\n",
       "      <td>-1.391340e-02</td>\n",
       "      <td>2.341344e-02</td>\n",
       "      <td>1.516916e-02</td>\n",
       "      <td>2.334597e-02</td>\n",
       "      <td>-2.594666e-02</td>\n",
       "      <td>NaN</td>\n",
       "      <td>-0.005603</td>\n",
       "    </tr>\n",
       "    <tr>\n",
       "      <th>goitre</th>\n",
       "      <td>-0.051830</td>\n",
       "      <td>-0.010417</td>\n",
       "      <td>-0.010098</td>\n",
       "      <td>0.038000</td>\n",
       "      <td>-0.010241</td>\n",
       "      <td>-0.019205</td>\n",
       "      <td>0.012447</td>\n",
       "      <td>-0.011385</td>\n",
       "      <td>-0.012022</td>\n",
       "      <td>-0.024527</td>\n",
       "      <td>...</td>\n",
       "      <td>-3.528926e-02</td>\n",
       "      <td>1.179153e-02</td>\n",
       "      <td>-1.073740e-02</td>\n",
       "      <td>-1.894053e-02</td>\n",
       "      <td>4.514355e-03</td>\n",
       "      <td>3.507619e-02</td>\n",
       "      <td>4.357692e-03</td>\n",
       "      <td>-3.986537e-02</td>\n",
       "      <td>NaN</td>\n",
       "      <td>-0.027575</td>\n",
       "    </tr>\n",
       "    <tr>\n",
       "      <th>tumor</th>\n",
       "      <td>-0.025037</td>\n",
       "      <td>0.073514</td>\n",
       "      <td>-0.029773</td>\n",
       "      <td>-0.004011</td>\n",
       "      <td>-0.017353</td>\n",
       "      <td>0.010949</td>\n",
       "      <td>0.123728</td>\n",
       "      <td>-0.004990</td>\n",
       "      <td>-0.020371</td>\n",
       "      <td>-0.034582</td>\n",
       "      <td>...</td>\n",
       "      <td>-1.850360e-02</td>\n",
       "      <td>9.743979e-02</td>\n",
       "      <td>-4.999352e-02</td>\n",
       "      <td>5.863822e-02</td>\n",
       "      <td>-2.302622e-02</td>\n",
       "      <td>9.020034e-02</td>\n",
       "      <td>-2.336217e-02</td>\n",
       "      <td>1.210741e-02</td>\n",
       "      <td>NaN</td>\n",
       "      <td>0.003747</td>\n",
       "    </tr>\n",
       "    <tr>\n",
       "      <th>hypopituitary</th>\n",
       "      <td>-0.024927</td>\n",
       "      <td>-0.024712</td>\n",
       "      <td>-0.006099</td>\n",
       "      <td>0.140500</td>\n",
       "      <td>-0.001749</td>\n",
       "      <td>-0.003279</td>\n",
       "      <td>-0.001944</td>\n",
       "      <td>-0.001944</td>\n",
       "      <td>-0.002053</td>\n",
       "      <td>-0.004188</td>\n",
       "      <td>...</td>\n",
       "      <td>8.240570e-03</td>\n",
       "      <td>-1.574029e-02</td>\n",
       "      <td>4.159247e-03</td>\n",
       "      <td>-2.564535e-02</td>\n",
       "      <td>5.506148e-03</td>\n",
       "      <td>6.597107e-03</td>\n",
       "      <td>5.490280e-03</td>\n",
       "      <td>-3.088991e-02</td>\n",
       "      <td>NaN</td>\n",
       "      <td>-0.004708</td>\n",
       "    </tr>\n",
       "    <tr>\n",
       "      <th>psych</th>\n",
       "      <td>-0.100116</td>\n",
       "      <td>-0.099896</td>\n",
       "      <td>-0.073571</td>\n",
       "      <td>-0.026247</td>\n",
       "      <td>-0.024318</td>\n",
       "      <td>-0.032883</td>\n",
       "      <td>-0.016577</td>\n",
       "      <td>-0.027034</td>\n",
       "      <td>-0.028546</td>\n",
       "      <td>-0.012320</td>\n",
       "      <td>...</td>\n",
       "      <td>9.932121e-02</td>\n",
       "      <td>2.731614e-02</td>\n",
       "      <td>5.783966e-02</td>\n",
       "      <td>-3.839169e-04</td>\n",
       "      <td>5.223382e-02</td>\n",
       "      <td>-1.469148e-02</td>\n",
       "      <td>5.195723e-02</td>\n",
       "      <td>1.010479e-02</td>\n",
       "      <td>NaN</td>\n",
       "      <td>-0.028575</td>\n",
       "    </tr>\n",
       "    <tr>\n",
       "      <th>TSH measured</th>\n",
       "      <td>0.105131</td>\n",
       "      <td>-0.036355</td>\n",
       "      <td>0.041818</td>\n",
       "      <td>-0.117891</td>\n",
       "      <td>0.001736</td>\n",
       "      <td>0.015588</td>\n",
       "      <td>0.001401</td>\n",
       "      <td>0.039310</td>\n",
       "      <td>0.041509</td>\n",
       "      <td>0.055090</td>\n",
       "      <td>...</td>\n",
       "      <td>4.447227e-01</td>\n",
       "      <td>-3.873973e-02</td>\n",
       "      <td>6.714294e-01</td>\n",
       "      <td>3.725929e-03</td>\n",
       "      <td>5.062649e-01</td>\n",
       "      <td>1.202644e-02</td>\n",
       "      <td>5.080050e-01</td>\n",
       "      <td>-1.515987e-04</td>\n",
       "      <td>NaN</td>\n",
       "      <td>0.095209</td>\n",
       "    </tr>\n",
       "    <tr>\n",
       "      <th>TSH</th>\n",
       "      <td>-0.056167</td>\n",
       "      <td>0.033615</td>\n",
       "      <td>0.017138</td>\n",
       "      <td>-0.009453</td>\n",
       "      <td>-0.010668</td>\n",
       "      <td>-0.022099</td>\n",
       "      <td>-0.019693</td>\n",
       "      <td>0.026230</td>\n",
       "      <td>-0.004125</td>\n",
       "      <td>0.025978</td>\n",
       "      <td>...</td>\n",
       "      <td>7.449362e-03</td>\n",
       "      <td>-1.473313e-01</td>\n",
       "      <td>-9.420131e-04</td>\n",
       "      <td>-2.612998e-01</td>\n",
       "      <td>-5.979489e-03</td>\n",
       "      <td>7.102821e-02</td>\n",
       "      <td>-6.287426e-03</td>\n",
       "      <td>-2.930229e-01</td>\n",
       "      <td>NaN</td>\n",
       "      <td>0.423958</td>\n",
       "    </tr>\n",
       "    <tr>\n",
       "      <th>T3 measured</th>\n",
       "      <td>0.073111</td>\n",
       "      <td>-0.071355</td>\n",
       "      <td>-0.145061</td>\n",
       "      <td>-0.033409</td>\n",
       "      <td>0.010950</td>\n",
       "      <td>0.006695</td>\n",
       "      <td>0.026865</td>\n",
       "      <td>-0.023453</td>\n",
       "      <td>0.000150</td>\n",
       "      <td>-0.063547</td>\n",
       "      <td>...</td>\n",
       "      <td>1.000000e+00</td>\n",
       "      <td>2.186250e-16</td>\n",
       "      <td>4.169044e-01</td>\n",
       "      <td>-3.912926e-02</td>\n",
       "      <td>2.626320e-01</td>\n",
       "      <td>6.912897e-03</td>\n",
       "      <td>2.641218e-01</td>\n",
       "      <td>-4.180689e-02</td>\n",
       "      <td>NaN</td>\n",
       "      <td>0.032866</td>\n",
       "    </tr>\n",
       "    <tr>\n",
       "      <th>T3</th>\n",
       "      <td>-0.214925</td>\n",
       "      <td>0.064213</td>\n",
       "      <td>0.006485</td>\n",
       "      <td>-0.006466</td>\n",
       "      <td>0.079212</td>\n",
       "      <td>-0.076472</td>\n",
       "      <td>0.181147</td>\n",
       "      <td>-0.024146</td>\n",
       "      <td>0.012057</td>\n",
       "      <td>-0.047496</td>\n",
       "      <td>...</td>\n",
       "      <td>2.186250e-16</td>\n",
       "      <td>1.000000e+00</td>\n",
       "      <td>-7.890859e-03</td>\n",
       "      <td>5.090651e-01</td>\n",
       "      <td>1.686030e-03</td>\n",
       "      <td>4.072415e-01</td>\n",
       "      <td>8.274354e-04</td>\n",
       "      <td>3.088371e-01</td>\n",
       "      <td>NaN</td>\n",
       "      <td>-0.177683</td>\n",
       "    </tr>\n",
       "    <tr>\n",
       "      <th>TT4 measured</th>\n",
       "      <td>0.067509</td>\n",
       "      <td>-0.076857</td>\n",
       "      <td>0.024964</td>\n",
       "      <td>0.029603</td>\n",
       "      <td>-0.024649</td>\n",
       "      <td>-0.005700</td>\n",
       "      <td>0.021097</td>\n",
       "      <td>0.030491</td>\n",
       "      <td>0.032196</td>\n",
       "      <td>0.024433</td>\n",
       "      <td>...</td>\n",
       "      <td>4.169044e-01</td>\n",
       "      <td>-7.890859e-03</td>\n",
       "      <td>1.000000e+00</td>\n",
       "      <td>-4.469704e-17</td>\n",
       "      <td>7.480946e-01</td>\n",
       "      <td>2.030617e-03</td>\n",
       "      <td>7.466088e-01</td>\n",
       "      <td>2.260306e-04</td>\n",
       "      <td>NaN</td>\n",
       "      <td>0.053129</td>\n",
       "    </tr>\n",
       "    <tr>\n",
       "      <th>TT4</th>\n",
       "      <td>-0.037609</td>\n",
       "      <td>0.167546</td>\n",
       "      <td>0.212801</td>\n",
       "      <td>-0.004702</td>\n",
       "      <td>0.023811</td>\n",
       "      <td>-0.037006</td>\n",
       "      <td>0.172490</td>\n",
       "      <td>-0.021806</td>\n",
       "      <td>-0.008848</td>\n",
       "      <td>-0.009013</td>\n",
       "      <td>...</td>\n",
       "      <td>-3.912926e-02</td>\n",
       "      <td>5.090651e-01</td>\n",
       "      <td>-4.469704e-17</td>\n",
       "      <td>1.000000e+00</td>\n",
       "      <td>4.124238e-02</td>\n",
       "      <td>4.264837e-01</td>\n",
       "      <td>3.975493e-02</td>\n",
       "      <td>7.791005e-01</td>\n",
       "      <td>NaN</td>\n",
       "      <td>-0.291677</td>\n",
       "    </tr>\n",
       "    <tr>\n",
       "      <th>T4U measured</th>\n",
       "      <td>0.085361</td>\n",
       "      <td>-0.051662</td>\n",
       "      <td>0.038852</td>\n",
       "      <td>0.031550</td>\n",
       "      <td>-0.029532</td>\n",
       "      <td>0.009399</td>\n",
       "      <td>0.032942</td>\n",
       "      <td>0.010672</td>\n",
       "      <td>0.028540</td>\n",
       "      <td>0.014517</td>\n",
       "      <td>...</td>\n",
       "      <td>2.626320e-01</td>\n",
       "      <td>1.686030e-03</td>\n",
       "      <td>7.480946e-01</td>\n",
       "      <td>4.124238e-02</td>\n",
       "      <td>1.000000e+00</td>\n",
       "      <td>1.733842e-16</td>\n",
       "      <td>9.971181e-01</td>\n",
       "      <td>6.114169e-04</td>\n",
       "      <td>NaN</td>\n",
       "      <td>0.015901</td>\n",
       "    </tr>\n",
       "    <tr>\n",
       "      <th>T4U</th>\n",
       "      <td>-0.157523</td>\n",
       "      <td>0.221883</td>\n",
       "      <td>0.046368</td>\n",
       "      <td>0.000438</td>\n",
       "      <td>0.060365</td>\n",
       "      <td>-0.039069</td>\n",
       "      <td>0.334702</td>\n",
       "      <td>0.027922</td>\n",
       "      <td>0.009406</td>\n",
       "      <td>0.013832</td>\n",
       "      <td>...</td>\n",
       "      <td>6.912897e-03</td>\n",
       "      <td>4.072415e-01</td>\n",
       "      <td>2.030617e-03</td>\n",
       "      <td>4.264837e-01</td>\n",
       "      <td>1.733842e-16</td>\n",
       "      <td>1.000000e+00</td>\n",
       "      <td>1.747057e-16</td>\n",
       "      <td>-1.740050e-01</td>\n",
       "      <td>NaN</td>\n",
       "      <td>0.028337</td>\n",
       "    </tr>\n",
       "    <tr>\n",
       "      <th>FTI measured</th>\n",
       "      <td>0.084534</td>\n",
       "      <td>-0.052532</td>\n",
       "      <td>0.038285</td>\n",
       "      <td>0.031420</td>\n",
       "      <td>-0.029788</td>\n",
       "      <td>0.009068</td>\n",
       "      <td>0.032808</td>\n",
       "      <td>0.010488</td>\n",
       "      <td>0.028385</td>\n",
       "      <td>0.014100</td>\n",
       "      <td>...</td>\n",
       "      <td>2.641218e-01</td>\n",
       "      <td>8.274354e-04</td>\n",
       "      <td>7.466088e-01</td>\n",
       "      <td>3.975493e-02</td>\n",
       "      <td>9.971181e-01</td>\n",
       "      <td>1.747057e-16</td>\n",
       "      <td>1.000000e+00</td>\n",
       "      <td>-1.909312e-16</td>\n",
       "      <td>NaN</td>\n",
       "      <td>0.015431</td>\n",
       "    </tr>\n",
       "    <tr>\n",
       "      <th>FTI</th>\n",
       "      <td>0.050017</td>\n",
       "      <td>0.041900</td>\n",
       "      <td>0.185748</td>\n",
       "      <td>-0.003550</td>\n",
       "      <td>-0.016603</td>\n",
       "      <td>-0.021189</td>\n",
       "      <td>-0.016698</td>\n",
       "      <td>-0.031828</td>\n",
       "      <td>-0.016817</td>\n",
       "      <td>-0.019719</td>\n",
       "      <td>...</td>\n",
       "      <td>-4.180689e-02</td>\n",
       "      <td>3.088371e-01</td>\n",
       "      <td>2.260306e-04</td>\n",
       "      <td>7.791005e-01</td>\n",
       "      <td>6.114169e-04</td>\n",
       "      <td>-1.740050e-01</td>\n",
       "      <td>-1.909312e-16</td>\n",
       "      <td>1.000000e+00</td>\n",
       "      <td>NaN</td>\n",
       "      <td>-0.313791</td>\n",
       "    </tr>\n",
       "    <tr>\n",
       "      <th>TBG measured</th>\n",
       "      <td>NaN</td>\n",
       "      <td>NaN</td>\n",
       "      <td>NaN</td>\n",
       "      <td>NaN</td>\n",
       "      <td>NaN</td>\n",
       "      <td>NaN</td>\n",
       "      <td>NaN</td>\n",
       "      <td>NaN</td>\n",
       "      <td>NaN</td>\n",
       "      <td>NaN</td>\n",
       "      <td>...</td>\n",
       "      <td>NaN</td>\n",
       "      <td>NaN</td>\n",
       "      <td>NaN</td>\n",
       "      <td>NaN</td>\n",
       "      <td>NaN</td>\n",
       "      <td>NaN</td>\n",
       "      <td>NaN</td>\n",
       "      <td>NaN</td>\n",
       "      <td>NaN</td>\n",
       "      <td>NaN</td>\n",
       "    </tr>\n",
       "    <tr>\n",
       "      <th>binaryClass</th>\n",
       "      <td>-0.003174</td>\n",
       "      <td>0.049960</td>\n",
       "      <td>-0.081060</td>\n",
       "      <td>-0.007448</td>\n",
       "      <td>-0.021689</td>\n",
       "      <td>-0.001749</td>\n",
       "      <td>-0.034516</td>\n",
       "      <td>-0.017633</td>\n",
       "      <td>0.003590</td>\n",
       "      <td>0.086282</td>\n",
       "      <td>...</td>\n",
       "      <td>3.286576e-02</td>\n",
       "      <td>-1.776835e-01</td>\n",
       "      <td>5.312853e-02</td>\n",
       "      <td>-2.916767e-01</td>\n",
       "      <td>1.590087e-02</td>\n",
       "      <td>2.833745e-02</td>\n",
       "      <td>1.543102e-02</td>\n",
       "      <td>-3.137907e-01</td>\n",
       "      <td>NaN</td>\n",
       "      <td>1.000000</td>\n",
       "    </tr>\n",
       "  </tbody>\n",
       "</table>\n",
       "<p>28 rows × 28 columns</p>\n",
       "</div>"
      ],
      "text/plain": [
       "                                age       sex  on thyroxine   \n",
       "age                        1.000000  0.000154      0.014563  \\\n",
       "sex                        0.000154  1.000000      0.095709   \n",
       "on thyroxine               0.014563  0.095709      1.000000   \n",
       "query on thyroxine        -0.017870 -0.044712      0.005995   \n",
       "on antithyroid medication -0.063881  0.027278     -0.002201   \n",
       "sick                       0.079468 -0.007438     -0.042053   \n",
       "pregnant                  -0.113521  0.078665      0.010152   \n",
       "thyroid surgery           -0.029502  0.034543      0.037583   \n",
       "I131 treatment             0.052704  0.022612      0.063373   \n",
       "query hypothyroid          0.039562  0.042687      0.094412   \n",
       "query hyperthyroid        -0.038054  0.063617     -0.023796   \n",
       "lithium                   -0.030126  0.012138     -0.002509   \n",
       "goitre                    -0.051830 -0.010417     -0.010098   \n",
       "tumor                     -0.025037  0.073514     -0.029773   \n",
       "hypopituitary             -0.024927 -0.024712     -0.006099   \n",
       "psych                     -0.100116 -0.099896     -0.073571   \n",
       "TSH measured               0.105131 -0.036355      0.041818   \n",
       "TSH                       -0.056167  0.033615      0.017138   \n",
       "T3 measured                0.073111 -0.071355     -0.145061   \n",
       "T3                        -0.214925  0.064213      0.006485   \n",
       "TT4 measured               0.067509 -0.076857      0.024964   \n",
       "TT4                       -0.037609  0.167546      0.212801   \n",
       "T4U measured               0.085361 -0.051662      0.038852   \n",
       "T4U                       -0.157523  0.221883      0.046368   \n",
       "FTI measured               0.084534 -0.052532      0.038285   \n",
       "FTI                        0.050017  0.041900      0.185748   \n",
       "TBG measured                    NaN       NaN           NaN   \n",
       "binaryClass               -0.003174  0.049960     -0.081060   \n",
       "\n",
       "                           query on thyroxine  on antithyroid medication   \n",
       "age                                 -0.017870                  -0.063881  \\\n",
       "sex                                 -0.044712                   0.027278   \n",
       "on thyroxine                         0.005995                  -0.002201   \n",
       "query on thyroxine                   1.000000                  -0.012446   \n",
       "on antithyroid medication           -0.012446                   1.000000   \n",
       "sick                                 0.012594                  -0.021624   \n",
       "pregnant                             0.045247                   0.072050   \n",
       "thyroid surgery                      0.005858                  -0.012819   \n",
       "I131 treatment                      -0.014610                   0.006589   \n",
       "query hypothyroid                   -0.029808                  -0.017264   \n",
       "query hyperthyroid                  -0.010905                   0.126566   \n",
       "lithium                             -0.008026                  -0.007436   \n",
       "goitre                               0.038000                  -0.010241   \n",
       "tumor                               -0.004011                  -0.017353   \n",
       "hypopituitary                        0.140500                  -0.001749   \n",
       "psych                               -0.026247                  -0.024318   \n",
       "TSH measured                        -0.117891                   0.001736   \n",
       "TSH                                 -0.009453                  -0.010668   \n",
       "T3 measured                         -0.033409                   0.010950   \n",
       "T3                                  -0.006466                   0.079212   \n",
       "TT4 measured                         0.029603                  -0.024649   \n",
       "TT4                                 -0.004702                   0.023811   \n",
       "T4U measured                         0.031550                  -0.029532   \n",
       "T4U                                  0.000438                   0.060365   \n",
       "FTI measured                         0.031420                  -0.029788   \n",
       "FTI                                 -0.003550                  -0.016603   \n",
       "TBG measured                              NaN                        NaN   \n",
       "binaryClass                         -0.007448                  -0.021689   \n",
       "\n",
       "                               sick  pregnant  thyroid surgery   \n",
       "age                        0.079468 -0.113521        -0.029502  \\\n",
       "sex                       -0.007438  0.078665         0.034543   \n",
       "on thyroxine              -0.042053  0.010152         0.037583   \n",
       "query on thyroxine         0.012594  0.045247         0.005858   \n",
       "on antithyroid medication -0.021624  0.072050        -0.012819   \n",
       "sick                       1.000000 -0.024040        -0.000762   \n",
       "pregnant                  -0.024040  1.000000        -0.014251   \n",
       "thyroid surgery           -0.000762 -0.014251         1.000000   \n",
       "I131 treatment            -0.025384 -0.015048         0.003104   \n",
       "query hypothyroid          0.027718 -0.021364        -0.012026   \n",
       "query hyperthyroid        -0.035206  0.117605         0.015501   \n",
       "lithium                   -0.013944 -0.008266        -0.008266   \n",
       "goitre                    -0.019205  0.012447        -0.011385   \n",
       "tumor                      0.010949  0.123728        -0.004990   \n",
       "hypopituitary             -0.003279 -0.001944        -0.001944   \n",
       "psych                     -0.032883 -0.016577        -0.027034   \n",
       "TSH measured               0.015588  0.001401         0.039310   \n",
       "TSH                       -0.022099 -0.019693         0.026230   \n",
       "T3 measured                0.006695  0.026865        -0.023453   \n",
       "T3                        -0.076472  0.181147        -0.024146   \n",
       "TT4 measured              -0.005700  0.021097         0.030491   \n",
       "TT4                       -0.037006  0.172490        -0.021806   \n",
       "T4U measured               0.009399  0.032942         0.010672   \n",
       "T4U                       -0.039069  0.334702         0.027922   \n",
       "FTI measured               0.009068  0.032808         0.010488   \n",
       "FTI                       -0.021189 -0.016698        -0.031828   \n",
       "TBG measured                    NaN       NaN              NaN   \n",
       "binaryClass               -0.001749 -0.034516        -0.017633   \n",
       "\n",
       "                           I131 treatment  query hypothyroid  ...   \n",
       "age                              0.052704           0.039562  ...  \\\n",
       "sex                              0.022612           0.042687  ...   \n",
       "on thyroxine                     0.063373           0.094412  ...   \n",
       "query on thyroxine              -0.014610          -0.029808  ...   \n",
       "on antithyroid medication        0.006589          -0.017264  ...   \n",
       "sick                            -0.025384           0.027718  ...   \n",
       "pregnant                        -0.015048          -0.021364  ...   \n",
       "thyroid surgery                  0.003104          -0.012026  ...   \n",
       "I131 treatment                   1.000000           0.047296  ...   \n",
       "query hypothyroid                0.047296           1.000000  ...   \n",
       "query hyperthyroid               0.064212           0.019464  ...   \n",
       "lithium                         -0.008729          -0.001860  ...   \n",
       "goitre                          -0.012022          -0.024527  ...   \n",
       "tumor                           -0.020371          -0.034582  ...   \n",
       "hypopituitary                   -0.002053          -0.004188  ...   \n",
       "psych                           -0.028546          -0.012320  ...   \n",
       "TSH measured                     0.041509           0.055090  ...   \n",
       "TSH                             -0.004125           0.025978  ...   \n",
       "T3 measured                      0.000150          -0.063547  ...   \n",
       "T3                               0.012057          -0.047496  ...   \n",
       "TT4 measured                     0.032196           0.024433  ...   \n",
       "TT4                             -0.008848          -0.009013  ...   \n",
       "T4U measured                     0.028540           0.014517  ...   \n",
       "T4U                              0.009406           0.013832  ...   \n",
       "FTI measured                     0.028385           0.014100  ...   \n",
       "FTI                             -0.016817          -0.019719  ...   \n",
       "TBG measured                          NaN                NaN  ...   \n",
       "binaryClass                      0.003590           0.086282  ...   \n",
       "\n",
       "                            T3 measured            T3  TT4 measured   \n",
       "age                        7.311084e-02 -2.149247e-01  6.750898e-02  \\\n",
       "sex                       -7.135524e-02  6.421320e-02 -7.685721e-02   \n",
       "on thyroxine              -1.450614e-01  6.484854e-03  2.496392e-02   \n",
       "query on thyroxine        -3.340948e-02 -6.465900e-03  2.960328e-02   \n",
       "on antithyroid medication  1.094961e-02  7.921225e-02 -2.464939e-02   \n",
       "sick                       6.695144e-03 -7.647155e-02 -5.699708e-03   \n",
       "pregnant                   2.686496e-02  1.811466e-01  2.109671e-02   \n",
       "thyroid surgery           -2.345292e-02 -2.414553e-02  3.049073e-02   \n",
       "I131 treatment             1.504369e-04  1.205665e-02  3.219634e-02   \n",
       "query hypothyroid         -6.354673e-02 -4.749603e-02  2.443261e-02   \n",
       "query hyperthyroid         2.797884e-02  1.662303e-01 -4.777950e-02   \n",
       "lithium                   -3.154233e-03  7.874605e-03  1.768610e-02   \n",
       "goitre                    -3.528926e-02  1.179153e-02 -1.073740e-02   \n",
       "tumor                     -1.850360e-02  9.743979e-02 -4.999352e-02   \n",
       "hypopituitary              8.240570e-03 -1.574029e-02  4.159247e-03   \n",
       "psych                      9.932121e-02  2.731614e-02  5.783966e-02   \n",
       "TSH measured               4.447227e-01 -3.873973e-02  6.714294e-01   \n",
       "TSH                        7.449362e-03 -1.473313e-01 -9.420131e-04   \n",
       "T3 measured                1.000000e+00  2.186250e-16  4.169044e-01   \n",
       "T3                         2.186250e-16  1.000000e+00 -7.890859e-03   \n",
       "TT4 measured               4.169044e-01 -7.890859e-03  1.000000e+00   \n",
       "TT4                       -3.912926e-02  5.090651e-01 -4.469704e-17   \n",
       "T4U measured               2.626320e-01  1.686030e-03  7.480946e-01   \n",
       "T4U                        6.912897e-03  4.072415e-01  2.030617e-03   \n",
       "FTI measured               2.641218e-01  8.274354e-04  7.466088e-01   \n",
       "FTI                       -4.180689e-02  3.088371e-01  2.260306e-04   \n",
       "TBG measured                        NaN           NaN           NaN   \n",
       "binaryClass                3.286576e-02 -1.776835e-01  5.312853e-02   \n",
       "\n",
       "                                    TT4  T4U measured           T4U   \n",
       "age                       -3.760948e-02  8.536127e-02 -1.575229e-01  \\\n",
       "sex                        1.675458e-01 -5.166161e-02  2.218835e-01   \n",
       "on thyroxine               2.128008e-01  3.885187e-02  4.636815e-02   \n",
       "query on thyroxine        -4.702231e-03  3.155031e-02  4.384229e-04   \n",
       "on antithyroid medication  2.381055e-02 -2.953201e-02  6.036462e-02   \n",
       "sick                      -3.700575e-02  9.399140e-03 -3.906941e-02   \n",
       "pregnant                   1.724903e-01  3.294152e-02  3.347023e-01   \n",
       "thyroid surgery           -2.180623e-02  1.067220e-02  2.792243e-02   \n",
       "I131 treatment            -8.848056e-03  2.854012e-02  9.405826e-03   \n",
       "query hypothyroid         -9.012716e-03  1.451686e-02  1.383247e-02   \n",
       "query hyperthyroid         1.278489e-01 -2.046639e-02  7.426861e-02   \n",
       "lithium                   -1.391340e-02  2.341344e-02  1.516916e-02   \n",
       "goitre                    -1.894053e-02  4.514355e-03  3.507619e-02   \n",
       "tumor                      5.863822e-02 -2.302622e-02  9.020034e-02   \n",
       "hypopituitary             -2.564535e-02  5.506148e-03  6.597107e-03   \n",
       "psych                     -3.839169e-04  5.223382e-02 -1.469148e-02   \n",
       "TSH measured               3.725929e-03  5.062649e-01  1.202644e-02   \n",
       "TSH                       -2.612998e-01 -5.979489e-03  7.102821e-02   \n",
       "T3 measured               -3.912926e-02  2.626320e-01  6.912897e-03   \n",
       "T3                         5.090651e-01  1.686030e-03  4.072415e-01   \n",
       "TT4 measured              -4.469704e-17  7.480946e-01  2.030617e-03   \n",
       "TT4                        1.000000e+00  4.124238e-02  4.264837e-01   \n",
       "T4U measured               4.124238e-02  1.000000e+00  1.733842e-16   \n",
       "T4U                        4.264837e-01  1.733842e-16  1.000000e+00   \n",
       "FTI measured               3.975493e-02  9.971181e-01  1.747057e-16   \n",
       "FTI                        7.791005e-01  6.114169e-04 -1.740050e-01   \n",
       "TBG measured                        NaN           NaN           NaN   \n",
       "binaryClass               -2.916767e-01  1.590087e-02  2.833745e-02   \n",
       "\n",
       "                           FTI measured           FTI  TBG measured   \n",
       "age                        8.453378e-02  5.001749e-02           NaN  \\\n",
       "sex                       -5.253222e-02  4.189999e-02           NaN   \n",
       "on thyroxine               3.828521e-02  1.857484e-01           NaN   \n",
       "query on thyroxine         3.141982e-02 -3.550040e-03           NaN   \n",
       "on antithyroid medication -2.978795e-02 -1.660334e-02           NaN   \n",
       "sick                       9.068046e-03 -2.118940e-02           NaN   \n",
       "pregnant                   3.280814e-02 -1.669842e-02           NaN   \n",
       "thyroid surgery            1.048764e-02 -3.182840e-02           NaN   \n",
       "I131 treatment             2.838493e-02 -1.681719e-02           NaN   \n",
       "query hypothyroid          1.409980e-02 -1.971919e-02           NaN   \n",
       "query hyperthyroid        -2.096692e-02  1.022023e-01           NaN   \n",
       "lithium                    2.334597e-02 -2.594666e-02           NaN   \n",
       "goitre                     4.357692e-03 -3.986537e-02           NaN   \n",
       "tumor                     -2.336217e-02  1.210741e-02           NaN   \n",
       "hypopituitary              5.490280e-03 -3.088991e-02           NaN   \n",
       "psych                      5.195723e-02  1.010479e-02           NaN   \n",
       "TSH measured               5.080050e-01 -1.515987e-04           NaN   \n",
       "TSH                       -6.287426e-03 -2.930229e-01           NaN   \n",
       "T3 measured                2.641218e-01 -4.180689e-02           NaN   \n",
       "T3                         8.274354e-04  3.088371e-01           NaN   \n",
       "TT4 measured               7.466088e-01  2.260306e-04           NaN   \n",
       "TT4                        3.975493e-02  7.791005e-01           NaN   \n",
       "T4U measured               9.971181e-01  6.114169e-04           NaN   \n",
       "T4U                        1.747057e-16 -1.740050e-01           NaN   \n",
       "FTI measured               1.000000e+00 -1.909312e-16           NaN   \n",
       "FTI                       -1.909312e-16  1.000000e+00           NaN   \n",
       "TBG measured                        NaN           NaN           NaN   \n",
       "binaryClass                1.543102e-02 -3.137907e-01           NaN   \n",
       "\n",
       "                           binaryClass  \n",
       "age                          -0.003174  \n",
       "sex                           0.049960  \n",
       "on thyroxine                 -0.081060  \n",
       "query on thyroxine           -0.007448  \n",
       "on antithyroid medication    -0.021689  \n",
       "sick                         -0.001749  \n",
       "pregnant                     -0.034516  \n",
       "thyroid surgery              -0.017633  \n",
       "I131 treatment                0.003590  \n",
       "query hypothyroid             0.086282  \n",
       "query hyperthyroid           -0.013446  \n",
       "lithium                      -0.005603  \n",
       "goitre                       -0.027575  \n",
       "tumor                         0.003747  \n",
       "hypopituitary                -0.004708  \n",
       "psych                        -0.028575  \n",
       "TSH measured                  0.095209  \n",
       "TSH                           0.423958  \n",
       "T3 measured                   0.032866  \n",
       "T3                           -0.177683  \n",
       "TT4 measured                  0.053129  \n",
       "TT4                          -0.291677  \n",
       "T4U measured                  0.015901  \n",
       "T4U                           0.028337  \n",
       "FTI measured                  0.015431  \n",
       "FTI                          -0.313791  \n",
       "TBG measured                       NaN  \n",
       "binaryClass                   1.000000  \n",
       "\n",
       "[28 rows x 28 columns]"
      ]
     },
     "execution_count": 49,
     "metadata": {},
     "output_type": "execute_result"
    }
   ],
   "source": [
    "df_corr = df.corr()\n",
    "df_corr"
   ]
  },
  {
   "cell_type": "code",
   "execution_count": 50,
   "id": "7f9550e6",
   "metadata": {},
   "outputs": [
    {
     "data": {
      "text/plain": [
       "<Axes: >"
      ]
     },
     "execution_count": 50,
     "metadata": {},
     "output_type": "execute_result"
    },
    {
     "data": {
      "image/png": "[encoded data removed]",
      "text/plain": [
       "<Figure size 1500x1500 with 2 Axes>"
      ]
     },
     "metadata": {},
     "output_type": "display_data"
    }
   ],
   "source": [
    "plt.figure(figsize = (15,15))\n",
    "sns.heatmap(df_corr)"
   ]
  },
  {
   "cell_type": "code",
   "execution_count": 51,
   "id": "a301b08f",
   "metadata": {},
   "outputs": [],
   "source": [
    "x = df.drop('binaryClass', axis=1)\n",
    "y = df['binaryClass']"
   ]
  },
  {
   "cell_type": "code",
   "execution_count": 52,
   "id": "022d283b",
   "metadata": {},
   "outputs": [],
   "source": [
    "from sklearn.model_selection import train_test_split\n",
    "x_train, x_test, y_train, y_test = train_test_split(x, y, test_size=0.25, random_state=42)"
   ]
  },
  {
   "cell_type": "code",
   "execution_count": 53,
   "id": "57f73865",
   "metadata": {},
   "outputs": [],
   "source": [
    "from sklearn.preprocessing import StandardScaler\n",
    "\n",
    "sc = StandardScaler()\n",
    "sc.fit(x_train)\n",
    "x_train = sc.transform(x_train)\n",
    "x_test = sc.transform(x_test)"
   ]
  },
  {
   "cell_type": "code",
   "execution_count": 54,
   "id": "faadef34",
   "metadata": {},
   "outputs": [
    {
     "data": {
      "text/plain": [
       "array([-1.25724849,  0.66254235, -0.37144669, -0.11823068, -0.10696181,\n",
       "       -0.20208625, -0.11668415, -0.11353134, -0.12569377, -0.25912251,\n",
       "       -0.26298479, -0.07052203, -0.09053575, -0.16275031, -0.01880444,\n",
       "       -0.22472494,  0.32615128, -0.12074446,  0.49790031, -0.01562478,\n",
       "        0.25126512,  0.75997109,  0.33796183,  1.19009127,  0.33666185,\n",
       "        0.01223448,  0.        ])"
      ]
     },
     "execution_count": 54,
     "metadata": {},
     "output_type": "execute_result"
    }
   ],
   "source": [
    "x_train[0]"
   ]
  },
  {
   "cell_type": "code",
   "execution_count": 55,
   "id": "9c798b39",
   "metadata": {},
   "outputs": [
    {
     "data": {
      "text/plain": [
       "array([-1.25724849,  0.66254235, -0.37144669, -0.11823068, -0.10696181,\n",
       "       -0.20208625, -0.11668415, -0.11353134, -0.12569377, -0.25912251,\n",
       "       -0.26298479, -0.07052203, -0.09053575, -0.16275031, -0.01880444,\n",
       "       -0.22472494,  0.32615128, -0.12908581,  0.49790031,  0.25156559,\n",
       "        0.25126512, -0.38131003,  0.33796183,  0.03573321,  0.33666185,\n",
       "       -0.49086425,  0.        ])"
      ]
     },
     "execution_count": 55,
     "metadata": {},
     "output_type": "execute_result"
    }
   ],
   "source": [
    "x_test[0]"
   ]
  },
  {
   "cell_type": "code",
   "execution_count": 56,
   "id": "9486a401",
   "metadata": {},
   "outputs": [],
   "source": [
    "from sklearn.linear_model import LogisticRegression\n",
    "from sklearn import metrics \n",
    "from sklearn.model_selection import cross_val_score, KFold"
   ]
  },
  {
   "cell_type": "code",
   "execution_count": 57,
   "id": "a5f69ed9",
   "metadata": {},
   "outputs": [
    {
     "data": {
      "text/html": [
       "<style>#sk-container-id-1 {color: black;background-color: white;}#sk-container-id-1 pre{padding: 0;}#sk-container-id-1 div.sk-toggleable {background-color: white;}#sk-container-id-1 label.sk-toggleable__label {cursor: pointer;display: block;width: 100%;margin-bottom: 0;padding: 0.3em;box-sizing: border-box;text-align: center;}#sk-container-id-1 label.sk-toggleable__label-arrow:before {content: \"▸\";float: left;margin-right: 0.25em;color: #696969;}#sk-container-id-1 label.sk-toggleable__label-arrow:hover:before {color: black;}#sk-container-id-1 div.sk-estimator:hover label.sk-toggleable__label-arrow:before {color: black;}#sk-container-id-1 div.sk-toggleable__content {max-height: 0;max-width: 0;overflow: hidden;text-align: left;background-color: #f0f8ff;}#sk-container-id-1 div.sk-toggleable__content pre {margin: 0.2em;color: black;border-radius: 0.25em;background-color: #f0f8ff;}#sk-container-id-1 input.sk-toggleable__control:checked~div.sk-toggleable__content {max-height: 200px;max-width: 100%;overflow: auto;}#sk-container-id-1 input.sk-toggleable__control:checked~label.sk-toggleable__label-arrow:before {content: \"▾\";}#sk-container-id-1 div.sk-estimator input.sk-toggleable__control:checked~label.sk-toggleable__label {background-color: #d4ebff;}#sk-container-id-1 div.sk-label input.sk-toggleable__control:checked~label.sk-toggleable__label {background-color: #d4ebff;}#sk-container-id-1 input.sk-hidden--visually {border: 0;clip: rect(1px 1px 1px 1px);clip: rect(1px, 1px, 1px, 1px);height: 1px;margin: -1px;overflow: hidden;padding: 0;position: absolute;width: 1px;}#sk-container-id-1 div.sk-estimator {font-family: monospace;background-color: #f0f8ff;border: 1px dotted black;border-radius: 0.25em;box-sizing: border-box;margin-bottom: 0.5em;}#sk-container-id-1 div.sk-estimator:hover {background-color: #d4ebff;}#sk-container-id-1 div.sk-parallel-item::after {content: \"\";width: 100%;border-bottom: 1px solid gray;flex-grow: 1;}#sk-container-id-1 div.sk-label:hover label.sk-toggleable__label {background-color: #d4ebff;}#sk-container-id-1 div.sk-serial::before {content: \"\";position: absolute;border-left: 1px solid gray;box-sizing: border-box;top: 0;bottom: 0;left: 50%;z-index: 0;}#sk-container-id-1 div.sk-serial {display: flex;flex-direction: column;align-items: center;background-color: white;padding-right: 0.2em;padding-left: 0.2em;position: relative;}#sk-container-id-1 div.sk-item {position: relative;z-index: 1;}#sk-container-id-1 div.sk-parallel {display: flex;align-items: stretch;justify-content: center;background-color: white;position: relative;}#sk-container-id-1 div.sk-item::before, #sk-container-id-1 div.sk-parallel-item::before {content: \"\";position: absolute;border-left: 1px solid gray;box-sizing: border-box;top: 0;bottom: 0;left: 50%;z-index: -1;}#sk-container-id-1 div.sk-parallel-item {display: flex;flex-direction: column;z-index: 1;position: relative;background-color: white;}#sk-container-id-1 div.sk-parallel-item:first-child::after {align-self: flex-end;width: 50%;}#sk-container-id-1 div.sk-parallel-item:last-child::after {align-self: flex-start;width: 50%;}#sk-container-id-1 div.sk-parallel-item:only-child::after {width: 0;}#sk-container-id-1 div.sk-dashed-wrapped {border: 1px dashed gray;margin: 0 0.4em 0.5em 0.4em;box-sizing: border-box;padding-bottom: 0.4em;background-color: white;}#sk-container-id-1 div.sk-label label {font-family: monospace;font-weight: bold;display: inline-block;line-height: 1.2em;}#sk-container-id-1 div.sk-label-container {text-align: center;}#sk-container-id-1 div.sk-container {/* jupyter's `normalize.less` sets `[hidden] { display: none; }` but bootstrap.min.css set `[hidden] { display: none !important; }` so we also need the `!important` here to be able to override the default hidden behavior on the sphinx rendered scikit-learn.org. See: https://github.com/scikit-learn/scikit-learn/issues/21755 */display: inline-block !important;position: relative;}#sk-container-id-1 div.sk-text-repr-fallback {display: none;}</style><div id=\"sk-container-id-1\" class=\"sk-top-container\"><div class=\"sk-text-repr-fallback\"><pre>LogisticRegression()</pre><b>In a Jupyter environment, please rerun this cell to show the HTML representation or trust the notebook. <br />On GitHub, the HTML representation is unable to render, please try loading this page with nbviewer.org.</b></div><div class=\"sk-container\" hidden><div class=\"sk-item\"><div class=\"sk-estimator sk-toggleable\"><input class=\"sk-toggleable__control sk-hidden--visually\" id=\"sk-estimator-id-1\" type=\"checkbox\" checked><label for=\"sk-estimator-id-1\" class=\"sk-toggleable__label sk-toggleable__label-arrow\">LogisticRegression</label><div class=\"sk-toggleable__content\"><pre>LogisticRegression()</pre></div></div></div></div></div>"
      ],
      "text/plain": [
       "LogisticRegression()"
      ]
     },
     "execution_count": 57,
     "metadata": {},
     "output_type": "execute_result"
    }
   ],
   "source": [
    "model = LogisticRegression()\n",
    "model.fit(x_train, y_train)"
   ]
  },
  {
   "cell_type": "code",
   "execution_count": 58,
   "id": "a7a13358",
   "metadata": {},
   "outputs": [],
   "source": [
    "predicted = model.predict(x_test)"
   ]
  },
  {
   "cell_type": "code",
   "execution_count": 59,
   "id": "bf63c189",
   "metadata": {},
   "outputs": [
    {
     "data": {
      "text/plain": [
       "0.9692470837751855"
      ]
     },
     "execution_count": 59,
     "metadata": {},
     "output_type": "execute_result"
    }
   ],
   "source": [
    "metrics.accuracy_score(y_test,predicted)"
   ]
  },
  {
   "cell_type": "code",
   "execution_count": 60,
   "id": "3d8f9348",
   "metadata": {},
   "outputs": [
    {
     "data": {
      "text/plain": [
       "array([[877,   1],\n",
       "       [ 28,  37]])"
      ]
     },
     "execution_count": 60,
     "metadata": {},
     "output_type": "execute_result"
    }
   ],
   "source": [
    "metrics.confusion_matrix(y_test,predicted)"
   ]
  },
  {
   "cell_type": "code",
   "execution_count": 61,
   "id": "07c14c71",
   "metadata": {},
   "outputs": [
    {
     "data": {
      "text/plain": [
       "'              precision    recall  f1-score   support\\n\\n           0       0.97      1.00      0.98       878\\n           1       0.97      0.57      0.72        65\\n\\n    accuracy                           0.97       943\\n   macro avg       0.97      0.78      0.85       943\\nweighted avg       0.97      0.97      0.97       943\\n'"
      ]
     },
     "execution_count": 61,
     "metadata": {},
     "output_type": "execute_result"
    }
   ],
   "source": [
    "metrics.classification_report(y_test, predicted)"
   ]
  },
  {
   "cell_type": "code",
   "execution_count": 62,
   "id": "52c35202",
   "metadata": {},
   "outputs": [
    {
     "name": "stdout",
     "output_type": "stream",
     "text": [
      "              precision    recall  f1-score   support\n",
      "\n",
      "           0       0.97      1.00      0.98       878\n",
      "           1       0.97      0.57      0.72        65\n",
      "\n",
      "    accuracy                           0.97       943\n",
      "   macro avg       0.97      0.78      0.85       943\n",
      "weighted avg       0.97      0.97      0.97       943\n",
      "\n"
     ]
    }
   ],
   "source": [
    "print(metrics.classification_report(y_test, predicted))"
   ]
  },
  {
   "cell_type": "code",
   "execution_count": 63,
   "id": "c7ea69f5",
   "metadata": {},
   "outputs": [
    {
     "data": {
      "text/plain": [
       "(array([0.96466431, 0.9540636 , 0.96113074, 0.96113074, 0.96466431,\n",
       "        0.96819788, 0.95759717, 0.97173145, 0.95053004, 0.96453901]),\n",
       " 0.9618249254442022)"
      ]
     },
     "execution_count": 63,
     "metadata": {},
     "output_type": "execute_result"
    }
   ],
   "source": [
    "scores = cross_val_score(LogisticRegression(), x_train, y_train, scoring='accuracy', cv=10)\n",
    "scores, scores.mean()"
   ]
  },
  {
   "cell_type": "code",
   "execution_count": 64,
   "id": "d0019bee",
   "metadata": {},
   "outputs": [],
   "source": [
    "from sklearn.model_selection import GridSearchCV"
   ]
  },
  {
   "cell_type": "code",
   "execution_count": 65,
   "id": "46b7e5ea",
   "metadata": {},
   "outputs": [],
   "source": [
    "parameters = [{'penalty':['l1','l2']}, \n",
    "              {'C':[1, 10, 100, 1000]}]\n",
    "grid_search = GridSearchCV(LogisticRegression(),  \n",
    "                           param_grid = parameters,\n",
    "                           scoring = 'accuracy',\n",
    "                           cv = 5,\n",
    "                           verbose=0)\n",
    "\n",
    "best_model = grid_search.fit(x_train, y_train)"
   ]
  },
  {
   "cell_type": "code",
   "execution_count": 66,
   "id": "24cce2df",
   "metadata": {},
   "outputs": [
    {
     "data": {
      "text/plain": [
       "{'C': 100}"
      ]
     },
     "execution_count": 66,
     "metadata": {},
     "output_type": "execute_result"
    }
   ],
   "source": [
    "best_model.best_params_"
   ]
  },
  {
   "cell_type": "code",
   "execution_count": 67,
   "id": "e281ddaa",
   "metadata": {},
   "outputs": [
    {
     "data": {
      "text/html": [
       "<style>#sk-container-id-2 {color: black;background-color: white;}#sk-container-id-2 pre{padding: 0;}#sk-container-id-2 div.sk-toggleable {background-color: white;}#sk-container-id-2 label.sk-toggleable__label {cursor: pointer;display: block;width: 100%;margin-bottom: 0;padding: 0.3em;box-sizing: border-box;text-align: center;}#sk-container-id-2 label.sk-toggleable__label-arrow:before {content: \"▸\";float: left;margin-right: 0.25em;color: #696969;}#sk-container-id-2 label.sk-toggleable__label-arrow:hover:before {color: black;}#sk-container-id-2 div.sk-estimator:hover label.sk-toggleable__label-arrow:before {color: black;}#sk-container-id-2 div.sk-toggleable__content {max-height: 0;max-width: 0;overflow: hidden;text-align: left;background-color: #f0f8ff;}#sk-container-id-2 div.sk-toggleable__content pre {margin: 0.2em;color: black;border-radius: 0.25em;background-color: #f0f8ff;}#sk-container-id-2 input.sk-toggleable__control:checked~div.sk-toggleable__content {max-height: 200px;max-width: 100%;overflow: auto;}#sk-container-id-2 input.sk-toggleable__control:checked~label.sk-toggleable__label-arrow:before {content: \"▾\";}#sk-container-id-2 div.sk-estimator input.sk-toggleable__control:checked~label.sk-toggleable__label {background-color: #d4ebff;}#sk-container-id-2 div.sk-label input.sk-toggleable__control:checked~label.sk-toggleable__label {background-color: #d4ebff;}#sk-container-id-2 input.sk-hidden--visually {border: 0;clip: rect(1px 1px 1px 1px);clip: rect(1px, 1px, 1px, 1px);height: 1px;margin: -1px;overflow: hidden;padding: 0;position: absolute;width: 1px;}#sk-container-id-2 div.sk-estimator {font-family: monospace;background-color: #f0f8ff;border: 1px dotted black;border-radius: 0.25em;box-sizing: border-box;margin-bottom: 0.5em;}#sk-container-id-2 div.sk-estimator:hover {background-color: #d4ebff;}#sk-container-id-2 div.sk-parallel-item::after {content: \"\";width: 100%;border-bottom: 1px solid gray;flex-grow: 1;}#sk-container-id-2 div.sk-label:hover label.sk-toggleable__label {background-color: #d4ebff;}#sk-container-id-2 div.sk-serial::before {content: \"\";position: absolute;border-left: 1px solid gray;box-sizing: border-box;top: 0;bottom: 0;left: 50%;z-index: 0;}#sk-container-id-2 div.sk-serial {display: flex;flex-direction: column;align-items: center;background-color: white;padding-right: 0.2em;padding-left: 0.2em;position: relative;}#sk-container-id-2 div.sk-item {position: relative;z-index: 1;}#sk-container-id-2 div.sk-parallel {display: flex;align-items: stretch;justify-content: center;background-color: white;position: relative;}#sk-container-id-2 div.sk-item::before, #sk-container-id-2 div.sk-parallel-item::before {content: \"\";position: absolute;border-left: 1px solid gray;box-sizing: border-box;top: 0;bottom: 0;left: 50%;z-index: -1;}#sk-container-id-2 div.sk-parallel-item {display: flex;flex-direction: column;z-index: 1;position: relative;background-color: white;}#sk-container-id-2 div.sk-parallel-item:first-child::after {align-self: flex-end;width: 50%;}#sk-container-id-2 div.sk-parallel-item:last-child::after {align-self: flex-start;width: 50%;}#sk-container-id-2 div.sk-parallel-item:only-child::after {width: 0;}#sk-container-id-2 div.sk-dashed-wrapped {border: 1px dashed gray;margin: 0 0.4em 0.5em 0.4em;box-sizing: border-box;padding-bottom: 0.4em;background-color: white;}#sk-container-id-2 div.sk-label label {font-family: monospace;font-weight: bold;display: inline-block;line-height: 1.2em;}#sk-container-id-2 div.sk-label-container {text-align: center;}#sk-container-id-2 div.sk-container {/* jupyter's `normalize.less` sets `[hidden] { display: none; }` but bootstrap.min.css set `[hidden] { display: none !important; }` so we also need the `!important` here to be able to override the default hidden behavior on the sphinx rendered scikit-learn.org. See: https://github.com/scikit-learn/scikit-learn/issues/21755 */display: inline-block !important;position: relative;}#sk-container-id-2 div.sk-text-repr-fallback {display: none;}</style><div id=\"sk-container-id-2\" class=\"sk-top-container\"><div class=\"sk-text-repr-fallback\"><pre>LogisticRegression(C=100)</pre><b>In a Jupyter environment, please rerun this cell to show the HTML representation or trust the notebook. <br />On GitHub, the HTML representation is unable to render, please try loading this page with nbviewer.org.</b></div><div class=\"sk-container\" hidden><div class=\"sk-item\"><div class=\"sk-estimator sk-toggleable\"><input class=\"sk-toggleable__control sk-hidden--visually\" id=\"sk-estimator-id-2\" type=\"checkbox\" checked><label for=\"sk-estimator-id-2\" class=\"sk-toggleable__label sk-toggleable__label-arrow\">LogisticRegression</label><div class=\"sk-toggleable__content\"><pre>LogisticRegression(C=100)</pre></div></div></div></div></div>"
      ],
      "text/plain": [
       "LogisticRegression(C=100)"
      ]
     },
     "execution_count": 67,
     "metadata": {},
     "output_type": "execute_result"
    }
   ],
   "source": [
    "model2 = LogisticRegression(C=100)\n",
    "model2.fit(x_train, y_train)"
   ]
  },
  {
   "cell_type": "code",
   "execution_count": 68,
   "id": "f199c707",
   "metadata": {},
   "outputs": [],
   "source": [
    "predicted = model.predict(x_test)"
   ]
  },
  {
   "cell_type": "code",
   "execution_count": 69,
   "id": "343b9a5f",
   "metadata": {},
   "outputs": [
    {
     "data": {
      "text/plain": [
       "0.9692470837751855"
      ]
     },
     "execution_count": 69,
     "metadata": {},
     "output_type": "execute_result"
    }
   ],
   "source": [
    "metrics.accuracy_score(y_test,predicted)"
   ]
  },
  {
   "cell_type": "code",
   "execution_count": 70,
   "id": "b8064470",
   "metadata": {},
   "outputs": [],
   "source": [
    "from imblearn.over_sampling import SMOTE\n",
    "\n",
    "sm = SMOTE(random_state = 2)\n",
    "x_train_res, y_train_res = sm.fit_resample(x_train, y_train.ravel())"
   ]
  },
  {
   "cell_type": "code",
   "execution_count": 71,
   "id": "d721ea68",
   "metadata": {},
   "outputs": [],
   "source": [
    "sm = SMOTE(random_state = 2)\n",
    "x_test_res, y_test_res = sm.fit_resample(x_test, y_test.ravel())"
   ]
  },
  {
   "cell_type": "code",
   "execution_count": 72,
   "id": "44ed68e2",
   "metadata": {},
   "outputs": [
    {
     "data": {
      "text/plain": [
       "((5206, 27), (2829, 27))"
      ]
     },
     "execution_count": 72,
     "metadata": {},
     "output_type": "execute_result"
    }
   ],
   "source": [
    "x_train_res.shape, x_train.shape"
   ]
  },
  {
   "cell_type": "code",
   "execution_count": 73,
   "id": "c2658cff",
   "metadata": {},
   "outputs": [
    {
     "data": {
      "text/plain": [
       "((5206,), (2829,))"
      ]
     },
     "execution_count": 73,
     "metadata": {},
     "output_type": "execute_result"
    }
   ],
   "source": [
    "y_train_res.shape, y_train.shape"
   ]
  },
  {
   "cell_type": "code",
   "execution_count": 74,
   "id": "13cbb638",
   "metadata": {},
   "outputs": [
    {
     "name": "stdout",
     "output_type": "stream",
     "text": [
      "zeros: 2603\n",
      "ones: 2603\n"
     ]
    }
   ],
   "source": [
    "zeros = 0\n",
    "ones = 0\n",
    "for item in y_train_res:\n",
    "    if item == 1:\n",
    "        ones += 1\n",
    "    else:\n",
    "        zeros += 1\n",
    "        \n",
    "print('zeros:',zeros)\n",
    "print('ones:',ones)"
   ]
  },
  {
   "cell_type": "code",
   "execution_count": 75,
   "id": "c4373b52",
   "metadata": {},
   "outputs": [],
   "source": [
    "lr = LogisticRegression()\n",
    "model_res = lr.fit(x_train_res, y_train_res)"
   ]
  },
  {
   "cell_type": "code",
   "execution_count": 76,
   "id": "7d6921d5",
   "metadata": {},
   "outputs": [
    {
     "data": {
      "text/plain": [
       "(array([0.97504798, 0.99232246, 0.98848369, 0.98272553, 0.99424184,\n",
       "        0.9865643 , 0.98653846, 0.98846154, 0.98076923, 0.98269231]),\n",
       " 0.9857847335006642)"
      ]
     },
     "execution_count": 76,
     "metadata": {},
     "output_type": "execute_result"
    }
   ],
   "source": [
    "scores = cross_val_score(lr, x_train_res, y_train_res, scoring='accuracy', cv=10)\n",
    "scores, scores.mean()"
   ]
  },
  {
   "cell_type": "code",
   "execution_count": 77,
   "id": "2903410b",
   "metadata": {},
   "outputs": [],
   "source": [
    "predicted_res = model.predict(x_test_res)"
   ]
  },
  {
   "cell_type": "code",
   "execution_count": 78,
   "id": "52bec13e",
   "metadata": {},
   "outputs": [
    {
     "data": {
      "text/plain": [
       "0.8080865603644647"
      ]
     },
     "execution_count": 78,
     "metadata": {},
     "output_type": "execute_result"
    }
   ],
   "source": [
    "metrics.accuracy_score(y_test_res,predicted_res)"
   ]
  },
  {
   "cell_type": "code",
   "execution_count": 79,
   "id": "dd276ec8",
   "metadata": {},
   "outputs": [],
   "source": [
    "params = [{'learning_rate':[0.01,0.001],\n",
    "            'max_depth': [3,5,10],\n",
    "            'n_estimators':[10,50,100,200]}]"
   ]
  },
  {
   "cell_type": "code",
   "execution_count": 80,
   "id": "f9a68d6e",
   "metadata": {},
   "outputs": [
    {
     "name": "stdout",
     "output_type": "stream",
     "text": [
      "Fitting 5 folds for each of 24 candidates, totalling 120 fits\n",
      "[CV 1/5] END learning_rate=0.01, max_depth=3, n_estimators=10;, score=0.991 total time=   0.0s\n",
      "[CV 2/5] END learning_rate=0.01, max_depth=3, n_estimators=10;, score=0.994 total time=   0.0s\n",
      "[CV 4/5] END learning_rate=0.01, max_depth=3, n_estimators=10;, score=0.994 total time=   0.0s\n",
      "[CV 3/5] END learning_rate=0.01, max_depth=3, n_estimators=10;, score=0.996 total time=   0.0s\n",
      "[CV 5/5] END learning_rate=0.01, max_depth=3, n_estimators=10;, score=0.995 total time=   0.0s\n",
      "[CV 1/5] END learning_rate=0.01, max_depth=3, n_estimators=50;, score=0.993 total time=   0.1s\n",
      "[CV 2/5] END learning_rate=0.01, max_depth=3, n_estimators=50;, score=0.996 total time=   0.1s\n",
      "[CV 3/5] END learning_rate=0.01, max_depth=3, n_estimators=50;, score=0.996 total time=   0.1s\n",
      "[CV 4/5] END learning_rate=0.01, max_depth=3, n_estimators=50;, score=0.994 total time=   0.1s\n",
      "[CV 5/5] END learning_rate=0.01, max_depth=3, n_estimators=50;, score=0.995 total time=   0.1s\n",
      "[CV 1/5] END learning_rate=0.01, max_depth=3, n_estimators=100;, score=0.993 total time=   0.2s\n",
      "[CV 2/5] END learning_rate=0.01, max_depth=3, n_estimators=100;, score=0.996 total time=   0.2s\n",
      "[CV 3/5] END learning_rate=0.01, max_depth=3, n_estimators=100;, score=0.996 total time=   0.2s\n",
      "[CV 4/5] END learning_rate=0.01, max_depth=3, n_estimators=100;, score=0.995 total time=   0.2s\n",
      "[CV 5/5] END learning_rate=0.01, max_depth=3, n_estimators=100;, score=0.995 total time=   0.2s\n",
      "[CV 1/5] END learning_rate=0.01, max_depth=3, n_estimators=200;, score=0.995 total time=   0.3s\n",
      "[CV 2/5] END learning_rate=0.01, max_depth=3, n_estimators=200;, score=0.996 total time=   0.3s\n",
      "[CV 3/5] END learning_rate=0.01, max_depth=3, n_estimators=200;, score=0.997 total time=   0.3s\n",
      "[CV 1/5] END learning_rate=0.01, max_depth=5, n_estimators=10;, score=0.993 total time=   0.0s\n",
      "[CV 2/5] END learning_rate=0.01, max_depth=5, n_estimators=10;, score=0.997 total time=   0.0s\n",
      "[CV 3/5] END learning_rate=0.01, max_depth=5, n_estimators=10;, score=0.997 total time=   0.1s\n",
      "[CV 4/5] END learning_rate=0.01, max_depth=3, n_estimators=200;, score=0.997 total time=   0.4s\n",
      "[CV 4/5] END learning_rate=0.01, max_depth=5, n_estimators=10;, score=0.997 total time=   0.0s\n",
      "[CV 5/5] END learning_rate=0.01, max_depth=5, n_estimators=10;, score=0.997 total time=   0.0s\n",
      "[CV 5/5] END learning_rate=0.01, max_depth=3, n_estimators=200;, score=0.996 total time=   0.3s\n",
      "[CV 1/5] END learning_rate=0.01, max_depth=5, n_estimators=50;, score=0.995 total time=   0.1s\n",
      "[CV 2/5] END learning_rate=0.01, max_depth=5, n_estimators=50;, score=0.997 total time=   0.1s\n",
      "[CV 3/5] END learning_rate=0.01, max_depth=5, n_estimators=50;, score=0.997 total time=   0.1s\n",
      "[CV 4/5] END learning_rate=0.01, max_depth=5, n_estimators=50;, score=0.997 total time=   0.1s\n",
      "[CV 5/5] END learning_rate=0.01, max_depth=5, n_estimators=50;, score=0.993 total time=   0.1s\n",
      "[CV 2/5] END learning_rate=0.01, max_depth=5, n_estimators=100;, score=0.998 total time=   0.2s\n",
      "[CV 3/5] END learning_rate=0.01, max_depth=5, n_estimators=100;, score=0.997 total time=   0.2s\n",
      "[CV 1/5] END learning_rate=0.01, max_depth=5, n_estimators=100;, score=0.995 total time=   0.4s\n",
      "[CV 4/5] END learning_rate=0.01, max_depth=5, n_estimators=100;, score=0.997 total time=   0.2s\n",
      "[CV 5/5] END learning_rate=0.01, max_depth=5, n_estimators=100;, score=0.993 total time=   0.2s\n",
      "[CV 2/5] END learning_rate=0.01, max_depth=5, n_estimators=200;, score=0.999 total time=   0.4s\n",
      "[CV 1/5] END learning_rate=0.01, max_depth=5, n_estimators=200;, score=0.998 total time=   0.6s\n",
      "[CV 3/5] END learning_rate=0.01, max_depth=5, n_estimators=200;, score=0.997 total time=   0.6s\n",
      "[CV 1/5] END learning_rate=0.01, max_depth=10, n_estimators=10;, score=0.993 total time=   0.0s\n",
      "[CV 2/5] END learning_rate=0.01, max_depth=10, n_estimators=10;, score=0.997 total time=   0.0s\n",
      "[CV 4/5] END learning_rate=0.01, max_depth=5, n_estimators=200;, score=0.999 total time=   0.5s\n",
      "[CV 3/5] END learning_rate=0.01, max_depth=10, n_estimators=10;, score=0.997 total time=   0.2s\n",
      "[CV 5/5] END learning_rate=0.01, max_depth=10, n_estimators=10;, score=0.997 total time=   0.0s\n",
      "[CV 4/5] END learning_rate=0.01, max_depth=10, n_estimators=10;, score=0.997 total time=   0.1s\n",
      "[CV 5/5] END learning_rate=0.01, max_depth=5, n_estimators=200;, score=0.993 total time=   0.5s\n",
      "[CV 1/5] END learning_rate=0.01, max_depth=10, n_estimators=50;, score=0.995 total time=   0.1s\n",
      "[CV 2/5] END learning_rate=0.01, max_depth=10, n_estimators=50;, score=0.997 total time=   0.2s\n",
      "[CV 3/5] END learning_rate=0.01, max_depth=10, n_estimators=50;, score=0.997 total time=   0.2s\n",
      "[CV 4/5] END learning_rate=0.01, max_depth=10, n_estimators=50;, score=0.997 total time=   0.2s\n",
      "[CV 5/5] END learning_rate=0.01, max_depth=10, n_estimators=50;, score=0.993 total time=   0.2s\n",
      "[CV 1/5] END learning_rate=0.01, max_depth=10, n_estimators=100;, score=0.995 total time=   0.3s\n",
      "[CV 2/5] END learning_rate=0.01, max_depth=10, n_estimators=100;, score=0.998 total time=   0.3s\n",
      "[CV 3/5] END learning_rate=0.01, max_depth=10, n_estimators=100;, score=0.997 total time=   0.3s\n",
      "[CV 4/5] END learning_rate=0.01, max_depth=10, n_estimators=100;, score=0.997 total time=   0.2s\n",
      "[CV 5/5] END learning_rate=0.01, max_depth=10, n_estimators=100;, score=0.993 total time=   0.2s\n",
      "[CV 1/5] END learning_rate=0.01, max_depth=10, n_estimators=200;, score=0.998 total time=   0.5s\n",
      "[CV 2/5] END learning_rate=0.01, max_depth=10, n_estimators=200;, score=0.999 total time=   0.6s\n",
      "[CV 3/5] END learning_rate=0.01, max_depth=10, n_estimators=200;, score=0.997 total time=   0.6s\n",
      "[CV 1/5] END learning_rate=0.001, max_depth=3, n_estimators=10;, score=0.991 total time=   0.0s\n",
      "[CV 2/5] END learning_rate=0.001, max_depth=3, n_estimators=10;, score=0.994 total time=   0.1s\n",
      "[CV 3/5] END learning_rate=0.001, max_depth=3, n_estimators=10;, score=0.996 total time=   0.0s\n",
      "[CV 4/5] END learning_rate=0.001, max_depth=3, n_estimators=10;, score=0.994 total time=   0.0s\n",
      "[CV 5/5] END learning_rate=0.001, max_depth=3, n_estimators=10;, score=0.995 total time=   0.0s\n",
      "[CV 1/5] END learning_rate=0.001, max_depth=3, n_estimators=50;, score=0.991 total time=   0.1s\n",
      "[CV 4/5] END learning_rate=0.01, max_depth=10, n_estimators=200;, score=0.999 total time=   0.5s\n",
      "[CV 2/5] END learning_rate=0.001, max_depth=3, n_estimators=50;, score=0.994 total time=   0.1s\n",
      "[CV 3/5] END learning_rate=0.001, max_depth=3, n_estimators=50;, score=0.996 total time=   0.1s\n",
      "[CV 4/5] END learning_rate=0.001, max_depth=3, n_estimators=50;, score=0.994 total time=   0.1s\n",
      "[CV 5/5] END learning_rate=0.01, max_depth=10, n_estimators=200;, score=0.993 total time=   0.5s\n",
      "[CV 5/5] END learning_rate=0.001, max_depth=3, n_estimators=50;, score=0.995 total time=   0.1s\n",
      "[CV 1/5] END learning_rate=0.001, max_depth=3, n_estimators=100;, score=0.991 total time=   0.2s\n",
      "[CV 2/5] END learning_rate=0.001, max_depth=3, n_estimators=100;, score=0.994 total time=   0.2s\n",
      "[CV 3/5] END learning_rate=0.001, max_depth=3, n_estimators=100;, score=0.996 total time=   0.2s\n",
      "[CV 5/5] END learning_rate=0.001, max_depth=3, n_estimators=100;, score=0.995 total time=   0.2s\n",
      "[CV 4/5] END learning_rate=0.001, max_depth=3, n_estimators=100;, score=0.994 total time=   0.2s\n",
      "[CV 1/5] END learning_rate=0.001, max_depth=3, n_estimators=200;, score=0.991 total time=   0.3s\n",
      "[CV 2/5] END learning_rate=0.001, max_depth=3, n_estimators=200;, score=0.994 total time=   0.3s\n",
      "[CV 3/5] END learning_rate=0.001, max_depth=3, n_estimators=200;, score=0.996 total time=   0.3s\n",
      "[CV 1/5] END learning_rate=0.001, max_depth=5, n_estimators=10;, score=0.993 total time=   0.0s\n",
      "[CV 2/5] END learning_rate=0.001, max_depth=5, n_estimators=10;, score=0.997 total time=   0.0s\n",
      "[CV 3/5] END learning_rate=0.001, max_depth=5, n_estimators=10;, score=0.997 total time=   0.0s\n",
      "[CV 4/5] END learning_rate=0.001, max_depth=3, n_estimators=200;, score=0.994 total time=   0.3s\n",
      "[CV 4/5] END learning_rate=0.001, max_depth=5, n_estimators=10;, score=0.997 total time=   0.0s\n",
      "[CV 5/5] END learning_rate=0.001, max_depth=5, n_estimators=10;, score=0.997 total time=   0.0s\n",
      "[CV 5/5] END learning_rate=0.001, max_depth=3, n_estimators=200;, score=0.995 total time=   0.3s\n",
      "[CV 1/5] END learning_rate=0.001, max_depth=5, n_estimators=50;, score=0.993 total time=   0.1s\n",
      "[CV 2/5] END learning_rate=0.001, max_depth=5, n_estimators=50;, score=0.997 total time=   0.1s\n",
      "[CV 3/5] END learning_rate=0.001, max_depth=5, n_estimators=50;, score=0.997 total time=   0.1s\n",
      "[CV 4/5] END learning_rate=0.001, max_depth=5, n_estimators=50;, score=0.997 total time=   0.1s\n",
      "[CV 5/5] END learning_rate=0.001, max_depth=5, n_estimators=50;, score=0.997 total time=   0.2s\n",
      "[CV 1/5] END learning_rate=0.001, max_depth=5, n_estimators=100;, score=0.993 total time=   0.2s\n",
      "[CV 4/5] END learning_rate=0.001, max_depth=5, n_estimators=100;, score=0.997 total time=   0.2s\n",
      "[CV 3/5] END learning_rate=0.001, max_depth=5, n_estimators=100;, score=0.997 total time=   0.4s\n",
      "[CV 2/5] END learning_rate=0.001, max_depth=5, n_estimators=100;, score=0.997 total time=   0.4s\n",
      "[CV 5/5] END learning_rate=0.001, max_depth=5, n_estimators=100;, score=0.996 total time=   0.2s\n",
      "[CV 1/5] END learning_rate=0.001, max_depth=5, n_estimators=200;, score=0.993 total time=   0.5s\n",
      "[CV 2/5] END learning_rate=0.001, max_depth=5, n_estimators=200;, score=0.997 total time=   0.5s\n",
      "[CV 3/5] END learning_rate=0.001, max_depth=5, n_estimators=200;, score=0.997 total time=   0.5s\n",
      "[CV 1/5] END learning_rate=0.001, max_depth=10, n_estimators=10;, score=0.993 total time=   0.1s\n",
      "[CV 4/5] END learning_rate=0.001, max_depth=5, n_estimators=200;, score=0.997 total time=   0.4s\n",
      "[CV 2/5] END learning_rate=0.001, max_depth=10, n_estimators=10;, score=0.997 total time=   0.2s\n",
      "[CV 3/5] END learning_rate=0.001, max_depth=10, n_estimators=10;, score=0.997 total time=   0.0s\n",
      "[CV 4/5] END learning_rate=0.001, max_depth=10, n_estimators=10;, score=0.997 total time=   0.0s\n",
      "[CV 5/5] END learning_rate=0.001, max_depth=10, n_estimators=10;, score=0.997 total time=   0.0s\n",
      "[CV 5/5] END learning_rate=0.001, max_depth=5, n_estimators=200;, score=0.993 total time=   0.5s\n",
      "[CV 1/5] END learning_rate=0.001, max_depth=10, n_estimators=50;, score=0.993 total time=   0.1s\n",
      "[CV 2/5] END learning_rate=0.001, max_depth=10, n_estimators=50;, score=0.997 total time=   0.1s\n",
      "[CV 3/5] END learning_rate=0.001, max_depth=10, n_estimators=50;, score=0.997 total time=   0.1s\n",
      "[CV 4/5] END learning_rate=0.001, max_depth=10, n_estimators=50;, score=0.997 total time=   0.1s\n",
      "[CV 5/5] END learning_rate=0.001, max_depth=10, n_estimators=50;, score=0.997 total time=   0.1s\n",
      "[CV 1/5] END learning_rate=0.001, max_depth=10, n_estimators=100;, score=0.993 total time=   0.2s\n",
      "[CV 2/5] END learning_rate=0.001, max_depth=10, n_estimators=100;, score=0.997 total time=   0.2s\n",
      "[CV 3/5] END learning_rate=0.001, max_depth=10, n_estimators=100;, score=0.997 total time=   0.3s\n",
      "[CV 4/5] END learning_rate=0.001, max_depth=10, n_estimators=100;, score=0.997 total time=   0.2s\n",
      "[CV 5/5] END learning_rate=0.001, max_depth=10, n_estimators=100;, score=0.996 total time=   0.2s\n",
      "[CV 1/5] END learning_rate=0.001, max_depth=10, n_estimators=200;, score=0.993 total time=   0.4s\n",
      "[CV 3/5] END learning_rate=0.001, max_depth=10, n_estimators=200;, score=0.997 total time=   0.5s\n",
      "[CV 2/5] END learning_rate=0.001, max_depth=10, n_estimators=200;, score=0.997 total time=   0.6s\n",
      "[CV 4/5] END learning_rate=0.001, max_depth=10, n_estimators=200;, score=0.997 total time=   0.5s\n",
      "[CV 5/5] END learning_rate=0.001, max_depth=10, n_estimators=200;, score=0.993 total time=   0.4s\n"
     ]
    },
    {
     "data": {
      "text/html": [
       "<style>#sk-container-id-3 {color: black;background-color: white;}#sk-container-id-3 pre{padding: 0;}#sk-container-id-3 div.sk-toggleable {background-color: white;}#sk-container-id-3 label.sk-toggleable__label {cursor: pointer;display: block;width: 100%;margin-bottom: 0;padding: 0.3em;box-sizing: border-box;text-align: center;}#sk-container-id-3 label.sk-toggleable__label-arrow:before {content: \"▸\";float: left;margin-right: 0.25em;color: #696969;}#sk-container-id-3 label.sk-toggleable__label-arrow:hover:before {color: black;}#sk-container-id-3 div.sk-estimator:hover label.sk-toggleable__label-arrow:before {color: black;}#sk-container-id-3 div.sk-toggleable__content {max-height: 0;max-width: 0;overflow: hidden;text-align: left;background-color: #f0f8ff;}#sk-container-id-3 div.sk-toggleable__content pre {margin: 0.2em;color: black;border-radius: 0.25em;background-color: #f0f8ff;}#sk-container-id-3 input.sk-toggleable__control:checked~div.sk-toggleable__content {max-height: 200px;max-width: 100%;overflow: auto;}#sk-container-id-3 input.sk-toggleable__control:checked~label.sk-toggleable__label-arrow:before {content: \"▾\";}#sk-container-id-3 div.sk-estimator input.sk-toggleable__control:checked~label.sk-toggleable__label {background-color: #d4ebff;}#sk-container-id-3 div.sk-label input.sk-toggleable__control:checked~label.sk-toggleable__label {background-color: #d4ebff;}#sk-container-id-3 input.sk-hidden--visually {border: 0;clip: rect(1px 1px 1px 1px);clip: rect(1px, 1px, 1px, 1px);height: 1px;margin: -1px;overflow: hidden;padding: 0;position: absolute;width: 1px;}#sk-container-id-3 div.sk-estimator {font-family: monospace;background-color: #f0f8ff;border: 1px dotted black;border-radius: 0.25em;box-sizing: border-box;margin-bottom: 0.5em;}#sk-container-id-3 div.sk-estimator:hover {background-color: #d4ebff;}#sk-container-id-3 div.sk-parallel-item::after {content: \"\";width: 100%;border-bottom: 1px solid gray;flex-grow: 1;}#sk-container-id-3 div.sk-label:hover label.sk-toggleable__label {background-color: #d4ebff;}#sk-container-id-3 div.sk-serial::before {content: \"\";position: absolute;border-left: 1px solid gray;box-sizing: border-box;top: 0;bottom: 0;left: 50%;z-index: 0;}#sk-container-id-3 div.sk-serial {display: flex;flex-direction: column;align-items: center;background-color: white;padding-right: 0.2em;padding-left: 0.2em;position: relative;}#sk-container-id-3 div.sk-item {position: relative;z-index: 1;}#sk-container-id-3 div.sk-parallel {display: flex;align-items: stretch;justify-content: center;background-color: white;position: relative;}#sk-container-id-3 div.sk-item::before, #sk-container-id-3 div.sk-parallel-item::before {content: \"\";position: absolute;border-left: 1px solid gray;box-sizing: border-box;top: 0;bottom: 0;left: 50%;z-index: -1;}#sk-container-id-3 div.sk-parallel-item {display: flex;flex-direction: column;z-index: 1;position: relative;background-color: white;}#sk-container-id-3 div.sk-parallel-item:first-child::after {align-self: flex-end;width: 50%;}#sk-container-id-3 div.sk-parallel-item:last-child::after {align-self: flex-start;width: 50%;}#sk-container-id-3 div.sk-parallel-item:only-child::after {width: 0;}#sk-container-id-3 div.sk-dashed-wrapped {border: 1px dashed gray;margin: 0 0.4em 0.5em 0.4em;box-sizing: border-box;padding-bottom: 0.4em;background-color: white;}#sk-container-id-3 div.sk-label label {font-family: monospace;font-weight: bold;display: inline-block;line-height: 1.2em;}#sk-container-id-3 div.sk-label-container {text-align: center;}#sk-container-id-3 div.sk-container {/* jupyter's `normalize.less` sets `[hidden] { display: none; }` but bootstrap.min.css set `[hidden] { display: none !important; }` so we also need the `!important` here to be able to override the default hidden behavior on the sphinx rendered scikit-learn.org. See: https://github.com/scikit-learn/scikit-learn/issues/21755 */display: inline-block !important;position: relative;}#sk-container-id-3 div.sk-text-repr-fallback {display: none;}</style><div id=\"sk-container-id-3\" class=\"sk-top-container\"><div class=\"sk-text-repr-fallback\"><pre>GridSearchCV(cv=5,\n",
       "             estimator=XGBClassifier(base_score=None, booster=None,\n",
       "                                     callbacks=None, colsample_bylevel=None,\n",
       "                                     colsample_bynode=None,\n",
       "                                     colsample_bytree=None,\n",
       "                                     early_stopping_rounds=None,\n",
       "                                     enable_categorical=False, eval_metric=None,\n",
       "                                     feature_types=None, gamma=None,\n",
       "                                     gpu_id=None, grow_policy=None,\n",
       "                                     importance_type=None,\n",
       "                                     interaction_constraints=None,\n",
       "                                     learning_rate=None,...\n",
       "                                     max_cat_to_onehot=None,\n",
       "                                     max_delta_step=None, max_depth=None,\n",
       "                                     max_leaves=None, min_child_weight=None,\n",
       "                                     missing=nan, monotone_constraints=None,\n",
       "                                     n_estimators=100, n_jobs=None,\n",
       "                                     num_parallel_tree=None, predictor=None,\n",
       "                                     random_state=None, ...),\n",
       "             n_jobs=3,\n",
       "             param_grid=[{&#x27;learning_rate&#x27;: [0.01, 0.001],\n",
       "                          &#x27;max_depth&#x27;: [3, 5, 10],\n",
       "                          &#x27;n_estimators&#x27;: [10, 50, 100, 200]}],\n",
       "             scoring=&#x27;accuracy&#x27;, verbose=3)</pre><b>In a Jupyter environment, please rerun this cell to show the HTML representation or trust the notebook. <br />On GitHub, the HTML representation is unable to render, please try loading this page with nbviewer.org.</b></div><div class=\"sk-container\" hidden><div class=\"sk-item sk-dashed-wrapped\"><div class=\"sk-label-container\"><div class=\"sk-label sk-toggleable\"><input class=\"sk-toggleable__control sk-hidden--visually\" id=\"sk-estimator-id-3\" type=\"checkbox\" ><label for=\"sk-estimator-id-3\" class=\"sk-toggleable__label sk-toggleable__label-arrow\">GridSearchCV</label><div class=\"sk-toggleable__content\"><pre>GridSearchCV(cv=5,\n",
       "             estimator=XGBClassifier(base_score=None, booster=None,\n",
       "                                     callbacks=None, colsample_bylevel=None,\n",
       "                                     colsample_bynode=None,\n",
       "                                     colsample_bytree=None,\n",
       "                                     early_stopping_rounds=None,\n",
       "                                     enable_categorical=False, eval_metric=None,\n",
       "                                     feature_types=None, gamma=None,\n",
       "                                     gpu_id=None, grow_policy=None,\n",
       "                                     importance_type=None,\n",
       "                                     interaction_constraints=None,\n",
       "                                     learning_rate=None,...\n",
       "                                     max_cat_to_onehot=None,\n",
       "                                     max_delta_step=None, max_depth=None,\n",
       "                                     max_leaves=None, min_child_weight=None,\n",
       "                                     missing=nan, monotone_constraints=None,\n",
       "                                     n_estimators=100, n_jobs=None,\n",
       "                                     num_parallel_tree=None, predictor=None,\n",
       "                                     random_state=None, ...),\n",
       "             n_jobs=3,\n",
       "             param_grid=[{&#x27;learning_rate&#x27;: [0.01, 0.001],\n",
       "                          &#x27;max_depth&#x27;: [3, 5, 10],\n",
       "                          &#x27;n_estimators&#x27;: [10, 50, 100, 200]}],\n",
       "             scoring=&#x27;accuracy&#x27;, verbose=3)</pre></div></div></div><div class=\"sk-parallel\"><div class=\"sk-parallel-item\"><div class=\"sk-item\"><div class=\"sk-label-container\"><div class=\"sk-label sk-toggleable\"><input class=\"sk-toggleable__control sk-hidden--visually\" id=\"sk-estimator-id-4\" type=\"checkbox\" ><label for=\"sk-estimator-id-4\" class=\"sk-toggleable__label sk-toggleable__label-arrow\">estimator: XGBClassifier</label><div class=\"sk-toggleable__content\"><pre>XGBClassifier(base_score=None, booster=None, callbacks=None,\n",
       "              colsample_bylevel=None, colsample_bynode=None,\n",
       "              colsample_bytree=None, early_stopping_rounds=None,\n",
       "              enable_categorical=False, eval_metric=None, feature_types=None,\n",
       "              gamma=None, gpu_id=None, grow_policy=None, importance_type=None,\n",
       "              interaction_constraints=None, learning_rate=None, max_bin=None,\n",
       "              max_cat_threshold=None, max_cat_to_onehot=None,\n",
       "              max_delta_step=None, max_depth=None, max_leaves=None,\n",
       "              min_child_weight=None, missing=nan, monotone_constraints=None,\n",
       "              n_estimators=100, n_jobs=None, num_parallel_tree=None,\n",
       "              predictor=None, random_state=None, ...)</pre></div></div></div><div class=\"sk-serial\"><div class=\"sk-item\"><div class=\"sk-estimator sk-toggleable\"><input class=\"sk-toggleable__control sk-hidden--visually\" id=\"sk-estimator-id-5\" type=\"checkbox\" ><label for=\"sk-estimator-id-5\" class=\"sk-toggleable__label sk-toggleable__label-arrow\">XGBClassifier</label><div class=\"sk-toggleable__content\"><pre>XGBClassifier(base_score=None, booster=None, callbacks=None,\n",
       "              colsample_bylevel=None, colsample_bynode=None,\n",
       "              colsample_bytree=None, early_stopping_rounds=None,\n",
       "              enable_categorical=False, eval_metric=None, feature_types=None,\n",
       "              gamma=None, gpu_id=None, grow_policy=None, importance_type=None,\n",
       "              interaction_constraints=None, learning_rate=None, max_bin=None,\n",
       "              max_cat_threshold=None, max_cat_to_onehot=None,\n",
       "              max_delta_step=None, max_depth=None, max_leaves=None,\n",
       "              min_child_weight=None, missing=nan, monotone_constraints=None,\n",
       "              n_estimators=100, n_jobs=None, num_parallel_tree=None,\n",
       "              predictor=None, random_state=None, ...)</pre></div></div></div></div></div></div></div></div></div></div>"
      ],
      "text/plain": [
       "GridSearchCV(cv=5,\n",
       "             estimator=XGBClassifier(base_score=None, booster=None,\n",
       "                                     callbacks=None, colsample_bylevel=None,\n",
       "                                     colsample_bynode=None,\n",
       "                                     colsample_bytree=None,\n",
       "                                     early_stopping_rounds=None,\n",
       "                                     enable_categorical=False, eval_metric=None,\n",
       "                                     feature_types=None, gamma=None,\n",
       "                                     gpu_id=None, grow_policy=None,\n",
       "                                     importance_type=None,\n",
       "                                     interaction_constraints=None,\n",
       "                                     learning_rate=None,...\n",
       "                                     max_cat_to_onehot=None,\n",
       "                                     max_delta_step=None, max_depth=None,\n",
       "                                     max_leaves=None, min_child_weight=None,\n",
       "                                     missing=nan, monotone_constraints=None,\n",
       "                                     n_estimators=100, n_jobs=None,\n",
       "                                     num_parallel_tree=None, predictor=None,\n",
       "                                     random_state=None, ...),\n",
       "             n_jobs=3,\n",
       "             param_grid=[{'learning_rate': [0.01, 0.001],\n",
       "                          'max_depth': [3, 5, 10],\n",
       "                          'n_estimators': [10, 50, 100, 200]}],\n",
       "             scoring='accuracy', verbose=3)"
      ]
     },
     "execution_count": 80,
     "metadata": {},
     "output_type": "execute_result"
    }
   ],
   "source": [
    "from sklearn.model_selection import GridSearchCV\n",
    "from xgboost import XGBClassifier\n",
    "Xbc = XGBClassifier()\n",
    "Gcv = GridSearchCV(Xbc,params,scoring='accuracy',cv=5,n_jobs=3,verbose=3)\n",
    "Gcv.fit(x_train_res,y_train_res)"
   ]
  },
  {
   "cell_type": "code",
   "execution_count": 81,
   "id": "6bf42c6f",
   "metadata": {},
   "outputs": [
    {
     "data": {
      "text/plain": [
       "{'learning_rate': 0.01, 'max_depth': 5, 'n_estimators': 200}"
      ]
     },
     "execution_count": 81,
     "metadata": {},
     "output_type": "execute_result"
    }
   ],
   "source": [
    "Gcv.best_params_"
   ]
  },
  {
   "cell_type": "code",
   "execution_count": 82,
   "id": "50a98a43",
   "metadata": {},
   "outputs": [
    {
     "data": {
      "text/html": [
       "<style>#sk-container-id-4 {color: black;background-color: white;}#sk-container-id-4 pre{padding: 0;}#sk-container-id-4 div.sk-toggleable {background-color: white;}#sk-container-id-4 label.sk-toggleable__label {cursor: pointer;display: block;width: 100%;margin-bottom: 0;padding: 0.3em;box-sizing: border-box;text-align: center;}#sk-container-id-4 label.sk-toggleable__label-arrow:before {content: \"▸\";float: left;margin-right: 0.25em;color: #696969;}#sk-container-id-4 label.sk-toggleable__label-arrow:hover:before {color: black;}#sk-container-id-4 div.sk-estimator:hover label.sk-toggleable__label-arrow:before {color: black;}#sk-container-id-4 div.sk-toggleable__content {max-height: 0;max-width: 0;overflow: hidden;text-align: left;background-color: #f0f8ff;}#sk-container-id-4 div.sk-toggleable__content pre {margin: 0.2em;color: black;border-radius: 0.25em;background-color: #f0f8ff;}#sk-container-id-4 input.sk-toggleable__control:checked~div.sk-toggleable__content {max-height: 200px;max-width: 100%;overflow: auto;}#sk-container-id-4 input.sk-toggleable__control:checked~label.sk-toggleable__label-arrow:before {content: \"▾\";}#sk-container-id-4 div.sk-estimator input.sk-toggleable__control:checked~label.sk-toggleable__label {background-color: #d4ebff;}#sk-container-id-4 div.sk-label input.sk-toggleable__control:checked~label.sk-toggleable__label {background-color: #d4ebff;}#sk-container-id-4 input.sk-hidden--visually {border: 0;clip: rect(1px 1px 1px 1px);clip: rect(1px, 1px, 1px, 1px);height: 1px;margin: -1px;overflow: hidden;padding: 0;position: absolute;width: 1px;}#sk-container-id-4 div.sk-estimator {font-family: monospace;background-color: #f0f8ff;border: 1px dotted black;border-radius: 0.25em;box-sizing: border-box;margin-bottom: 0.5em;}#sk-container-id-4 div.sk-estimator:hover {background-color: #d4ebff;}#sk-container-id-4 div.sk-parallel-item::after {content: \"\";width: 100%;border-bottom: 1px solid gray;flex-grow: 1;}#sk-container-id-4 div.sk-label:hover label.sk-toggleable__label {background-color: #d4ebff;}#sk-container-id-4 div.sk-serial::before {content: \"\";position: absolute;border-left: 1px solid gray;box-sizing: border-box;top: 0;bottom: 0;left: 50%;z-index: 0;}#sk-container-id-4 div.sk-serial {display: flex;flex-direction: column;align-items: center;background-color: white;padding-right: 0.2em;padding-left: 0.2em;position: relative;}#sk-container-id-4 div.sk-item {position: relative;z-index: 1;}#sk-container-id-4 div.sk-parallel {display: flex;align-items: stretch;justify-content: center;background-color: white;position: relative;}#sk-container-id-4 div.sk-item::before, #sk-container-id-4 div.sk-parallel-item::before {content: \"\";position: absolute;border-left: 1px solid gray;box-sizing: border-box;top: 0;bottom: 0;left: 50%;z-index: -1;}#sk-container-id-4 div.sk-parallel-item {display: flex;flex-direction: column;z-index: 1;position: relative;background-color: white;}#sk-container-id-4 div.sk-parallel-item:first-child::after {align-self: flex-end;width: 50%;}#sk-container-id-4 div.sk-parallel-item:last-child::after {align-self: flex-start;width: 50%;}#sk-container-id-4 div.sk-parallel-item:only-child::after {width: 0;}#sk-container-id-4 div.sk-dashed-wrapped {border: 1px dashed gray;margin: 0 0.4em 0.5em 0.4em;box-sizing: border-box;padding-bottom: 0.4em;background-color: white;}#sk-container-id-4 div.sk-label label {font-family: monospace;font-weight: bold;display: inline-block;line-height: 1.2em;}#sk-container-id-4 div.sk-label-container {text-align: center;}#sk-container-id-4 div.sk-container {/* jupyter's `normalize.less` sets `[hidden] { display: none; }` but bootstrap.min.css set `[hidden] { display: none !important; }` so we also need the `!important` here to be able to override the default hidden behavior on the sphinx rendered scikit-learn.org. See: https://github.com/scikit-learn/scikit-learn/issues/21755 */display: inline-block !important;position: relative;}#sk-container-id-4 div.sk-text-repr-fallback {display: none;}</style><div id=\"sk-container-id-4\" class=\"sk-top-container\"><div class=\"sk-text-repr-fallback\"><pre>XGBClassifier(base_score=None, booster=None, callbacks=None,\n",
       "              colsample_bylevel=None, colsample_bynode=None,\n",
       "              colsample_bytree=None, early_stopping_rounds=None,\n",
       "              enable_categorical=False, eval_metric=None, feature_types=None,\n",
       "              gamma=None, gpu_id=None, grow_policy=None, importance_type=None,\n",
       "              interaction_constraints=None, learning_rate=0.01, max_bin=None,\n",
       "              max_cat_threshold=None, max_cat_to_onehot=None,\n",
       "              max_delta_step=None, max_depth=5, max_leaves=None,\n",
       "              min_child_weight=None, missing=nan, monotone_constraints=None,\n",
       "              n_estimators=200, n_jobs=None, num_parallel_tree=None,\n",
       "              predictor=None, random_state=None, ...)</pre><b>In a Jupyter environment, please rerun this cell to show the HTML representation or trust the notebook. <br />On GitHub, the HTML representation is unable to render, please try loading this page with nbviewer.org.</b></div><div class=\"sk-container\" hidden><div class=\"sk-item\"><div class=\"sk-estimator sk-toggleable\"><input class=\"sk-toggleable__control sk-hidden--visually\" id=\"sk-estimator-id-6\" type=\"checkbox\" checked><label for=\"sk-estimator-id-6\" class=\"sk-toggleable__label sk-toggleable__label-arrow\">XGBClassifier</label><div class=\"sk-toggleable__content\"><pre>XGBClassifier(base_score=None, booster=None, callbacks=None,\n",
       "              colsample_bylevel=None, colsample_bynode=None,\n",
       "              colsample_bytree=None, early_stopping_rounds=None,\n",
       "              enable_categorical=False, eval_metric=None, feature_types=None,\n",
       "              gamma=None, gpu_id=None, grow_policy=None, importance_type=None,\n",
       "              interaction_constraints=None, learning_rate=0.01, max_bin=None,\n",
       "              max_cat_threshold=None, max_cat_to_onehot=None,\n",
       "              max_delta_step=None, max_depth=5, max_leaves=None,\n",
       "              min_child_weight=None, missing=nan, monotone_constraints=None,\n",
       "              n_estimators=200, n_jobs=None, num_parallel_tree=None,\n",
       "              predictor=None, random_state=None, ...)</pre></div></div></div></div></div>"
      ],
      "text/plain": [
       "XGBClassifier(base_score=None, booster=None, callbacks=None,\n",
       "              colsample_bylevel=None, colsample_bynode=None,\n",
       "              colsample_bytree=None, early_stopping_rounds=None,\n",
       "              enable_categorical=False, eval_metric=None, feature_types=None,\n",
       "              gamma=None, gpu_id=None, grow_policy=None, importance_type=None,\n",
       "              interaction_constraints=None, learning_rate=0.01, max_bin=None,\n",
       "              max_cat_threshold=None, max_cat_to_onehot=None,\n",
       "              max_delta_step=None, max_depth=5, max_leaves=None,\n",
       "              min_child_weight=None, missing=nan, monotone_constraints=None,\n",
       "              n_estimators=200, n_jobs=None, num_parallel_tree=None,\n",
       "              predictor=None, random_state=None, ...)"
      ]
     },
     "execution_count": 82,
     "metadata": {},
     "output_type": "execute_result"
    }
   ],
   "source": [
    "XBC = XGBClassifier(learning_rate=0.01,max_depth=5,n_estimators=200)\n",
    "XBC.fit(x_train_res,y_train_res)"
   ]
  },
  {
   "cell_type": "code",
   "execution_count": 83,
   "id": "cb1b65c2",
   "metadata": {},
   "outputs": [
    {
     "data": {
      "text/plain": [
       "0.9988610478359908"
      ]
     },
     "execution_count": 83,
     "metadata": {},
     "output_type": "execute_result"
    }
   ],
   "source": [
    "XBC.score(x_test_res,y_test_res)"
   ]
  },
  {
   "cell_type": "code",
   "execution_count": 84,
   "id": "9fea2150",
   "metadata": {},
   "outputs": [],
   "source": [
    "y_pred = XBC.predict(x_test_res)"
   ]
  },
  {
   "cell_type": "code",
   "execution_count": 85,
   "id": "74c7e810",
   "metadata": {},
   "outputs": [
    {
     "data": {
      "text/plain": [
       "0.9988610478359908"
      ]
     },
     "execution_count": 85,
     "metadata": {},
     "output_type": "execute_result"
    }
   ],
   "source": [
    "metrics.accuracy_score(y_test_res,y_pred)"
   ]
  },
  {
   "cell_type": "code",
   "execution_count": 86,
   "id": "cde6cbae",
   "metadata": {},
   "outputs": [
    {
     "data": {
      "text/html": [
       "<style>#sk-container-id-5 {color: black;background-color: white;}#sk-container-id-5 pre{padding: 0;}#sk-container-id-5 div.sk-toggleable {background-color: white;}#sk-container-id-5 label.sk-toggleable__label {cursor: pointer;display: block;width: 100%;margin-bottom: 0;padding: 0.3em;box-sizing: border-box;text-align: center;}#sk-container-id-5 label.sk-toggleable__label-arrow:before {content: \"▸\";float: left;margin-right: 0.25em;color: #696969;}#sk-container-id-5 label.sk-toggleable__label-arrow:hover:before {color: black;}#sk-container-id-5 div.sk-estimator:hover label.sk-toggleable__label-arrow:before {color: black;}#sk-container-id-5 div.sk-toggleable__content {max-height: 0;max-width: 0;overflow: hidden;text-align: left;background-color: #f0f8ff;}#sk-container-id-5 div.sk-toggleable__content pre {margin: 0.2em;color: black;border-radius: 0.25em;background-color: #f0f8ff;}#sk-container-id-5 input.sk-toggleable__control:checked~div.sk-toggleable__content {max-height: 200px;max-width: 100%;overflow: auto;}#sk-container-id-5 input.sk-toggleable__control:checked~label.sk-toggleable__label-arrow:before {content: \"▾\";}#sk-container-id-5 div.sk-estimator input.sk-toggleable__control:checked~label.sk-toggleable__label {background-color: #d4ebff;}#sk-container-id-5 div.sk-label input.sk-toggleable__control:checked~label.sk-toggleable__label {background-color: #d4ebff;}#sk-container-id-5 input.sk-hidden--visually {border: 0;clip: rect(1px 1px 1px 1px);clip: rect(1px, 1px, 1px, 1px);height: 1px;margin: -1px;overflow: hidden;padding: 0;position: absolute;width: 1px;}#sk-container-id-5 div.sk-estimator {font-family: monospace;background-color: #f0f8ff;border: 1px dotted black;border-radius: 0.25em;box-sizing: border-box;margin-bottom: 0.5em;}#sk-container-id-5 div.sk-estimator:hover {background-color: #d4ebff;}#sk-container-id-5 div.sk-parallel-item::after {content: \"\";width: 100%;border-bottom: 1px solid gray;flex-grow: 1;}#sk-container-id-5 div.sk-label:hover label.sk-toggleable__label {background-color: #d4ebff;}#sk-container-id-5 div.sk-serial::before {content: \"\";position: absolute;border-left: 1px solid gray;box-sizing: border-box;top: 0;bottom: 0;left: 50%;z-index: 0;}#sk-container-id-5 div.sk-serial {display: flex;flex-direction: column;align-items: center;background-color: white;padding-right: 0.2em;padding-left: 0.2em;position: relative;}#sk-container-id-5 div.sk-item {position: relative;z-index: 1;}#sk-container-id-5 div.sk-parallel {display: flex;align-items: stretch;justify-content: center;background-color: white;position: relative;}#sk-container-id-5 div.sk-item::before, #sk-container-id-5 div.sk-parallel-item::before {content: \"\";position: absolute;border-left: 1px solid gray;box-sizing: border-box;top: 0;bottom: 0;left: 50%;z-index: -1;}#sk-container-id-5 div.sk-parallel-item {display: flex;flex-direction: column;z-index: 1;position: relative;background-color: white;}#sk-container-id-5 div.sk-parallel-item:first-child::after {align-self: flex-end;width: 50%;}#sk-container-id-5 div.sk-parallel-item:last-child::after {align-self: flex-start;width: 50%;}#sk-container-id-5 div.sk-parallel-item:only-child::after {width: 0;}#sk-container-id-5 div.sk-dashed-wrapped {border: 1px dashed gray;margin: 0 0.4em 0.5em 0.4em;box-sizing: border-box;padding-bottom: 0.4em;background-color: white;}#sk-container-id-5 div.sk-label label {font-family: monospace;font-weight: bold;display: inline-block;line-height: 1.2em;}#sk-container-id-5 div.sk-label-container {text-align: center;}#sk-container-id-5 div.sk-container {/* jupyter's `normalize.less` sets `[hidden] { display: none; }` but bootstrap.min.css set `[hidden] { display: none !important; }` so we also need the `!important` here to be able to override the default hidden behavior on the sphinx rendered scikit-learn.org. See: https://github.com/scikit-learn/scikit-learn/issues/21755 */display: inline-block !important;position: relative;}#sk-container-id-5 div.sk-text-repr-fallback {display: none;}</style><div id=\"sk-container-id-5\" class=\"sk-top-container\"><div class=\"sk-text-repr-fallback\"><pre>RandomForestRegressor()</pre><b>In a Jupyter environment, please rerun this cell to show the HTML representation or trust the notebook. <br />On GitHub, the HTML representation is unable to render, please try loading this page with nbviewer.org.</b></div><div class=\"sk-container\" hidden><div class=\"sk-item\"><div class=\"sk-estimator sk-toggleable\"><input class=\"sk-toggleable__control sk-hidden--visually\" id=\"sk-estimator-id-7\" type=\"checkbox\" checked><label for=\"sk-estimator-id-7\" class=\"sk-toggleable__label sk-toggleable__label-arrow\">RandomForestRegressor</label><div class=\"sk-toggleable__content\"><pre>RandomForestRegressor()</pre></div></div></div></div></div>"
      ],
      "text/plain": [
       "RandomForestRegressor()"
      ]
     },
     "execution_count": 86,
     "metadata": {},
     "output_type": "execute_result"
    }
   ],
   "source": [
    "from sklearn.ensemble import RandomForestRegressor\n",
    "rfr = RandomForestRegressor()\n",
    "rfr.fit(x_train,y_train)"
   ]
  },
  {
   "cell_type": "code",
   "execution_count": 87,
   "id": "4e88c5d1",
   "metadata": {},
   "outputs": [
    {
     "name": "stdout",
     "output_type": "stream",
     "text": [
      "Train_model_score: 0.9928308160427552\n",
      "Test_model_score: 0.984167117574908\n"
     ]
    }
   ],
   "source": [
    "print(f\"Train_model_score: {rfr.score(x_train,y_train)}\")\n",
    "print(f\"Test_model_score: {rfr.score(x_test,y_test)}\")"
   ]
  },
  {
   "cell_type": "code",
   "execution_count": 88,
   "id": "0a5b113c",
   "metadata": {},
   "outputs": [],
   "source": [
    "grid_params = {\"n_estimators\" : [10,100],\n",
    "              \"max_depth\" : range(2,10,1),\n",
    "              \"max_features\" : ['log2']\n",
    "              }"
   ]
  },
  {
   "cell_type": "code",
   "execution_count": 89,
   "id": "7da9d182",
   "metadata": {},
   "outputs": [],
   "source": [
    "from sklearn.model_selection import GridSearchCV\n",
    "grid_search = GridSearchCV(estimator=rfr,param_grid=grid_params,cv=5,n_jobs=-1,verbose=3)"
   ]
  },
  {
   "cell_type": "code",
   "execution_count": 90,
   "id": "1115a8c7",
   "metadata": {},
   "outputs": [
    {
     "name": "stdout",
     "output_type": "stream",
     "text": [
      "Fitting 5 folds for each of 16 candidates, totalling 80 fits\n"
     ]
    }
   ],
   "source": [
    "grid_search.fit(x_train,y_train)"
   ]
  },
  {
   "cell_type": "code",
   "execution_count": null,
   "id": "723634fd",
   "metadata": {},
   "outputs": [
    {
     "data": {
      "text/plain": [
       "{'max_depth': 9, 'max_features': 'log2', 'n_estimators': 10}"
      ]
     },
     "execution_count": 92,
     "metadata": {},
     "output_type": "execute_result"
    }
   ],
   "source": [
    "grid_search.best_params_"
   ]
  },
  {
   "cell_type": "code",
   "execution_count": null,
   "id": "97467d0f",
   "metadata": {},
   "outputs": [],
   "source": [
    "rfr2 = RandomForestRegressor(n_estimators=100,max_depth=10,max_features='log2')"
   ]
  },
  {
   "cell_type": "code",
   "execution_count": null,
   "id": "bb94c8e2",
   "metadata": {},
   "outputs": [
    {
     "data": {
      "text/html": [
       "<style>#sk-container-id-12 {color: black;background-color: white;}#sk-container-id-12 pre{padding: 0;}#sk-container-id-12 div.sk-toggleable {background-color: white;}#sk-container-id-12 label.sk-toggleable__label {cursor: pointer;display: block;width: 100%;margin-bottom: 0;padding: 0.3em;box-sizing: border-box;text-align: center;}#sk-container-id-12 label.sk-toggleable__label-arrow:before {content: \"▸\";float: left;margin-right: 0.25em;color: #696969;}#sk-container-id-12 label.sk-toggleable__label-arrow:hover:before {color: black;}#sk-container-id-12 div.sk-estimator:hover label.sk-toggleable__label-arrow:before {color: black;}#sk-container-id-12 div.sk-toggleable__content {max-height: 0;max-width: 0;overflow: hidden;text-align: left;background-color: #f0f8ff;}#sk-container-id-12 div.sk-toggleable__content pre {margin: 0.2em;color: black;border-radius: 0.25em;background-color: #f0f8ff;}#sk-container-id-12 input.sk-toggleable__control:checked~div.sk-toggleable__content {max-height: 200px;max-width: 100%;overflow: auto;}#sk-container-id-12 input.sk-toggleable__control:checked~label.sk-toggleable__label-arrow:before {content: \"▾\";}#sk-container-id-12 div.sk-estimator input.sk-toggleable__control:checked~label.sk-toggleable__label {background-color: #d4ebff;}#sk-container-id-12 div.sk-label input.sk-toggleable__control:checked~label.sk-toggleable__label {background-color: #d4ebff;}#sk-container-id-12 input.sk-hidden--visually {border: 0;clip: rect(1px 1px 1px 1px);clip: rect(1px, 1px, 1px, 1px);height: 1px;margin: -1px;overflow: hidden;padding: 0;position: absolute;width: 1px;}#sk-container-id-12 div.sk-estimator {font-family: monospace;background-color: #f0f8ff;border: 1px dotted black;border-radius: 0.25em;box-sizing: border-box;margin-bottom: 0.5em;}#sk-container-id-12 div.sk-estimator:hover {background-color: #d4ebff;}#sk-container-id-12 div.sk-parallel-item::after {content: \"\";width: 100%;border-bottom: 1px solid gray;flex-grow: 1;}#sk-container-id-12 div.sk-label:hover label.sk-toggleable__label {background-color: #d4ebff;}#sk-container-id-12 div.sk-serial::before {content: \"\";position: absolute;border-left: 1px solid gray;box-sizing: border-box;top: 0;bottom: 0;left: 50%;z-index: 0;}#sk-container-id-12 div.sk-serial {display: flex;flex-direction: column;align-items: center;background-color: white;padding-right: 0.2em;padding-left: 0.2em;position: relative;}#sk-container-id-12 div.sk-item {position: relative;z-index: 1;}#sk-container-id-12 div.sk-parallel {display: flex;align-items: stretch;justify-content: center;background-color: white;position: relative;}#sk-container-id-12 div.sk-item::before, #sk-container-id-12 div.sk-parallel-item::before {content: \"\";position: absolute;border-left: 1px solid gray;box-sizing: border-box;top: 0;bottom: 0;left: 50%;z-index: -1;}#sk-container-id-12 div.sk-parallel-item {display: flex;flex-direction: column;z-index: 1;position: relative;background-color: white;}#sk-container-id-12 div.sk-parallel-item:first-child::after {align-self: flex-end;width: 50%;}#sk-container-id-12 div.sk-parallel-item:last-child::after {align-self: flex-start;width: 50%;}#sk-container-id-12 div.sk-parallel-item:only-child::after {width: 0;}#sk-container-id-12 div.sk-dashed-wrapped {border: 1px dashed gray;margin: 0 0.4em 0.5em 0.4em;box-sizing: border-box;padding-bottom: 0.4em;background-color: white;}#sk-container-id-12 div.sk-label label {font-family: monospace;font-weight: bold;display: inline-block;line-height: 1.2em;}#sk-container-id-12 div.sk-label-container {text-align: center;}#sk-container-id-12 div.sk-container {/* jupyter's `normalize.less` sets `[hidden] { display: none; }` but bootstrap.min.css set `[hidden] { display: none !important; }` so we also need the `!important` here to be able to override the default hidden behavior on the sphinx rendered scikit-learn.org. See: https://github.com/scikit-learn/scikit-learn/issues/21755 */display: inline-block !important;position: relative;}#sk-container-id-12 div.sk-text-repr-fallback {display: none;}</style><div id=\"sk-container-id-12\" class=\"sk-top-container\"><div class=\"sk-text-repr-fallback\"><pre>RandomForestRegressor(max_depth=10, max_features=&#x27;log2&#x27;)</pre><b>In a Jupyter environment, please rerun this cell to show the HTML representation or trust the notebook. <br />On GitHub, the HTML representation is unable to render, please try loading this page with nbviewer.org.</b></div><div class=\"sk-container\" hidden><div class=\"sk-item\"><div class=\"sk-estimator sk-toggleable\"><input class=\"sk-toggleable__control sk-hidden--visually\" id=\"sk-estimator-id-18\" type=\"checkbox\" checked><label for=\"sk-estimator-id-18\" class=\"sk-toggleable__label sk-toggleable__label-arrow\">RandomForestRegressor</label><div class=\"sk-toggleable__content\"><pre>RandomForestRegressor(max_depth=10, max_features=&#x27;log2&#x27;)</pre></div></div></div></div></div>"
      ],
      "text/plain": [
       "RandomForestRegressor(max_depth=10, max_features='log2')"
      ]
     },
     "execution_count": 116,
     "metadata": {},
     "output_type": "execute_result"
    }
   ],
   "source": [
    "rfr2.fit(x_train,y_train)"
   ]
  },
  {
   "cell_type": "code",
   "execution_count": null,
   "id": "8379a76e",
   "metadata": {},
   "outputs": [
    {
     "data": {
      "text/plain": [
       "0.8837919470333327"
      ]
     },
     "execution_count": 117,
     "metadata": {},
     "output_type": "execute_result"
    }
   ],
   "source": [
    "rfr2.score(x_test,y_test)"
   ]
  },
  {
   "cell_type": "code",
   "execution_count": null,
   "id": "35c786ba",
   "metadata": {},
   "outputs": [],
   "source": [
    "y_pred = rfr2.predict(x_test)"
   ]
  },
  {
   "cell_type": "code",
   "execution_count": null,
   "id": "7919c2a1",
   "metadata": {},
   "outputs": [],
   "source": [
    "#### DecisionTreeClassifier"
   ]
  },
  {
   "cell_type": "code",
   "execution_count": null,
   "id": "2f843f01",
   "metadata": {},
   "outputs": [
    {
     "data": {
      "text/plain": [
       "0.9968186638388123"
      ]
     },
     "execution_count": 122,
     "metadata": {},
     "output_type": "execute_result"
    }
   ],
   "source": [
    "from sklearn.tree import DecisionTreeClassifier\n",
    "dtc = DecisionTreeClassifier()\n",
    "dtc.fit(x_train,y_train)\n",
    "dtc.score(x_test,y_test)"
   ]
  },
  {
   "cell_type": "code",
   "execution_count": null,
   "id": "ad9348b9",
   "metadata": {},
   "outputs": [],
   "source": [
    "y_pred = dtc.predict(x_test)"
   ]
  },
  {
   "cell_type": "code",
   "execution_count": null,
   "id": "de090e7e",
   "metadata": {},
   "outputs": [
    {
     "data": {
      "text/plain": [
       "0.9968186638388123"
      ]
     },
     "execution_count": 124,
     "metadata": {},
     "output_type": "execute_result"
    }
   ],
   "source": [
    "Accuracy_score = metrics.accuracy_score(y_test,y_pred)\n",
    "Accuracy_score"
   ]
  },
  {
   "cell_type": "code",
   "execution_count": null,
   "id": "99708f4b",
   "metadata": {},
   "outputs": [
    {
     "data": {
      "text/plain": [
       "array([[877,   1],\n",
       "       [  2,  63]], dtype=int64)"
      ]
     },
     "execution_count": 125,
     "metadata": {},
     "output_type": "execute_result"
    }
   ],
   "source": [
    "con_matrix = metrics.confusion_matrix(y_test,y_pred)\n",
    "con_matrix"
   ]
  },
  {
   "cell_type": "code",
   "execution_count": null,
   "id": "76754c7e",
   "metadata": {},
   "outputs": [],
   "source": [
    "grid_param = {\n",
    "    'criterion': ['gini', 'entropy'],\n",
    "    'max_depth' : range(2,32,1),\n",
    "    'splitter' : ['best', 'random']\n",
    "}"
   ]
  },
  {
   "cell_type": "code",
   "execution_count": null,
   "id": "486b4d6a",
   "metadata": {},
   "outputs": [],
   "source": [
    "from sklearn.model_selection import GridSearchCV\n",
    "grid_search = GridSearchCV(estimator=dtc,\n",
    "                     param_grid=grid_param,\n",
    "                     cv=5,\n",
    "                    n_jobs =-1)"
   ]
  },
  {
   "cell_type": "code",
   "execution_count": null,
   "id": "64ac46a5",
   "metadata": {},
   "outputs": [
    {
     "data": {
      "text/html": [
       "<style>#sk-container-id-13 {color: black;background-color: white;}#sk-container-id-13 pre{padding: 0;}#sk-container-id-13 div.sk-toggleable {background-color: white;}#sk-container-id-13 label.sk-toggleable__label {cursor: pointer;display: block;width: 100%;margin-bottom: 0;padding: 0.3em;box-sizing: border-box;text-align: center;}#sk-container-id-13 label.sk-toggleable__label-arrow:before {content: \"▸\";float: left;margin-right: 0.25em;color: #696969;}#sk-container-id-13 label.sk-toggleable__label-arrow:hover:before {color: black;}#sk-container-id-13 div.sk-estimator:hover label.sk-toggleable__label-arrow:before {color: black;}#sk-container-id-13 div.sk-toggleable__content {max-height: 0;max-width: 0;overflow: hidden;text-align: left;background-color: #f0f8ff;}#sk-container-id-13 div.sk-toggleable__content pre {margin: 0.2em;color: black;border-radius: 0.25em;background-color: #f0f8ff;}#sk-container-id-13 input.sk-toggleable__control:checked~div.sk-toggleable__content {max-height: 200px;max-width: 100%;overflow: auto;}#sk-container-id-13 input.sk-toggleable__control:checked~label.sk-toggleable__label-arrow:before {content: \"▾\";}#sk-container-id-13 div.sk-estimator input.sk-toggleable__control:checked~label.sk-toggleable__label {background-color: #d4ebff;}#sk-container-id-13 div.sk-label input.sk-toggleable__control:checked~label.sk-toggleable__label {background-color: #d4ebff;}#sk-container-id-13 input.sk-hidden--visually {border: 0;clip: rect(1px 1px 1px 1px);clip: rect(1px, 1px, 1px, 1px);height: 1px;margin: -1px;overflow: hidden;padding: 0;position: absolute;width: 1px;}#sk-container-id-13 div.sk-estimator {font-family: monospace;background-color: #f0f8ff;border: 1px dotted black;border-radius: 0.25em;box-sizing: border-box;margin-bottom: 0.5em;}#sk-container-id-13 div.sk-estimator:hover {background-color: #d4ebff;}#sk-container-id-13 div.sk-parallel-item::after {content: \"\";width: 100%;border-bottom: 1px solid gray;flex-grow: 1;}#sk-container-id-13 div.sk-label:hover label.sk-toggleable__label {background-color: #d4ebff;}#sk-container-id-13 div.sk-serial::before {content: \"\";position: absolute;border-left: 1px solid gray;box-sizing: border-box;top: 0;bottom: 0;left: 50%;z-index: 0;}#sk-container-id-13 div.sk-serial {display: flex;flex-direction: column;align-items: center;background-color: white;padding-right: 0.2em;padding-left: 0.2em;position: relative;}#sk-container-id-13 div.sk-item {position: relative;z-index: 1;}#sk-container-id-13 div.sk-parallel {display: flex;align-items: stretch;justify-content: center;background-color: white;position: relative;}#sk-container-id-13 div.sk-item::before, #sk-container-id-13 div.sk-parallel-item::before {content: \"\";position: absolute;border-left: 1px solid gray;box-sizing: border-box;top: 0;bottom: 0;left: 50%;z-index: -1;}#sk-container-id-13 div.sk-parallel-item {display: flex;flex-direction: column;z-index: 1;position: relative;background-color: white;}#sk-container-id-13 div.sk-parallel-item:first-child::after {align-self: flex-end;width: 50%;}#sk-container-id-13 div.sk-parallel-item:last-child::after {align-self: flex-start;width: 50%;}#sk-container-id-13 div.sk-parallel-item:only-child::after {width: 0;}#sk-container-id-13 div.sk-dashed-wrapped {border: 1px dashed gray;margin: 0 0.4em 0.5em 0.4em;box-sizing: border-box;padding-bottom: 0.4em;background-color: white;}#sk-container-id-13 div.sk-label label {font-family: monospace;font-weight: bold;display: inline-block;line-height: 1.2em;}#sk-container-id-13 div.sk-label-container {text-align: center;}#sk-container-id-13 div.sk-container {/* jupyter's `normalize.less` sets `[hidden] { display: none; }` but bootstrap.min.css set `[hidden] { display: none !important; }` so we also need the `!important` here to be able to override the default hidden behavior on the sphinx rendered scikit-learn.org. See: https://github.com/scikit-learn/scikit-learn/issues/21755 */display: inline-block !important;position: relative;}#sk-container-id-13 div.sk-text-repr-fallback {display: none;}</style><div id=\"sk-container-id-13\" class=\"sk-top-container\"><div class=\"sk-text-repr-fallback\"><pre>GridSearchCV(cv=5, estimator=DecisionTreeClassifier(), n_jobs=-1,\n",
       "             param_grid={&#x27;criterion&#x27;: [&#x27;gini&#x27;, &#x27;entropy&#x27;],\n",
       "                         &#x27;max_depth&#x27;: range(2, 32),\n",
       "                         &#x27;splitter&#x27;: [&#x27;best&#x27;, &#x27;random&#x27;]})</pre><b>In a Jupyter environment, please rerun this cell to show the HTML representation or trust the notebook. <br />On GitHub, the HTML representation is unable to render, please try loading this page with nbviewer.org.</b></div><div class=\"sk-container\" hidden><div class=\"sk-item sk-dashed-wrapped\"><div class=\"sk-label-container\"><div class=\"sk-label sk-toggleable\"><input class=\"sk-toggleable__control sk-hidden--visually\" id=\"sk-estimator-id-19\" type=\"checkbox\" ><label for=\"sk-estimator-id-19\" class=\"sk-toggleable__label sk-toggleable__label-arrow\">GridSearchCV</label><div class=\"sk-toggleable__content\"><pre>GridSearchCV(cv=5, estimator=DecisionTreeClassifier(), n_jobs=-1,\n",
       "             param_grid={&#x27;criterion&#x27;: [&#x27;gini&#x27;, &#x27;entropy&#x27;],\n",
       "                         &#x27;max_depth&#x27;: range(2, 32),\n",
       "                         &#x27;splitter&#x27;: [&#x27;best&#x27;, &#x27;random&#x27;]})</pre></div></div></div><div class=\"sk-parallel\"><div class=\"sk-parallel-item\"><div class=\"sk-item\"><div class=\"sk-label-container\"><div class=\"sk-label sk-toggleable\"><input class=\"sk-toggleable__control sk-hidden--visually\" id=\"sk-estimator-id-20\" type=\"checkbox\" ><label for=\"sk-estimator-id-20\" class=\"sk-toggleable__label sk-toggleable__label-arrow\">estimator: DecisionTreeClassifier</label><div class=\"sk-toggleable__content\"><pre>DecisionTreeClassifier()</pre></div></div></div><div class=\"sk-serial\"><div class=\"sk-item\"><div class=\"sk-estimator sk-toggleable\"><input class=\"sk-toggleable__control sk-hidden--visually\" id=\"sk-estimator-id-21\" type=\"checkbox\" ><label for=\"sk-estimator-id-21\" class=\"sk-toggleable__label sk-toggleable__label-arrow\">DecisionTreeClassifier</label><div class=\"sk-toggleable__content\"><pre>DecisionTreeClassifier()</pre></div></div></div></div></div></div></div></div></div></div>"
      ],
      "text/plain": [
       "GridSearchCV(cv=5, estimator=DecisionTreeClassifier(), n_jobs=-1,\n",
       "             param_grid={'criterion': ['gini', 'entropy'],\n",
       "                         'max_depth': range(2, 32),\n",
       "                         'splitter': ['best', 'random']})"
      ]
     },
     "execution_count": 128,
     "metadata": {},
     "output_type": "execute_result"
    }
   ],
   "source": [
    "grid_search.fit(x_train,y_train)"
   ]
  },
  {
   "cell_type": "code",
   "execution_count": null,
   "id": "e8041126",
   "metadata": {},
   "outputs": [
    {
     "name": "stdout",
     "output_type": "stream",
     "text": [
      "{'criterion': 'gini', 'max_depth': 4, 'splitter': 'best'}\n"
     ]
    },
    {
     "data": {
      "text/plain": [
       "0.9964651802745552"
      ]
     },
     "execution_count": 130,
     "metadata": {},
     "output_type": "execute_result"
    }
   ],
   "source": [
    "best_parameters=grid_search.best_params_\n",
    "print(best_parameters)\n",
    "\n",
    "grid_search.best_score_"
   ]
  },
  {
   "cell_type": "code",
   "execution_count": null,
   "id": "7bdda96c",
   "metadata": {},
   "outputs": [
    {
     "data": {
      "text/html": [
       "<style>#sk-container-id-14 {color: black;background-color: white;}#sk-container-id-14 pre{padding: 0;}#sk-container-id-14 div.sk-toggleable {background-color: white;}#sk-container-id-14 label.sk-toggleable__label {cursor: pointer;display: block;width: 100%;margin-bottom: 0;padding: 0.3em;box-sizing: border-box;text-align: center;}#sk-container-id-14 label.sk-toggleable__label-arrow:before {content: \"▸\";float: left;margin-right: 0.25em;color: #696969;}#sk-container-id-14 label.sk-toggleable__label-arrow:hover:before {color: black;}#sk-container-id-14 div.sk-estimator:hover label.sk-toggleable__label-arrow:before {color: black;}#sk-container-id-14 div.sk-toggleable__content {max-height: 0;max-width: 0;overflow: hidden;text-align: left;background-color: #f0f8ff;}#sk-container-id-14 div.sk-toggleable__content pre {margin: 0.2em;color: black;border-radius: 0.25em;background-color: #f0f8ff;}#sk-container-id-14 input.sk-toggleable__control:checked~div.sk-toggleable__content {max-height: 200px;max-width: 100%;overflow: auto;}#sk-container-id-14 input.sk-toggleable__control:checked~label.sk-toggleable__label-arrow:before {content: \"▾\";}#sk-container-id-14 div.sk-estimator input.sk-toggleable__control:checked~label.sk-toggleable__label {background-color: #d4ebff;}#sk-container-id-14 div.sk-label input.sk-toggleable__control:checked~label.sk-toggleable__label {background-color: #d4ebff;}#sk-container-id-14 input.sk-hidden--visually {border: 0;clip: rect(1px 1px 1px 1px);clip: rect(1px, 1px, 1px, 1px);height: 1px;margin: -1px;overflow: hidden;padding: 0;position: absolute;width: 1px;}#sk-container-id-14 div.sk-estimator {font-family: monospace;background-color: #f0f8ff;border: 1px dotted black;border-radius: 0.25em;box-sizing: border-box;margin-bottom: 0.5em;}#sk-container-id-14 div.sk-estimator:hover {background-color: #d4ebff;}#sk-container-id-14 div.sk-parallel-item::after {content: \"\";width: 100%;border-bottom: 1px solid gray;flex-grow: 1;}#sk-container-id-14 div.sk-label:hover label.sk-toggleable__label {background-color: #d4ebff;}#sk-container-id-14 div.sk-serial::before {content: \"\";position: absolute;border-left: 1px solid gray;box-sizing: border-box;top: 0;bottom: 0;left: 50%;z-index: 0;}#sk-container-id-14 div.sk-serial {display: flex;flex-direction: column;align-items: center;background-color: white;padding-right: 0.2em;padding-left: 0.2em;position: relative;}#sk-container-id-14 div.sk-item {position: relative;z-index: 1;}#sk-container-id-14 div.sk-parallel {display: flex;align-items: stretch;justify-content: center;background-color: white;position: relative;}#sk-container-id-14 div.sk-item::before, #sk-container-id-14 div.sk-parallel-item::before {content: \"\";position: absolute;border-left: 1px solid gray;box-sizing: border-box;top: 0;bottom: 0;left: 50%;z-index: -1;}#sk-container-id-14 div.sk-parallel-item {display: flex;flex-direction: column;z-index: 1;position: relative;background-color: white;}#sk-container-id-14 div.sk-parallel-item:first-child::after {align-self: flex-end;width: 50%;}#sk-container-id-14 div.sk-parallel-item:last-child::after {align-self: flex-start;width: 50%;}#sk-container-id-14 div.sk-parallel-item:only-child::after {width: 0;}#sk-container-id-14 div.sk-dashed-wrapped {border: 1px dashed gray;margin: 0 0.4em 0.5em 0.4em;box-sizing: border-box;padding-bottom: 0.4em;background-color: white;}#sk-container-id-14 div.sk-label label {font-family: monospace;font-weight: bold;display: inline-block;line-height: 1.2em;}#sk-container-id-14 div.sk-label-container {text-align: center;}#sk-container-id-14 div.sk-container {/* jupyter's `normalize.less` sets `[hidden] { display: none; }` but bootstrap.min.css set `[hidden] { display: none !important; }` so we also need the `!important` here to be able to override the default hidden behavior on the sphinx rendered scikit-learn.org. See: https://github.com/scikit-learn/scikit-learn/issues/21755 */display: inline-block !important;position: relative;}#sk-container-id-14 div.sk-text-repr-fallback {display: none;}</style><div id=\"sk-container-id-14\" class=\"sk-top-container\"><div class=\"sk-text-repr-fallback\"><pre>DecisionTreeClassifier(max_depth=4)</pre><b>In a Jupyter environment, please rerun this cell to show the HTML representation or trust the notebook. <br />On GitHub, the HTML representation is unable to render, please try loading this page with nbviewer.org.</b></div><div class=\"sk-container\" hidden><div class=\"sk-item\"><div class=\"sk-estimator sk-toggleable\"><input class=\"sk-toggleable__control sk-hidden--visually\" id=\"sk-estimator-id-22\" type=\"checkbox\" checked><label for=\"sk-estimator-id-22\" class=\"sk-toggleable__label sk-toggleable__label-arrow\">DecisionTreeClassifier</label><div class=\"sk-toggleable__content\"><pre>DecisionTreeClassifier(max_depth=4)</pre></div></div></div></div></div>"
      ],
      "text/plain": [
       "DecisionTreeClassifier(max_depth=4)"
      ]
     },
     "execution_count": 132,
     "metadata": {},
     "output_type": "execute_result"
    }
   ],
   "source": [
    "dtc2 = DecisionTreeClassifier(criterion = 'gini', max_depth =4, splitter ='best')\n",
    "dtc2.fit(x_train,y_train)"
   ]
  },
  {
   "cell_type": "code",
   "execution_count": null,
   "id": "0806a042",
   "metadata": {},
   "outputs": [
    {
     "data": {
      "text/plain": [
       "0.9989395546129375"
      ]
     },
     "execution_count": 134,
     "metadata": {},
     "output_type": "execute_result"
    }
   ],
   "source": [
    "dtc2.score(x_test,y_test)"
   ]
  },
  {
   "cell_type": "code",
   "execution_count": null,
   "id": "4b01c6cf",
   "metadata": {},
   "outputs": [],
   "source": []
  }
 ],
 "metadata": {
  "kernelspec": {
   "display_name": "Python 3.8.0 (conda)",
   "language": "python",
   "name": "python3"
  },
  "language_info": {
   "codemirror_mode": {
    "name": "ipython",
    "version": 3
   },
   "file_extension": ".py",
   "mimetype": "text/x-python",
   "name": "python",
   "nbconvert_exporter": "python",
   "pygments_lexer": "ipython3",
   "version": "3.8.0"
  },
  "vscode": {
   "interpreter": {
    "hash": "1762875d695c3b8ce31fc2c385c40c45ae7c7b01a87f50658d419512c57bca88"
   }
  }
 },
 "nbformat": 4,
 "nbformat_minor": 5
}
